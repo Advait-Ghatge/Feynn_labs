{
  "metadata": {
    "kernelspec": {
      "language": "python",
      "display_name": "Python 3",
      "name": "python3"
    },
    "language_info": {
      "pygments_lexer": "ipython3",
      "nbconvert_exporter": "python",
      "version": "3.6.4",
      "file_extension": ".py",
      "codemirror_mode": {
        "name": "ipython",
        "version": 3
      },
      "name": "python",
      "mimetype": "text/x-python"
    },
    "colab": {
      "provenance": []
    }
  },
  "nbformat_minor": 0,
  "nbformat": 4,
  "cells": [
    {
      "cell_type": "code",
      "source": [
        "# This Python 3 environment comes with many helpful analytics libraries installed\n",
        "# It is defined by the kaggle/python Docker image: https://github.com/kaggle/docker-python\n",
        "# For example, here's several helpful packages to load\n",
        "\n",
        "import numpy as np # linear algebra\n",
        "import pandas as pd # data processing, CSV file I/O (e.g. pd.read_csv)\n",
        "\n",
        "# Input data files are available in the read-only \"../input/\" directory\n",
        "# For example, running this (by clicking run or pressing Shift+Enter) will list all files under the input directory\n",
        "\n",
        "import os\n",
        "for dirname, _, filenames in os.walk('/kaggle/input'):\n",
        "    for filename in filenames:\n",
        "        print(os.path.join(dirname, filename))\n",
        "\n",
        "# You can write up to 20GB to the current directory (/kaggle/working/) that gets preserved as output when you create a version using \"Save & Run All\" \n",
        "# You can also write temporary files to /kaggle/temp/, but they won't be saved outside of the current session"
      ],
      "metadata": {
        "_uuid": "8f2839f25d086af736a60e9eeb907d3b93b6e0e5",
        "_cell_guid": "b1076dfc-b9ad-4769-8c92-a6c4dae69d19",
        "execution": {
          "iopub.status.busy": "2022-03-14T19:25:27.245762Z",
          "iopub.execute_input": "2022-03-14T19:25:27.246217Z",
          "iopub.status.idle": "2022-03-14T19:25:27.266421Z",
          "shell.execute_reply.started": "2022-03-14T19:25:27.24609Z",
          "shell.execute_reply": "2022-03-14T19:25:27.265142Z"
        },
        "trusted": true,
        "id": "RI2M9gjOcecY"
      },
      "execution_count": null,
      "outputs": []
    },
    {
      "cell_type": "code",
      "source": [
        "import numpy as np\n",
        "import pandas as pd\n",
        "import matplotlib.pyplot as plt\n",
        "import seaborn as sns"
      ],
      "metadata": {
        "execution": {
          "iopub.status.busy": "2022-03-14T19:25:27.267896Z",
          "iopub.execute_input": "2022-03-14T19:25:27.268139Z",
          "iopub.status.idle": "2022-03-14T19:25:27.842374Z",
          "shell.execute_reply.started": "2022-03-14T19:25:27.26811Z",
          "shell.execute_reply": "2022-03-14T19:25:27.841307Z"
        },
        "trusted": true,
        "id": "iwS0vFnoceca"
      },
      "execution_count": null,
      "outputs": []
    },
    {
      "cell_type": "code",
      "source": [
        "from geopy import distance"
      ],
      "metadata": {
        "execution": {
          "iopub.status.busy": "2022-03-14T19:25:27.843907Z",
          "iopub.execute_input": "2022-03-14T19:25:27.844261Z",
          "iopub.status.idle": "2022-03-14T19:25:27.932196Z",
          "shell.execute_reply.started": "2022-03-14T19:25:27.844205Z",
          "shell.execute_reply": "2022-03-14T19:25:27.931415Z"
        },
        "trusted": true,
        "id": "rDX8JhCScecb"
      },
      "execution_count": null,
      "outputs": []
    },
    {
      "cell_type": "markdown",
      "source": [
        "## Importing Data"
      ],
      "metadata": {
        "id": "DCHEeiZccecb"
      }
    },
    {
      "cell_type": "code",
      "source": [
        "from google.colab import files\n",
        "uploaded = files.upload()"
      ],
      "metadata": {
        "execution": {
          "iopub.status.busy": "2022-03-14T19:25:27.934426Z",
          "iopub.execute_input": "2022-03-14T19:25:27.934869Z",
          "iopub.status.idle": "2022-03-14T19:25:28.148119Z",
          "shell.execute_reply.started": "2022-03-14T19:25:27.934833Z",
          "shell.execute_reply": "2022-03-14T19:25:28.147386Z"
        },
        "trusted": true,
        "colab": {
          "base_uri": "https://localhost:8080/",
          "height": 107
        },
        "id": "N6gSwAYicecd",
        "outputId": "5cc34a61-9918-40b3-e0ed-53e67dcc00e8"
      },
      "execution_count": null,
      "outputs": [
        {
          "output_type": "display_data",
          "data": {
            "text/plain": [
              "<IPython.core.display.HTML object>"
            ],
            "text/html": [
              "\n",
              "     <input type=\"file\" id=\"files-225c3ee4-634e-4ecc-aae5-bd4da41782dd\" name=\"files[]\" multiple disabled\n",
              "        style=\"border:none\" />\n",
              "     <output id=\"result-225c3ee4-634e-4ecc-aae5-bd4da41782dd\">\n",
              "      Upload widget is only available when the cell has been executed in the\n",
              "      current browser session. Please rerun this cell to enable.\n",
              "      </output>\n",
              "      <script>// Copyright 2017 Google LLC\n",
              "//\n",
              "// Licensed under the Apache License, Version 2.0 (the \"License\");\n",
              "// you may not use this file except in compliance with the License.\n",
              "// You may obtain a copy of the License at\n",
              "//\n",
              "//      http://www.apache.org/licenses/LICENSE-2.0\n",
              "//\n",
              "// Unless required by applicable law or agreed to in writing, software\n",
              "// distributed under the License is distributed on an \"AS IS\" BASIS,\n",
              "// WITHOUT WARRANTIES OR CONDITIONS OF ANY KIND, either express or implied.\n",
              "// See the License for the specific language governing permissions and\n",
              "// limitations under the License.\n",
              "\n",
              "/**\n",
              " * @fileoverview Helpers for google.colab Python module.\n",
              " */\n",
              "(function(scope) {\n",
              "function span(text, styleAttributes = {}) {\n",
              "  const element = document.createElement('span');\n",
              "  element.textContent = text;\n",
              "  for (const key of Object.keys(styleAttributes)) {\n",
              "    element.style[key] = styleAttributes[key];\n",
              "  }\n",
              "  return element;\n",
              "}\n",
              "\n",
              "// Max number of bytes which will be uploaded at a time.\n",
              "const MAX_PAYLOAD_SIZE = 100 * 1024;\n",
              "\n",
              "function _uploadFiles(inputId, outputId) {\n",
              "  const steps = uploadFilesStep(inputId, outputId);\n",
              "  const outputElement = document.getElementById(outputId);\n",
              "  // Cache steps on the outputElement to make it available for the next call\n",
              "  // to uploadFilesContinue from Python.\n",
              "  outputElement.steps = steps;\n",
              "\n",
              "  return _uploadFilesContinue(outputId);\n",
              "}\n",
              "\n",
              "// This is roughly an async generator (not supported in the browser yet),\n",
              "// where there are multiple asynchronous steps and the Python side is going\n",
              "// to poll for completion of each step.\n",
              "// This uses a Promise to block the python side on completion of each step,\n",
              "// then passes the result of the previous step as the input to the next step.\n",
              "function _uploadFilesContinue(outputId) {\n",
              "  const outputElement = document.getElementById(outputId);\n",
              "  const steps = outputElement.steps;\n",
              "\n",
              "  const next = steps.next(outputElement.lastPromiseValue);\n",
              "  return Promise.resolve(next.value.promise).then((value) => {\n",
              "    // Cache the last promise value to make it available to the next\n",
              "    // step of the generator.\n",
              "    outputElement.lastPromiseValue = value;\n",
              "    return next.value.response;\n",
              "  });\n",
              "}\n",
              "\n",
              "/**\n",
              " * Generator function which is called between each async step of the upload\n",
              " * process.\n",
              " * @param {string} inputId Element ID of the input file picker element.\n",
              " * @param {string} outputId Element ID of the output display.\n",
              " * @return {!Iterable<!Object>} Iterable of next steps.\n",
              " */\n",
              "function* uploadFilesStep(inputId, outputId) {\n",
              "  const inputElement = document.getElementById(inputId);\n",
              "  inputElement.disabled = false;\n",
              "\n",
              "  const outputElement = document.getElementById(outputId);\n",
              "  outputElement.innerHTML = '';\n",
              "\n",
              "  const pickedPromise = new Promise((resolve) => {\n",
              "    inputElement.addEventListener('change', (e) => {\n",
              "      resolve(e.target.files);\n",
              "    });\n",
              "  });\n",
              "\n",
              "  const cancel = document.createElement('button');\n",
              "  inputElement.parentElement.appendChild(cancel);\n",
              "  cancel.textContent = 'Cancel upload';\n",
              "  const cancelPromise = new Promise((resolve) => {\n",
              "    cancel.onclick = () => {\n",
              "      resolve(null);\n",
              "    };\n",
              "  });\n",
              "\n",
              "  // Wait for the user to pick the files.\n",
              "  const files = yield {\n",
              "    promise: Promise.race([pickedPromise, cancelPromise]),\n",
              "    response: {\n",
              "      action: 'starting',\n",
              "    }\n",
              "  };\n",
              "\n",
              "  cancel.remove();\n",
              "\n",
              "  // Disable the input element since further picks are not allowed.\n",
              "  inputElement.disabled = true;\n",
              "\n",
              "  if (!files) {\n",
              "    return {\n",
              "      response: {\n",
              "        action: 'complete',\n",
              "      }\n",
              "    };\n",
              "  }\n",
              "\n",
              "  for (const file of files) {\n",
              "    const li = document.createElement('li');\n",
              "    li.append(span(file.name, {fontWeight: 'bold'}));\n",
              "    li.append(span(\n",
              "        `(${file.type || 'n/a'}) - ${file.size} bytes, ` +\n",
              "        `last modified: ${\n",
              "            file.lastModifiedDate ? file.lastModifiedDate.toLocaleDateString() :\n",
              "                                    'n/a'} - `));\n",
              "    const percent = span('0% done');\n",
              "    li.appendChild(percent);\n",
              "\n",
              "    outputElement.appendChild(li);\n",
              "\n",
              "    const fileDataPromise = new Promise((resolve) => {\n",
              "      const reader = new FileReader();\n",
              "      reader.onload = (e) => {\n",
              "        resolve(e.target.result);\n",
              "      };\n",
              "      reader.readAsArrayBuffer(file);\n",
              "    });\n",
              "    // Wait for the data to be ready.\n",
              "    let fileData = yield {\n",
              "      promise: fileDataPromise,\n",
              "      response: {\n",
              "        action: 'continue',\n",
              "      }\n",
              "    };\n",
              "\n",
              "    // Use a chunked sending to avoid message size limits. See b/62115660.\n",
              "    let position = 0;\n",
              "    do {\n",
              "      const length = Math.min(fileData.byteLength - position, MAX_PAYLOAD_SIZE);\n",
              "      const chunk = new Uint8Array(fileData, position, length);\n",
              "      position += length;\n",
              "\n",
              "      const base64 = btoa(String.fromCharCode.apply(null, chunk));\n",
              "      yield {\n",
              "        response: {\n",
              "          action: 'append',\n",
              "          file: file.name,\n",
              "          data: base64,\n",
              "        },\n",
              "      };\n",
              "\n",
              "      let percentDone = fileData.byteLength === 0 ?\n",
              "          100 :\n",
              "          Math.round((position / fileData.byteLength) * 100);\n",
              "      percent.textContent = `${percentDone}% done`;\n",
              "\n",
              "    } while (position < fileData.byteLength);\n",
              "  }\n",
              "\n",
              "  // All done.\n",
              "  yield {\n",
              "    response: {\n",
              "      action: 'complete',\n",
              "    }\n",
              "  };\n",
              "}\n",
              "\n",
              "scope.google = scope.google || {};\n",
              "scope.google.colab = scope.google.colab || {};\n",
              "scope.google.colab._files = {\n",
              "  _uploadFiles,\n",
              "  _uploadFilesContinue,\n",
              "};\n",
              "})(self);\n",
              "</script> "
            ]
          },
          "metadata": {}
        },
        {
          "output_type": "stream",
          "name": "stdout",
          "text": [
            "Saving YourCabs_score.csv to YourCabs_score (1).csv\n",
            "Saving YourCabs_training.csv to YourCabs_training (1).csv\n"
          ]
        }
      ]
    },
    {
      "cell_type": "code",
      "source": [
        "from geopy import distance"
      ],
      "metadata": {
        "id": "XmKS0NwTeRbu"
      },
      "execution_count": null,
      "outputs": []
    },
    {
      "cell_type": "code",
      "source": [
        "df=pd.read_csv(\"YourCabs_training.csv\")"
      ],
      "metadata": {
        "id": "7H-SEze7eS2W"
      },
      "execution_count": null,
      "outputs": []
    },
    {
      "cell_type": "code",
      "source": [
        "df.head()"
      ],
      "metadata": {
        "execution": {
          "iopub.status.busy": "2022-03-14T19:25:28.149356Z",
          "iopub.execute_input": "2022-03-14T19:25:28.149762Z",
          "iopub.status.idle": "2022-03-14T19:25:28.178332Z",
          "shell.execute_reply.started": "2022-03-14T19:25:28.149729Z",
          "shell.execute_reply": "2022-03-14T19:25:28.177238Z"
        },
        "trusted": true,
        "colab": {
          "base_uri": "https://localhost:8080/",
          "height": 357
        },
        "id": "T6n8Bg3lcecf",
        "outputId": "727698f6-cd10-4064-c657-4c69b5d42434"
      },
      "execution_count": null,
      "outputs": [
        {
          "output_type": "execute_result",
          "data": {
            "text/plain": [
              "       id  user_id  vehicle_model_id  package_id  travel_type_id  \\\n",
              "0  132512    22177                28         NaN               2   \n",
              "1  132513    21413                12         NaN               2   \n",
              "2  132514    22178                12         NaN               2   \n",
              "3  132515    13034                12         NaN               2   \n",
              "4  132517    22180                12         NaN               2   \n",
              "\n",
              "   from_area_id  to_area_id  from_city_id  to_city_id      from_date  to_date  \\\n",
              "0          83.0       448.0           NaN         NaN  1/1/2013 2:00      NaN   \n",
              "1        1010.0       540.0           NaN         NaN  1/1/2013 9:00      NaN   \n",
              "2        1301.0      1034.0           NaN         NaN  1/1/2013 3:30      NaN   \n",
              "3         768.0       398.0           NaN         NaN  1/1/2013 5:45      NaN   \n",
              "4        1365.0       849.0           NaN         NaN  1/1/2013 9:00      NaN   \n",
              "\n",
              "   online_booking  mobile_site_booking booking_created   from_lat  from_long  \\\n",
              "0               0                    0   1/1/2013 1:39  12.924150  77.672290   \n",
              "1               0                    0   1/1/2013 2:25  12.966910  77.749350   \n",
              "2               0                    0   1/1/2013 3:08  12.937222  77.626915   \n",
              "3               0                    0   1/1/2013 4:39  12.989990  77.553320   \n",
              "4               0                    0   1/1/2013 7:53  12.845653  77.677925   \n",
              "\n",
              "      to_lat    to_long  Car_Cancellation  Cost_of_error  \n",
              "0  12.927320  77.635750                 0            1.0  \n",
              "1  12.927680  77.626640                 0            1.0  \n",
              "2  13.047926  77.597766                 0            1.0  \n",
              "3  12.971430  77.639140                 0            1.0  \n",
              "4  12.954340  77.600720                 0            1.0  "
            ],
            "text/html": [
              "\n",
              "  <div id=\"df-80125f86-3de2-4feb-9a08-14af70c1967c\">\n",
              "    <div class=\"colab-df-container\">\n",
              "      <div>\n",
              "<style scoped>\n",
              "    .dataframe tbody tr th:only-of-type {\n",
              "        vertical-align: middle;\n",
              "    }\n",
              "\n",
              "    .dataframe tbody tr th {\n",
              "        vertical-align: top;\n",
              "    }\n",
              "\n",
              "    .dataframe thead th {\n",
              "        text-align: right;\n",
              "    }\n",
              "</style>\n",
              "<table border=\"1\" class=\"dataframe\">\n",
              "  <thead>\n",
              "    <tr style=\"text-align: right;\">\n",
              "      <th></th>\n",
              "      <th>id</th>\n",
              "      <th>user_id</th>\n",
              "      <th>vehicle_model_id</th>\n",
              "      <th>package_id</th>\n",
              "      <th>travel_type_id</th>\n",
              "      <th>from_area_id</th>\n",
              "      <th>to_area_id</th>\n",
              "      <th>from_city_id</th>\n",
              "      <th>to_city_id</th>\n",
              "      <th>from_date</th>\n",
              "      <th>to_date</th>\n",
              "      <th>online_booking</th>\n",
              "      <th>mobile_site_booking</th>\n",
              "      <th>booking_created</th>\n",
              "      <th>from_lat</th>\n",
              "      <th>from_long</th>\n",
              "      <th>to_lat</th>\n",
              "      <th>to_long</th>\n",
              "      <th>Car_Cancellation</th>\n",
              "      <th>Cost_of_error</th>\n",
              "    </tr>\n",
              "  </thead>\n",
              "  <tbody>\n",
              "    <tr>\n",
              "      <th>0</th>\n",
              "      <td>132512</td>\n",
              "      <td>22177</td>\n",
              "      <td>28</td>\n",
              "      <td>NaN</td>\n",
              "      <td>2</td>\n",
              "      <td>83.0</td>\n",
              "      <td>448.0</td>\n",
              "      <td>NaN</td>\n",
              "      <td>NaN</td>\n",
              "      <td>1/1/2013 2:00</td>\n",
              "      <td>NaN</td>\n",
              "      <td>0</td>\n",
              "      <td>0</td>\n",
              "      <td>1/1/2013 1:39</td>\n",
              "      <td>12.924150</td>\n",
              "      <td>77.672290</td>\n",
              "      <td>12.927320</td>\n",
              "      <td>77.635750</td>\n",
              "      <td>0</td>\n",
              "      <td>1.0</td>\n",
              "    </tr>\n",
              "    <tr>\n",
              "      <th>1</th>\n",
              "      <td>132513</td>\n",
              "      <td>21413</td>\n",
              "      <td>12</td>\n",
              "      <td>NaN</td>\n",
              "      <td>2</td>\n",
              "      <td>1010.0</td>\n",
              "      <td>540.0</td>\n",
              "      <td>NaN</td>\n",
              "      <td>NaN</td>\n",
              "      <td>1/1/2013 9:00</td>\n",
              "      <td>NaN</td>\n",
              "      <td>0</td>\n",
              "      <td>0</td>\n",
              "      <td>1/1/2013 2:25</td>\n",
              "      <td>12.966910</td>\n",
              "      <td>77.749350</td>\n",
              "      <td>12.927680</td>\n",
              "      <td>77.626640</td>\n",
              "      <td>0</td>\n",
              "      <td>1.0</td>\n",
              "    </tr>\n",
              "    <tr>\n",
              "      <th>2</th>\n",
              "      <td>132514</td>\n",
              "      <td>22178</td>\n",
              "      <td>12</td>\n",
              "      <td>NaN</td>\n",
              "      <td>2</td>\n",
              "      <td>1301.0</td>\n",
              "      <td>1034.0</td>\n",
              "      <td>NaN</td>\n",
              "      <td>NaN</td>\n",
              "      <td>1/1/2013 3:30</td>\n",
              "      <td>NaN</td>\n",
              "      <td>0</td>\n",
              "      <td>0</td>\n",
              "      <td>1/1/2013 3:08</td>\n",
              "      <td>12.937222</td>\n",
              "      <td>77.626915</td>\n",
              "      <td>13.047926</td>\n",
              "      <td>77.597766</td>\n",
              "      <td>0</td>\n",
              "      <td>1.0</td>\n",
              "    </tr>\n",
              "    <tr>\n",
              "      <th>3</th>\n",
              "      <td>132515</td>\n",
              "      <td>13034</td>\n",
              "      <td>12</td>\n",
              "      <td>NaN</td>\n",
              "      <td>2</td>\n",
              "      <td>768.0</td>\n",
              "      <td>398.0</td>\n",
              "      <td>NaN</td>\n",
              "      <td>NaN</td>\n",
              "      <td>1/1/2013 5:45</td>\n",
              "      <td>NaN</td>\n",
              "      <td>0</td>\n",
              "      <td>0</td>\n",
              "      <td>1/1/2013 4:39</td>\n",
              "      <td>12.989990</td>\n",
              "      <td>77.553320</td>\n",
              "      <td>12.971430</td>\n",
              "      <td>77.639140</td>\n",
              "      <td>0</td>\n",
              "      <td>1.0</td>\n",
              "    </tr>\n",
              "    <tr>\n",
              "      <th>4</th>\n",
              "      <td>132517</td>\n",
              "      <td>22180</td>\n",
              "      <td>12</td>\n",
              "      <td>NaN</td>\n",
              "      <td>2</td>\n",
              "      <td>1365.0</td>\n",
              "      <td>849.0</td>\n",
              "      <td>NaN</td>\n",
              "      <td>NaN</td>\n",
              "      <td>1/1/2013 9:00</td>\n",
              "      <td>NaN</td>\n",
              "      <td>0</td>\n",
              "      <td>0</td>\n",
              "      <td>1/1/2013 7:53</td>\n",
              "      <td>12.845653</td>\n",
              "      <td>77.677925</td>\n",
              "      <td>12.954340</td>\n",
              "      <td>77.600720</td>\n",
              "      <td>0</td>\n",
              "      <td>1.0</td>\n",
              "    </tr>\n",
              "  </tbody>\n",
              "</table>\n",
              "</div>\n",
              "      <button class=\"colab-df-convert\" onclick=\"convertToInteractive('df-80125f86-3de2-4feb-9a08-14af70c1967c')\"\n",
              "              title=\"Convert this dataframe to an interactive table.\"\n",
              "              style=\"display:none;\">\n",
              "        \n",
              "  <svg xmlns=\"http://www.w3.org/2000/svg\" height=\"24px\"viewBox=\"0 0 24 24\"\n",
              "       width=\"24px\">\n",
              "    <path d=\"M0 0h24v24H0V0z\" fill=\"none\"/>\n",
              "    <path d=\"M18.56 5.44l.94 2.06.94-2.06 2.06-.94-2.06-.94-.94-2.06-.94 2.06-2.06.94zm-11 1L8.5 8.5l.94-2.06 2.06-.94-2.06-.94L8.5 2.5l-.94 2.06-2.06.94zm10 10l.94 2.06.94-2.06 2.06-.94-2.06-.94-.94-2.06-.94 2.06-2.06.94z\"/><path d=\"M17.41 7.96l-1.37-1.37c-.4-.4-.92-.59-1.43-.59-.52 0-1.04.2-1.43.59L10.3 9.45l-7.72 7.72c-.78.78-.78 2.05 0 2.83L4 21.41c.39.39.9.59 1.41.59.51 0 1.02-.2 1.41-.59l7.78-7.78 2.81-2.81c.8-.78.8-2.07 0-2.86zM5.41 20L4 18.59l7.72-7.72 1.47 1.35L5.41 20z\"/>\n",
              "  </svg>\n",
              "      </button>\n",
              "      \n",
              "  <style>\n",
              "    .colab-df-container {\n",
              "      display:flex;\n",
              "      flex-wrap:wrap;\n",
              "      gap: 12px;\n",
              "    }\n",
              "\n",
              "    .colab-df-convert {\n",
              "      background-color: #E8F0FE;\n",
              "      border: none;\n",
              "      border-radius: 50%;\n",
              "      cursor: pointer;\n",
              "      display: none;\n",
              "      fill: #1967D2;\n",
              "      height: 32px;\n",
              "      padding: 0 0 0 0;\n",
              "      width: 32px;\n",
              "    }\n",
              "\n",
              "    .colab-df-convert:hover {\n",
              "      background-color: #E2EBFA;\n",
              "      box-shadow: 0px 1px 2px rgba(60, 64, 67, 0.3), 0px 1px 3px 1px rgba(60, 64, 67, 0.15);\n",
              "      fill: #174EA6;\n",
              "    }\n",
              "\n",
              "    [theme=dark] .colab-df-convert {\n",
              "      background-color: #3B4455;\n",
              "      fill: #D2E3FC;\n",
              "    }\n",
              "\n",
              "    [theme=dark] .colab-df-convert:hover {\n",
              "      background-color: #434B5C;\n",
              "      box-shadow: 0px 1px 3px 1px rgba(0, 0, 0, 0.15);\n",
              "      filter: drop-shadow(0px 1px 2px rgba(0, 0, 0, 0.3));\n",
              "      fill: #FFFFFF;\n",
              "    }\n",
              "  </style>\n",
              "\n",
              "      <script>\n",
              "        const buttonEl =\n",
              "          document.querySelector('#df-80125f86-3de2-4feb-9a08-14af70c1967c button.colab-df-convert');\n",
              "        buttonEl.style.display =\n",
              "          google.colab.kernel.accessAllowed ? 'block' : 'none';\n",
              "\n",
              "        async function convertToInteractive(key) {\n",
              "          const element = document.querySelector('#df-80125f86-3de2-4feb-9a08-14af70c1967c');\n",
              "          const dataTable =\n",
              "            await google.colab.kernel.invokeFunction('convertToInteractive',\n",
              "                                                     [key], {});\n",
              "          if (!dataTable) return;\n",
              "\n",
              "          const docLinkHtml = 'Like what you see? Visit the ' +\n",
              "            '<a target=\"_blank\" href=https://colab.research.google.com/notebooks/data_table.ipynb>data table notebook</a>'\n",
              "            + ' to learn more about interactive tables.';\n",
              "          element.innerHTML = '';\n",
              "          dataTable['output_type'] = 'display_data';\n",
              "          await google.colab.output.renderOutput(dataTable, element);\n",
              "          const docLink = document.createElement('div');\n",
              "          docLink.innerHTML = docLinkHtml;\n",
              "          element.appendChild(docLink);\n",
              "        }\n",
              "      </script>\n",
              "    </div>\n",
              "  </div>\n",
              "  "
            ]
          },
          "metadata": {},
          "execution_count": 11
        }
      ]
    },
    {
      "cell_type": "code",
      "source": [
        "df.shape"
      ],
      "metadata": {
        "execution": {
          "iopub.status.busy": "2022-03-14T19:25:28.179893Z",
          "iopub.execute_input": "2022-03-14T19:25:28.180148Z",
          "iopub.status.idle": "2022-03-14T19:25:28.187207Z",
          "shell.execute_reply.started": "2022-03-14T19:25:28.180118Z",
          "shell.execute_reply": "2022-03-14T19:25:28.186284Z"
        },
        "trusted": true,
        "colab": {
          "base_uri": "https://localhost:8080/"
        },
        "id": "rAaIgn2Jcecg",
        "outputId": "09244fed-481c-4140-e624-122bf66c59e8"
      },
      "execution_count": null,
      "outputs": [
        {
          "output_type": "execute_result",
          "data": {
            "text/plain": [
              "(43431, 20)"
            ]
          },
          "metadata": {},
          "execution_count": 12
        }
      ]
    },
    {
      "cell_type": "code",
      "source": [
        "data = df.drop(['Car_Cancellation', 'Cost_of_error'], axis=1)\n",
        "target = df[['Car_Cancellation']]"
      ],
      "metadata": {
        "execution": {
          "iopub.status.busy": "2022-03-14T19:25:28.188869Z",
          "iopub.execute_input": "2022-03-14T19:25:28.18982Z",
          "iopub.status.idle": "2022-03-14T19:25:28.208959Z",
          "shell.execute_reply.started": "2022-03-14T19:25:28.189763Z",
          "shell.execute_reply": "2022-03-14T19:25:28.207764Z"
        },
        "trusted": true,
        "id": "qYAO2PDbcecg"
      },
      "execution_count": null,
      "outputs": []
    },
    {
      "cell_type": "code",
      "source": [
        "data.info()"
      ],
      "metadata": {
        "execution": {
          "iopub.status.busy": "2022-03-14T19:25:28.211064Z",
          "iopub.execute_input": "2022-03-14T19:25:28.211447Z",
          "iopub.status.idle": "2022-03-14T19:25:28.246446Z",
          "shell.execute_reply.started": "2022-03-14T19:25:28.211396Z",
          "shell.execute_reply": "2022-03-14T19:25:28.245642Z"
        },
        "trusted": true,
        "colab": {
          "base_uri": "https://localhost:8080/"
        },
        "id": "WE1sC90Xcech",
        "outputId": "32d42564-2e5d-4f60-e4ec-df4ff3210da3"
      },
      "execution_count": null,
      "outputs": [
        {
          "output_type": "stream",
          "name": "stdout",
          "text": [
            "<class 'pandas.core.frame.DataFrame'>\n",
            "RangeIndex: 43431 entries, 0 to 43430\n",
            "Data columns (total 18 columns):\n",
            " #   Column               Non-Null Count  Dtype  \n",
            "---  ------               --------------  -----  \n",
            " 0   id                   43431 non-null  int64  \n",
            " 1   user_id              43431 non-null  int64  \n",
            " 2   vehicle_model_id     43431 non-null  int64  \n",
            " 3   package_id           7550 non-null   float64\n",
            " 4   travel_type_id       43431 non-null  int64  \n",
            " 5   from_area_id         43343 non-null  float64\n",
            " 6   to_area_id           34293 non-null  float64\n",
            " 7   from_city_id         16345 non-null  float64\n",
            " 8   to_city_id           1588 non-null   float64\n",
            " 9   from_date            43431 non-null  object \n",
            " 10  to_date              25541 non-null  float64\n",
            " 11  online_booking       43431 non-null  int64  \n",
            " 12  mobile_site_booking  43431 non-null  int64  \n",
            " 13  booking_created      43431 non-null  object \n",
            " 14  from_lat             43338 non-null  float64\n",
            " 15  from_long            43338 non-null  float64\n",
            " 16  to_lat               34293 non-null  float64\n",
            " 17  to_long              34293 non-null  float64\n",
            "dtypes: float64(10), int64(6), object(2)\n",
            "memory usage: 6.0+ MB\n"
          ]
        }
      ]
    },
    {
      "cell_type": "markdown",
      "source": [
        "## Checking for Missing Values"
      ],
      "metadata": {
        "id": "2IXG9PMmcech"
      }
    },
    {
      "cell_type": "code",
      "source": [
        "data.isnull().mean()"
      ],
      "metadata": {
        "execution": {
          "iopub.status.busy": "2022-03-14T19:25:28.249879Z",
          "iopub.execute_input": "2022-03-14T19:25:28.251105Z",
          "iopub.status.idle": "2022-03-14T19:25:28.272256Z",
          "shell.execute_reply.started": "2022-03-14T19:25:28.251031Z",
          "shell.execute_reply": "2022-03-14T19:25:28.271548Z"
        },
        "trusted": true,
        "colab": {
          "base_uri": "https://localhost:8080/"
        },
        "id": "bq27N9Ijceci",
        "outputId": "8abbf3e8-5c55-4381-e270-9e9ac9f09765"
      },
      "execution_count": null,
      "outputs": [
        {
          "output_type": "execute_result",
          "data": {
            "text/plain": [
              "id                     0.000000\n",
              "user_id                0.000000\n",
              "vehicle_model_id       0.000000\n",
              "package_id             0.826161\n",
              "travel_type_id         0.000000\n",
              "from_area_id           0.002026\n",
              "to_area_id             0.210403\n",
              "from_city_id           0.623656\n",
              "to_city_id             0.963436\n",
              "from_date              0.000000\n",
              "to_date                0.411918\n",
              "online_booking         0.000000\n",
              "mobile_site_booking    0.000000\n",
              "booking_created        0.000000\n",
              "from_lat               0.002141\n",
              "from_long              0.002141\n",
              "to_lat                 0.210403\n",
              "to_long                0.210403\n",
              "dtype: float64"
            ]
          },
          "metadata": {},
          "execution_count": 15
        }
      ]
    },
    {
      "cell_type": "markdown",
      "source": [],
      "metadata": {
        "id": "kf8lcP0Sceci"
      }
    },
    {
      "cell_type": "markdown",
      "source": [
        "## Data Cleaning"
      ],
      "metadata": {
        "id": "xSOGkq83ceci"
      }
    },
    {
      "cell_type": "code",
      "source": [
        "data=data.drop(['id','user_id','package_id','to_area_id','from_city_id','to_city_id','to_date'],axis=1)"
      ],
      "metadata": {
        "execution": {
          "iopub.status.busy": "2022-03-14T19:25:28.27337Z",
          "iopub.execute_input": "2022-03-14T19:25:28.274021Z",
          "iopub.status.idle": "2022-03-14T19:25:28.283676Z",
          "shell.execute_reply.started": "2022-03-14T19:25:28.273977Z",
          "shell.execute_reply": "2022-03-14T19:25:28.282411Z"
        },
        "trusted": true,
        "id": "jrNPuqWpcecj"
      },
      "execution_count": null,
      "outputs": []
    },
    {
      "cell_type": "code",
      "source": [
        "data.shape"
      ],
      "metadata": {
        "execution": {
          "iopub.status.busy": "2022-03-14T19:25:28.285351Z",
          "iopub.execute_input": "2022-03-14T19:25:28.286492Z",
          "iopub.status.idle": "2022-03-14T19:25:28.304343Z",
          "shell.execute_reply.started": "2022-03-14T19:25:28.286419Z",
          "shell.execute_reply": "2022-03-14T19:25:28.302419Z"
        },
        "trusted": true,
        "colab": {
          "base_uri": "https://localhost:8080/"
        },
        "id": "uQYca5_rcecj",
        "outputId": "3a56cb5f-4522-4ff2-8954-b00a766c4557"
      },
      "execution_count": null,
      "outputs": [
        {
          "output_type": "execute_result",
          "data": {
            "text/plain": [
              "(43431, 11)"
            ]
          },
          "metadata": {},
          "execution_count": 17
        }
      ]
    },
    {
      "cell_type": "code",
      "source": [
        "data['vehicle_model_id'].value_counts(normalize=True)*100\n",
        "\n",
        "#so as we can see 12 is covering for 73% of the entire column of vehicle_model_id"
      ],
      "metadata": {
        "execution": {
          "iopub.status.busy": "2022-03-14T19:25:28.306041Z",
          "iopub.execute_input": "2022-03-14T19:25:28.307078Z",
          "iopub.status.idle": "2022-03-14T19:25:28.324512Z",
          "shell.execute_reply.started": "2022-03-14T19:25:28.307024Z",
          "shell.execute_reply": "2022-03-14T19:25:28.323439Z"
        },
        "trusted": true,
        "colab": {
          "base_uri": "https://localhost:8080/"
        },
        "id": "IJGGs9lTcecj",
        "outputId": "2b61bbd0-25e9-4388-86c0-59acb405cf19"
      },
      "execution_count": null,
      "outputs": [
        {
          "output_type": "execute_result",
          "data": {
            "text/plain": [
              "12    73.355437\n",
              "85     5.542124\n",
              "89     5.505284\n",
              "65     4.402385\n",
              "28     3.918860\n",
              "24     3.439939\n",
              "87     1.300914\n",
              "90     0.718381\n",
              "23     0.683843\n",
              "86     0.283208\n",
              "10     0.239460\n",
              "64     0.195713\n",
              "54     0.168083\n",
              "17     0.092100\n",
              "91     0.057563\n",
              "30     0.032235\n",
              "36     0.020723\n",
              "13     0.016118\n",
              "72     0.004605\n",
              "1      0.004605\n",
              "43     0.004605\n",
              "14     0.002303\n",
              "69     0.002303\n",
              "76     0.002303\n",
              "75     0.002303\n",
              "70     0.002303\n",
              "39     0.002303\n",
              "Name: vehicle_model_id, dtype: float64"
            ]
          },
          "metadata": {},
          "execution_count": 18
        }
      ]
    },
    {
      "cell_type": "code",
      "source": [
        "data=data.drop(['vehicle_model_id'],axis=1) #Dropping as single value has more percentage"
      ],
      "metadata": {
        "execution": {
          "iopub.status.busy": "2022-03-14T19:25:28.329728Z",
          "iopub.execute_input": "2022-03-14T19:25:28.330192Z",
          "iopub.status.idle": "2022-03-14T19:25:28.339903Z",
          "shell.execute_reply.started": "2022-03-14T19:25:28.330137Z",
          "shell.execute_reply": "2022-03-14T19:25:28.338645Z"
        },
        "trusted": true,
        "id": "IU9jWQwmcecj"
      },
      "execution_count": null,
      "outputs": []
    },
    {
      "cell_type": "code",
      "source": [
        "data.head()"
      ],
      "metadata": {
        "execution": {
          "iopub.status.busy": "2022-03-14T19:25:28.342Z",
          "iopub.execute_input": "2022-03-14T19:25:28.342755Z",
          "iopub.status.idle": "2022-03-14T19:25:28.369502Z",
          "shell.execute_reply.started": "2022-03-14T19:25:28.342691Z",
          "shell.execute_reply": "2022-03-14T19:25:28.36844Z"
        },
        "trusted": true,
        "colab": {
          "base_uri": "https://localhost:8080/",
          "height": 206
        },
        "id": "XTlyOXDcceck",
        "outputId": "ad760b71-8f72-49b5-99e1-82c2888e5a11"
      },
      "execution_count": null,
      "outputs": [
        {
          "output_type": "execute_result",
          "data": {
            "text/plain": [
              "   travel_type_id  from_area_id      from_date  online_booking  \\\n",
              "0               2          83.0  1/1/2013 2:00               0   \n",
              "1               2        1010.0  1/1/2013 9:00               0   \n",
              "2               2        1301.0  1/1/2013 3:30               0   \n",
              "3               2         768.0  1/1/2013 5:45               0   \n",
              "4               2        1365.0  1/1/2013 9:00               0   \n",
              "\n",
              "   mobile_site_booking booking_created   from_lat  from_long     to_lat  \\\n",
              "0                    0   1/1/2013 1:39  12.924150  77.672290  12.927320   \n",
              "1                    0   1/1/2013 2:25  12.966910  77.749350  12.927680   \n",
              "2                    0   1/1/2013 3:08  12.937222  77.626915  13.047926   \n",
              "3                    0   1/1/2013 4:39  12.989990  77.553320  12.971430   \n",
              "4                    0   1/1/2013 7:53  12.845653  77.677925  12.954340   \n",
              "\n",
              "     to_long  \n",
              "0  77.635750  \n",
              "1  77.626640  \n",
              "2  77.597766  \n",
              "3  77.639140  \n",
              "4  77.600720  "
            ],
            "text/html": [
              "\n",
              "  <div id=\"df-e5c7c46c-4b39-440c-a066-583f6c70eafe\">\n",
              "    <div class=\"colab-df-container\">\n",
              "      <div>\n",
              "<style scoped>\n",
              "    .dataframe tbody tr th:only-of-type {\n",
              "        vertical-align: middle;\n",
              "    }\n",
              "\n",
              "    .dataframe tbody tr th {\n",
              "        vertical-align: top;\n",
              "    }\n",
              "\n",
              "    .dataframe thead th {\n",
              "        text-align: right;\n",
              "    }\n",
              "</style>\n",
              "<table border=\"1\" class=\"dataframe\">\n",
              "  <thead>\n",
              "    <tr style=\"text-align: right;\">\n",
              "      <th></th>\n",
              "      <th>travel_type_id</th>\n",
              "      <th>from_area_id</th>\n",
              "      <th>from_date</th>\n",
              "      <th>online_booking</th>\n",
              "      <th>mobile_site_booking</th>\n",
              "      <th>booking_created</th>\n",
              "      <th>from_lat</th>\n",
              "      <th>from_long</th>\n",
              "      <th>to_lat</th>\n",
              "      <th>to_long</th>\n",
              "    </tr>\n",
              "  </thead>\n",
              "  <tbody>\n",
              "    <tr>\n",
              "      <th>0</th>\n",
              "      <td>2</td>\n",
              "      <td>83.0</td>\n",
              "      <td>1/1/2013 2:00</td>\n",
              "      <td>0</td>\n",
              "      <td>0</td>\n",
              "      <td>1/1/2013 1:39</td>\n",
              "      <td>12.924150</td>\n",
              "      <td>77.672290</td>\n",
              "      <td>12.927320</td>\n",
              "      <td>77.635750</td>\n",
              "    </tr>\n",
              "    <tr>\n",
              "      <th>1</th>\n",
              "      <td>2</td>\n",
              "      <td>1010.0</td>\n",
              "      <td>1/1/2013 9:00</td>\n",
              "      <td>0</td>\n",
              "      <td>0</td>\n",
              "      <td>1/1/2013 2:25</td>\n",
              "      <td>12.966910</td>\n",
              "      <td>77.749350</td>\n",
              "      <td>12.927680</td>\n",
              "      <td>77.626640</td>\n",
              "    </tr>\n",
              "    <tr>\n",
              "      <th>2</th>\n",
              "      <td>2</td>\n",
              "      <td>1301.0</td>\n",
              "      <td>1/1/2013 3:30</td>\n",
              "      <td>0</td>\n",
              "      <td>0</td>\n",
              "      <td>1/1/2013 3:08</td>\n",
              "      <td>12.937222</td>\n",
              "      <td>77.626915</td>\n",
              "      <td>13.047926</td>\n",
              "      <td>77.597766</td>\n",
              "    </tr>\n",
              "    <tr>\n",
              "      <th>3</th>\n",
              "      <td>2</td>\n",
              "      <td>768.0</td>\n",
              "      <td>1/1/2013 5:45</td>\n",
              "      <td>0</td>\n",
              "      <td>0</td>\n",
              "      <td>1/1/2013 4:39</td>\n",
              "      <td>12.989990</td>\n",
              "      <td>77.553320</td>\n",
              "      <td>12.971430</td>\n",
              "      <td>77.639140</td>\n",
              "    </tr>\n",
              "    <tr>\n",
              "      <th>4</th>\n",
              "      <td>2</td>\n",
              "      <td>1365.0</td>\n",
              "      <td>1/1/2013 9:00</td>\n",
              "      <td>0</td>\n",
              "      <td>0</td>\n",
              "      <td>1/1/2013 7:53</td>\n",
              "      <td>12.845653</td>\n",
              "      <td>77.677925</td>\n",
              "      <td>12.954340</td>\n",
              "      <td>77.600720</td>\n",
              "    </tr>\n",
              "  </tbody>\n",
              "</table>\n",
              "</div>\n",
              "      <button class=\"colab-df-convert\" onclick=\"convertToInteractive('df-e5c7c46c-4b39-440c-a066-583f6c70eafe')\"\n",
              "              title=\"Convert this dataframe to an interactive table.\"\n",
              "              style=\"display:none;\">\n",
              "        \n",
              "  <svg xmlns=\"http://www.w3.org/2000/svg\" height=\"24px\"viewBox=\"0 0 24 24\"\n",
              "       width=\"24px\">\n",
              "    <path d=\"M0 0h24v24H0V0z\" fill=\"none\"/>\n",
              "    <path d=\"M18.56 5.44l.94 2.06.94-2.06 2.06-.94-2.06-.94-.94-2.06-.94 2.06-2.06.94zm-11 1L8.5 8.5l.94-2.06 2.06-.94-2.06-.94L8.5 2.5l-.94 2.06-2.06.94zm10 10l.94 2.06.94-2.06 2.06-.94-2.06-.94-.94-2.06-.94 2.06-2.06.94z\"/><path d=\"M17.41 7.96l-1.37-1.37c-.4-.4-.92-.59-1.43-.59-.52 0-1.04.2-1.43.59L10.3 9.45l-7.72 7.72c-.78.78-.78 2.05 0 2.83L4 21.41c.39.39.9.59 1.41.59.51 0 1.02-.2 1.41-.59l7.78-7.78 2.81-2.81c.8-.78.8-2.07 0-2.86zM5.41 20L4 18.59l7.72-7.72 1.47 1.35L5.41 20z\"/>\n",
              "  </svg>\n",
              "      </button>\n",
              "      \n",
              "  <style>\n",
              "    .colab-df-container {\n",
              "      display:flex;\n",
              "      flex-wrap:wrap;\n",
              "      gap: 12px;\n",
              "    }\n",
              "\n",
              "    .colab-df-convert {\n",
              "      background-color: #E8F0FE;\n",
              "      border: none;\n",
              "      border-radius: 50%;\n",
              "      cursor: pointer;\n",
              "      display: none;\n",
              "      fill: #1967D2;\n",
              "      height: 32px;\n",
              "      padding: 0 0 0 0;\n",
              "      width: 32px;\n",
              "    }\n",
              "\n",
              "    .colab-df-convert:hover {\n",
              "      background-color: #E2EBFA;\n",
              "      box-shadow: 0px 1px 2px rgba(60, 64, 67, 0.3), 0px 1px 3px 1px rgba(60, 64, 67, 0.15);\n",
              "      fill: #174EA6;\n",
              "    }\n",
              "\n",
              "    [theme=dark] .colab-df-convert {\n",
              "      background-color: #3B4455;\n",
              "      fill: #D2E3FC;\n",
              "    }\n",
              "\n",
              "    [theme=dark] .colab-df-convert:hover {\n",
              "      background-color: #434B5C;\n",
              "      box-shadow: 0px 1px 3px 1px rgba(0, 0, 0, 0.15);\n",
              "      filter: drop-shadow(0px 1px 2px rgba(0, 0, 0, 0.3));\n",
              "      fill: #FFFFFF;\n",
              "    }\n",
              "  </style>\n",
              "\n",
              "      <script>\n",
              "        const buttonEl =\n",
              "          document.querySelector('#df-e5c7c46c-4b39-440c-a066-583f6c70eafe button.colab-df-convert');\n",
              "        buttonEl.style.display =\n",
              "          google.colab.kernel.accessAllowed ? 'block' : 'none';\n",
              "\n",
              "        async function convertToInteractive(key) {\n",
              "          const element = document.querySelector('#df-e5c7c46c-4b39-440c-a066-583f6c70eafe');\n",
              "          const dataTable =\n",
              "            await google.colab.kernel.invokeFunction('convertToInteractive',\n",
              "                                                     [key], {});\n",
              "          if (!dataTable) return;\n",
              "\n",
              "          const docLinkHtml = 'Like what you see? Visit the ' +\n",
              "            '<a target=\"_blank\" href=https://colab.research.google.com/notebooks/data_table.ipynb>data table notebook</a>'\n",
              "            + ' to learn more about interactive tables.';\n",
              "          element.innerHTML = '';\n",
              "          dataTable['output_type'] = 'display_data';\n",
              "          await google.colab.output.renderOutput(dataTable, element);\n",
              "          const docLink = document.createElement('div');\n",
              "          docLink.innerHTML = docLinkHtml;\n",
              "          element.appendChild(docLink);\n",
              "        }\n",
              "      </script>\n",
              "    </div>\n",
              "  </div>\n",
              "  "
            ]
          },
          "metadata": {},
          "execution_count": 20
        }
      ]
    },
    {
      "cell_type": "markdown",
      "source": [
        "## Data Transformation"
      ],
      "metadata": {
        "id": "NRN8oAOHceck"
      }
    },
    {
      "cell_type": "code",
      "source": [
        "print(data[data['from_lat'] == data['from_lat'].median()]['from_area_id'].max())\n",
        "print(data['from_lat'].median())\n",
        "print(data['from_long'].median())"
      ],
      "metadata": {
        "execution": {
          "iopub.status.busy": "2022-03-14T19:25:28.370822Z",
          "iopub.execute_input": "2022-03-14T19:25:28.371777Z",
          "iopub.status.idle": "2022-03-14T19:25:28.388947Z",
          "shell.execute_reply.started": "2022-03-14T19:25:28.3716Z",
          "shell.execute_reply": "2022-03-14T19:25:28.387682Z"
        },
        "trusted": true,
        "colab": {
          "base_uri": "https://localhost:8080/"
        },
        "id": "yr40hYLDceck",
        "outputId": "70ee2ebc-7ce1-4e32-f494-ca8edf18d9cb"
      },
      "execution_count": null,
      "outputs": [
        {
          "output_type": "stream",
          "name": "stdout",
          "text": [
            "1044.0\n",
            "12.968887\n",
            "77.63575\n"
          ]
        }
      ]
    },
    {
      "cell_type": "code",
      "source": [
        "data[data['from_lat'] == data['from_lat'].median()]['from_area_id']"
      ],
      "metadata": {
        "execution": {
          "iopub.status.busy": "2022-03-14T19:25:28.390467Z",
          "iopub.execute_input": "2022-03-14T19:25:28.39111Z",
          "iopub.status.idle": "2022-03-14T19:25:28.40759Z",
          "shell.execute_reply.started": "2022-03-14T19:25:28.391067Z",
          "shell.execute_reply": "2022-03-14T19:25:28.406459Z"
        },
        "trusted": true,
        "colab": {
          "base_uri": "https://localhost:8080/"
        },
        "id": "0lcTD8eAcecl",
        "outputId": "dde6b098-f81f-4307-80ab-dce52e2880aa"
      },
      "execution_count": null,
      "outputs": [
        {
          "output_type": "execute_result",
          "data": {
            "text/plain": [
              "276      1044.0\n",
              "277      1044.0\n",
              "1517     1044.0\n",
              "1668     1044.0\n",
              "3057     1044.0\n",
              "3628     1044.0\n",
              "3826     1044.0\n",
              "4255     1044.0\n",
              "4365     1044.0\n",
              "4619     1044.0\n",
              "4832     1044.0\n",
              "4988     1044.0\n",
              "5179     1044.0\n",
              "7284     1044.0\n",
              "7518     1044.0\n",
              "7694     1044.0\n",
              "8054     1044.0\n",
              "8302     1044.0\n",
              "8401     1044.0\n",
              "10858    1044.0\n",
              "11199    1044.0\n",
              "11202    1044.0\n",
              "11244    1044.0\n",
              "14469    1044.0\n",
              "15858    1044.0\n",
              "15995    1044.0\n",
              "16915    1044.0\n",
              "16916    1044.0\n",
              "17959    1044.0\n",
              "18429    1044.0\n",
              "18658    1044.0\n",
              "21592    1044.0\n",
              "22055    1044.0\n",
              "25121    1044.0\n",
              "26336    1044.0\n",
              "29975    1044.0\n",
              "32812    1044.0\n",
              "35767    1044.0\n",
              "36869    1044.0\n",
              "37378    1044.0\n",
              "39314    1044.0\n",
              "40148    1044.0\n",
              "Name: from_area_id, dtype: float64"
            ]
          },
          "metadata": {},
          "execution_count": 22
        }
      ]
    },
    {
      "cell_type": "code",
      "source": [
        "data[data['from_lat'] == data['from_lat'].median()].shape"
      ],
      "metadata": {
        "execution": {
          "iopub.status.busy": "2022-03-14T19:25:28.409152Z",
          "iopub.execute_input": "2022-03-14T19:25:28.409849Z",
          "iopub.status.idle": "2022-03-14T19:25:28.419794Z",
          "shell.execute_reply.started": "2022-03-14T19:25:28.409804Z",
          "shell.execute_reply": "2022-03-14T19:25:28.418817Z"
        },
        "trusted": true,
        "colab": {
          "base_uri": "https://localhost:8080/"
        },
        "id": "awK-7lJWcecl",
        "outputId": "16b28ecb-3357-4ef8-b5d5-11fba8d4a4ae"
      },
      "execution_count": null,
      "outputs": [
        {
          "output_type": "execute_result",
          "data": {
            "text/plain": [
              "(42, 10)"
            ]
          },
          "metadata": {},
          "execution_count": 23
        }
      ]
    },
    {
      "cell_type": "markdown",
      "source": [
        "## Fill missing values"
      ],
      "metadata": {
        "id": "SppR4oVscecl"
      }
    },
    {
      "cell_type": "code",
      "source": [
        "data['from_lat'].fillna(data['from_lat'].median(), inplace=True)\n",
        "data['from_long'].fillna(data['from_long'].median(), inplace=True)"
      ],
      "metadata": {
        "execution": {
          "iopub.status.busy": "2022-03-14T19:25:28.421423Z",
          "iopub.execute_input": "2022-03-14T19:25:28.421956Z",
          "iopub.status.idle": "2022-03-14T19:25:28.432501Z",
          "shell.execute_reply.started": "2022-03-14T19:25:28.421913Z",
          "shell.execute_reply": "2022-03-14T19:25:28.431182Z"
        },
        "trusted": true,
        "id": "fmbnyi7vcecl"
      },
      "execution_count": null,
      "outputs": []
    },
    {
      "cell_type": "code",
      "source": [
        "data.info()"
      ],
      "metadata": {
        "execution": {
          "iopub.status.busy": "2022-03-14T19:25:28.434862Z",
          "iopub.execute_input": "2022-03-14T19:25:28.435359Z",
          "iopub.status.idle": "2022-03-14T19:25:28.467801Z",
          "shell.execute_reply.started": "2022-03-14T19:25:28.43528Z",
          "shell.execute_reply": "2022-03-14T19:25:28.46639Z"
        },
        "trusted": true,
        "colab": {
          "base_uri": "https://localhost:8080/"
        },
        "id": "yQ5VUZavcecm",
        "outputId": "a78e4118-966b-416c-c783-f380e193b333"
      },
      "execution_count": null,
      "outputs": [
        {
          "output_type": "stream",
          "name": "stdout",
          "text": [
            "<class 'pandas.core.frame.DataFrame'>\n",
            "RangeIndex: 43431 entries, 0 to 43430\n",
            "Data columns (total 10 columns):\n",
            " #   Column               Non-Null Count  Dtype  \n",
            "---  ------               --------------  -----  \n",
            " 0   travel_type_id       43431 non-null  int64  \n",
            " 1   from_area_id         43343 non-null  float64\n",
            " 2   from_date            43431 non-null  object \n",
            " 3   online_booking       43431 non-null  int64  \n",
            " 4   mobile_site_booking  43431 non-null  int64  \n",
            " 5   booking_created      43431 non-null  object \n",
            " 6   from_lat             43431 non-null  float64\n",
            " 7   from_long            43431 non-null  float64\n",
            " 8   to_lat               34293 non-null  float64\n",
            " 9   to_long              34293 non-null  float64\n",
            "dtypes: float64(5), int64(3), object(2)\n",
            "memory usage: 3.3+ MB\n"
          ]
        }
      ]
    },
    {
      "cell_type": "code",
      "source": [
        "data['from_area_id'].fillna(data[data['from_lat'] == data['from_lat'].median()]['from_area_id'].max(), inplace=True)"
      ],
      "metadata": {
        "execution": {
          "iopub.status.busy": "2022-03-14T19:25:28.469696Z",
          "iopub.execute_input": "2022-03-14T19:25:28.470567Z",
          "iopub.status.idle": "2022-03-14T19:25:28.479233Z",
          "shell.execute_reply.started": "2022-03-14T19:25:28.470517Z",
          "shell.execute_reply": "2022-03-14T19:25:28.47797Z"
        },
        "trusted": true,
        "id": "vU4omj8Jcecm"
      },
      "execution_count": null,
      "outputs": []
    },
    {
      "cell_type": "code",
      "source": [
        "data['to_lat'].fillna(df.groupby('from_area_id')['to_lat'].transform('median'), inplace=True)\n",
        "#Fill null with median for Continuous data and mode for Discrete data\n",
        "#filling na values of to_lat with median of each group where the group is formed based on from_area_id"
      ],
      "metadata": {
        "execution": {
          "iopub.status.busy": "2022-03-14T19:25:28.480752Z",
          "iopub.execute_input": "2022-03-14T19:25:28.481082Z",
          "iopub.status.idle": "2022-03-14T19:25:28.496529Z",
          "shell.execute_reply.started": "2022-03-14T19:25:28.481045Z",
          "shell.execute_reply": "2022-03-14T19:25:28.494629Z"
        },
        "trusted": true,
        "id": "viln98BLcecm"
      },
      "execution_count": null,
      "outputs": []
    },
    {
      "cell_type": "code",
      "source": [
        "data['to_long'] = data['to_long'].fillna(df.groupby('from_area_id')['to_long'].transform('median'))\n",
        "#filling na values of to_long with median of each group where the group is formed based on from_area_id"
      ],
      "metadata": {
        "execution": {
          "iopub.status.busy": "2022-03-14T19:25:28.498465Z",
          "iopub.execute_input": "2022-03-14T19:25:28.49879Z",
          "iopub.status.idle": "2022-03-14T19:25:28.512199Z",
          "shell.execute_reply.started": "2022-03-14T19:25:28.498757Z",
          "shell.execute_reply": "2022-03-14T19:25:28.510554Z"
        },
        "trusted": true,
        "id": "jKq3Yzifcecn"
      },
      "execution_count": null,
      "outputs": []
    },
    {
      "cell_type": "code",
      "source": [
        "data.info()"
      ],
      "metadata": {
        "execution": {
          "iopub.status.busy": "2022-03-14T19:25:28.514877Z",
          "iopub.execute_input": "2022-03-14T19:25:28.515301Z",
          "iopub.status.idle": "2022-03-14T19:25:28.543565Z",
          "shell.execute_reply.started": "2022-03-14T19:25:28.51525Z",
          "shell.execute_reply": "2022-03-14T19:25:28.541894Z"
        },
        "trusted": true,
        "colab": {
          "base_uri": "https://localhost:8080/"
        },
        "id": "vD6cQ52-cecn",
        "outputId": "da704f50-39ab-4d92-83fa-074609eacc07"
      },
      "execution_count": null,
      "outputs": [
        {
          "output_type": "stream",
          "name": "stdout",
          "text": [
            "<class 'pandas.core.frame.DataFrame'>\n",
            "RangeIndex: 43431 entries, 0 to 43430\n",
            "Data columns (total 10 columns):\n",
            " #   Column               Non-Null Count  Dtype  \n",
            "---  ------               --------------  -----  \n",
            " 0   travel_type_id       43431 non-null  int64  \n",
            " 1   from_area_id         43431 non-null  float64\n",
            " 2   from_date            43431 non-null  object \n",
            " 3   online_booking       43431 non-null  int64  \n",
            " 4   mobile_site_booking  43431 non-null  int64  \n",
            " 5   booking_created      43431 non-null  object \n",
            " 6   from_lat             43431 non-null  float64\n",
            " 7   from_long            43431 non-null  float64\n",
            " 8   to_lat               43326 non-null  float64\n",
            " 9   to_long              43326 non-null  float64\n",
            "dtypes: float64(5), int64(3), object(2)\n",
            "memory usage: 3.3+ MB\n"
          ]
        }
      ]
    },
    {
      "cell_type": "code",
      "source": [
        "data[data['to_lat'].isnull()].head()"
      ],
      "metadata": {
        "execution": {
          "iopub.status.busy": "2022-03-14T19:25:28.545551Z",
          "iopub.execute_input": "2022-03-14T19:25:28.545955Z",
          "iopub.status.idle": "2022-03-14T19:25:28.566772Z",
          "shell.execute_reply.started": "2022-03-14T19:25:28.545904Z",
          "shell.execute_reply": "2022-03-14T19:25:28.565663Z"
        },
        "trusted": true,
        "colab": {
          "base_uri": "https://localhost:8080/",
          "height": 206
        },
        "id": "o0i7x0nuceco",
        "outputId": "c7a702e3-1145-4ceb-e66a-9e6380bf4f05"
      },
      "execution_count": null,
      "outputs": [
        {
          "output_type": "execute_result",
          "data": {
            "text/plain": [
              "      travel_type_id  from_area_id        from_date  online_booking  \\\n",
              "2158               1         483.0   1/25/2013 6:00               1   \n",
              "3945               1        1397.0  2/10/2013 16:30               1   \n",
              "4912               1        1397.0   2/23/2013 6:30               1   \n",
              "5144               1        1397.0  2/22/2013 13:30               1   \n",
              "5970               1        1397.0    3/4/2013 7:00               0   \n",
              "\n",
              "      mobile_site_booking  booking_created   from_lat  from_long  to_lat  \\\n",
              "2158                    0  1/24/2013 15:32  12.953020   77.56333     NaN   \n",
              "3945                    0  2/10/2013 13:26  12.968887   77.63575     NaN   \n",
              "4912                    0  2/19/2013 21:29  12.968887   77.63575     NaN   \n",
              "5144                    0  2/22/2013 10:22  12.968887   77.63575     NaN   \n",
              "5970                    0   3/2/2013 17:48  12.968887   77.63575     NaN   \n",
              "\n",
              "      to_long  \n",
              "2158      NaN  \n",
              "3945      NaN  \n",
              "4912      NaN  \n",
              "5144      NaN  \n",
              "5970      NaN  "
            ],
            "text/html": [
              "\n",
              "  <div id=\"df-a5cd0b87-331b-4dfe-8876-9a456afef437\">\n",
              "    <div class=\"colab-df-container\">\n",
              "      <div>\n",
              "<style scoped>\n",
              "    .dataframe tbody tr th:only-of-type {\n",
              "        vertical-align: middle;\n",
              "    }\n",
              "\n",
              "    .dataframe tbody tr th {\n",
              "        vertical-align: top;\n",
              "    }\n",
              "\n",
              "    .dataframe thead th {\n",
              "        text-align: right;\n",
              "    }\n",
              "</style>\n",
              "<table border=\"1\" class=\"dataframe\">\n",
              "  <thead>\n",
              "    <tr style=\"text-align: right;\">\n",
              "      <th></th>\n",
              "      <th>travel_type_id</th>\n",
              "      <th>from_area_id</th>\n",
              "      <th>from_date</th>\n",
              "      <th>online_booking</th>\n",
              "      <th>mobile_site_booking</th>\n",
              "      <th>booking_created</th>\n",
              "      <th>from_lat</th>\n",
              "      <th>from_long</th>\n",
              "      <th>to_lat</th>\n",
              "      <th>to_long</th>\n",
              "    </tr>\n",
              "  </thead>\n",
              "  <tbody>\n",
              "    <tr>\n",
              "      <th>2158</th>\n",
              "      <td>1</td>\n",
              "      <td>483.0</td>\n",
              "      <td>1/25/2013 6:00</td>\n",
              "      <td>1</td>\n",
              "      <td>0</td>\n",
              "      <td>1/24/2013 15:32</td>\n",
              "      <td>12.953020</td>\n",
              "      <td>77.56333</td>\n",
              "      <td>NaN</td>\n",
              "      <td>NaN</td>\n",
              "    </tr>\n",
              "    <tr>\n",
              "      <th>3945</th>\n",
              "      <td>1</td>\n",
              "      <td>1397.0</td>\n",
              "      <td>2/10/2013 16:30</td>\n",
              "      <td>1</td>\n",
              "      <td>0</td>\n",
              "      <td>2/10/2013 13:26</td>\n",
              "      <td>12.968887</td>\n",
              "      <td>77.63575</td>\n",
              "      <td>NaN</td>\n",
              "      <td>NaN</td>\n",
              "    </tr>\n",
              "    <tr>\n",
              "      <th>4912</th>\n",
              "      <td>1</td>\n",
              "      <td>1397.0</td>\n",
              "      <td>2/23/2013 6:30</td>\n",
              "      <td>1</td>\n",
              "      <td>0</td>\n",
              "      <td>2/19/2013 21:29</td>\n",
              "      <td>12.968887</td>\n",
              "      <td>77.63575</td>\n",
              "      <td>NaN</td>\n",
              "      <td>NaN</td>\n",
              "    </tr>\n",
              "    <tr>\n",
              "      <th>5144</th>\n",
              "      <td>1</td>\n",
              "      <td>1397.0</td>\n",
              "      <td>2/22/2013 13:30</td>\n",
              "      <td>1</td>\n",
              "      <td>0</td>\n",
              "      <td>2/22/2013 10:22</td>\n",
              "      <td>12.968887</td>\n",
              "      <td>77.63575</td>\n",
              "      <td>NaN</td>\n",
              "      <td>NaN</td>\n",
              "    </tr>\n",
              "    <tr>\n",
              "      <th>5970</th>\n",
              "      <td>1</td>\n",
              "      <td>1397.0</td>\n",
              "      <td>3/4/2013 7:00</td>\n",
              "      <td>0</td>\n",
              "      <td>0</td>\n",
              "      <td>3/2/2013 17:48</td>\n",
              "      <td>12.968887</td>\n",
              "      <td>77.63575</td>\n",
              "      <td>NaN</td>\n",
              "      <td>NaN</td>\n",
              "    </tr>\n",
              "  </tbody>\n",
              "</table>\n",
              "</div>\n",
              "      <button class=\"colab-df-convert\" onclick=\"convertToInteractive('df-a5cd0b87-331b-4dfe-8876-9a456afef437')\"\n",
              "              title=\"Convert this dataframe to an interactive table.\"\n",
              "              style=\"display:none;\">\n",
              "        \n",
              "  <svg xmlns=\"http://www.w3.org/2000/svg\" height=\"24px\"viewBox=\"0 0 24 24\"\n",
              "       width=\"24px\">\n",
              "    <path d=\"M0 0h24v24H0V0z\" fill=\"none\"/>\n",
              "    <path d=\"M18.56 5.44l.94 2.06.94-2.06 2.06-.94-2.06-.94-.94-2.06-.94 2.06-2.06.94zm-11 1L8.5 8.5l.94-2.06 2.06-.94-2.06-.94L8.5 2.5l-.94 2.06-2.06.94zm10 10l.94 2.06.94-2.06 2.06-.94-2.06-.94-.94-2.06-.94 2.06-2.06.94z\"/><path d=\"M17.41 7.96l-1.37-1.37c-.4-.4-.92-.59-1.43-.59-.52 0-1.04.2-1.43.59L10.3 9.45l-7.72 7.72c-.78.78-.78 2.05 0 2.83L4 21.41c.39.39.9.59 1.41.59.51 0 1.02-.2 1.41-.59l7.78-7.78 2.81-2.81c.8-.78.8-2.07 0-2.86zM5.41 20L4 18.59l7.72-7.72 1.47 1.35L5.41 20z\"/>\n",
              "  </svg>\n",
              "      </button>\n",
              "      \n",
              "  <style>\n",
              "    .colab-df-container {\n",
              "      display:flex;\n",
              "      flex-wrap:wrap;\n",
              "      gap: 12px;\n",
              "    }\n",
              "\n",
              "    .colab-df-convert {\n",
              "      background-color: #E8F0FE;\n",
              "      border: none;\n",
              "      border-radius: 50%;\n",
              "      cursor: pointer;\n",
              "      display: none;\n",
              "      fill: #1967D2;\n",
              "      height: 32px;\n",
              "      padding: 0 0 0 0;\n",
              "      width: 32px;\n",
              "    }\n",
              "\n",
              "    .colab-df-convert:hover {\n",
              "      background-color: #E2EBFA;\n",
              "      box-shadow: 0px 1px 2px rgba(60, 64, 67, 0.3), 0px 1px 3px 1px rgba(60, 64, 67, 0.15);\n",
              "      fill: #174EA6;\n",
              "    }\n",
              "\n",
              "    [theme=dark] .colab-df-convert {\n",
              "      background-color: #3B4455;\n",
              "      fill: #D2E3FC;\n",
              "    }\n",
              "\n",
              "    [theme=dark] .colab-df-convert:hover {\n",
              "      background-color: #434B5C;\n",
              "      box-shadow: 0px 1px 3px 1px rgba(0, 0, 0, 0.15);\n",
              "      filter: drop-shadow(0px 1px 2px rgba(0, 0, 0, 0.3));\n",
              "      fill: #FFFFFF;\n",
              "    }\n",
              "  </style>\n",
              "\n",
              "      <script>\n",
              "        const buttonEl =\n",
              "          document.querySelector('#df-a5cd0b87-331b-4dfe-8876-9a456afef437 button.colab-df-convert');\n",
              "        buttonEl.style.display =\n",
              "          google.colab.kernel.accessAllowed ? 'block' : 'none';\n",
              "\n",
              "        async function convertToInteractive(key) {\n",
              "          const element = document.querySelector('#df-a5cd0b87-331b-4dfe-8876-9a456afef437');\n",
              "          const dataTable =\n",
              "            await google.colab.kernel.invokeFunction('convertToInteractive',\n",
              "                                                     [key], {});\n",
              "          if (!dataTable) return;\n",
              "\n",
              "          const docLinkHtml = 'Like what you see? Visit the ' +\n",
              "            '<a target=\"_blank\" href=https://colab.research.google.com/notebooks/data_table.ipynb>data table notebook</a>'\n",
              "            + ' to learn more about interactive tables.';\n",
              "          element.innerHTML = '';\n",
              "          dataTable['output_type'] = 'display_data';\n",
              "          await google.colab.output.renderOutput(dataTable, element);\n",
              "          const docLink = document.createElement('div');\n",
              "          docLink.innerHTML = docLinkHtml;\n",
              "          element.appendChild(docLink);\n",
              "        }\n",
              "      </script>\n",
              "    </div>\n",
              "  </div>\n",
              "  "
            ]
          },
          "metadata": {},
          "execution_count": 30
        }
      ]
    },
    {
      "cell_type": "code",
      "source": [
        "data[data['to_lat'].isnull()]['from_area_id'].value_counts()"
      ],
      "metadata": {
        "execution": {
          "iopub.status.busy": "2022-03-14T19:25:28.568244Z",
          "iopub.execute_input": "2022-03-14T19:25:28.568546Z",
          "iopub.status.idle": "2022-03-14T19:25:28.579203Z",
          "shell.execute_reply.started": "2022-03-14T19:25:28.56851Z",
          "shell.execute_reply": "2022-03-14T19:25:28.578378Z"
        },
        "trusted": true,
        "colab": {
          "base_uri": "https://localhost:8080/"
        },
        "id": "D4jjrE-Vceco",
        "outputId": "55de4351-c757-458a-9451-b6cda39c7b35"
      },
      "execution_count": null,
      "outputs": [
        {
          "output_type": "execute_result",
          "data": {
            "text/plain": [
              "1397.0    90\n",
              "1396.0     3\n",
              "173.0      2\n",
              "17.0       2\n",
              "483.0      1\n",
              "1215.0     1\n",
              "1265.0     1\n",
              "215.0      1\n",
              "1080.0     1\n",
              "802.0      1\n",
              "1164.0     1\n",
              "178.0      1\n",
              "Name: from_area_id, dtype: int64"
            ]
          },
          "metadata": {},
          "execution_count": 31
        }
      ]
    },
    {
      "cell_type": "code",
      "source": [
        "data['to_lat'].fillna(data['to_lat'].median(), inplace=True)\n",
        "data['to_long'].fillna(data['to_long'].median(), inplace=True)"
      ],
      "metadata": {
        "execution": {
          "iopub.status.busy": "2022-03-14T19:25:28.580307Z",
          "iopub.execute_input": "2022-03-14T19:25:28.580609Z",
          "iopub.status.idle": "2022-03-14T19:25:28.595705Z",
          "shell.execute_reply.started": "2022-03-14T19:25:28.580566Z",
          "shell.execute_reply": "2022-03-14T19:25:28.594757Z"
        },
        "trusted": true,
        "id": "ThES7sj5ceco"
      },
      "execution_count": null,
      "outputs": []
    },
    {
      "cell_type": "code",
      "source": [
        "data.info()"
      ],
      "metadata": {
        "execution": {
          "iopub.status.busy": "2022-03-14T19:25:28.596958Z",
          "iopub.execute_input": "2022-03-14T19:25:28.597697Z",
          "iopub.status.idle": "2022-03-14T19:25:28.624884Z",
          "shell.execute_reply.started": "2022-03-14T19:25:28.597648Z",
          "shell.execute_reply": "2022-03-14T19:25:28.624119Z"
        },
        "trusted": true,
        "colab": {
          "base_uri": "https://localhost:8080/"
        },
        "id": "cWkc3lRicecp",
        "outputId": "152c0198-6eb2-4746-8ac7-3f2c210842ad"
      },
      "execution_count": null,
      "outputs": [
        {
          "output_type": "stream",
          "name": "stdout",
          "text": [
            "<class 'pandas.core.frame.DataFrame'>\n",
            "RangeIndex: 43431 entries, 0 to 43430\n",
            "Data columns (total 10 columns):\n",
            " #   Column               Non-Null Count  Dtype  \n",
            "---  ------               --------------  -----  \n",
            " 0   travel_type_id       43431 non-null  int64  \n",
            " 1   from_area_id         43431 non-null  float64\n",
            " 2   from_date            43431 non-null  object \n",
            " 3   online_booking       43431 non-null  int64  \n",
            " 4   mobile_site_booking  43431 non-null  int64  \n",
            " 5   booking_created      43431 non-null  object \n",
            " 6   from_lat             43431 non-null  float64\n",
            " 7   from_long            43431 non-null  float64\n",
            " 8   to_lat               43431 non-null  float64\n",
            " 9   to_long              43431 non-null  float64\n",
            "dtypes: float64(5), int64(3), object(2)\n",
            "memory usage: 3.3+ MB\n"
          ]
        }
      ]
    },
    {
      "cell_type": "markdown",
      "source": [
        "## Encoding"
      ],
      "metadata": {
        "id": "df0zDNXEcecp"
      }
    },
    {
      "cell_type": "code",
      "source": [
        "traveltype = pd.get_dummies(data['travel_type_id'],drop_first=True)"
      ],
      "metadata": {
        "execution": {
          "iopub.status.busy": "2022-03-14T19:25:28.626383Z",
          "iopub.execute_input": "2022-03-14T19:25:28.626857Z",
          "iopub.status.idle": "2022-03-14T19:25:28.633392Z",
          "shell.execute_reply.started": "2022-03-14T19:25:28.626804Z",
          "shell.execute_reply": "2022-03-14T19:25:28.632587Z"
        },
        "trusted": true,
        "id": "E0vqZPlwcecq"
      },
      "execution_count": null,
      "outputs": []
    },
    {
      "cell_type": "code",
      "source": [
        "data = pd.concat([data,traveltype],axis=1)\n",
        "data = data.drop(['travel_type_id'],axis=1)"
      ],
      "metadata": {
        "execution": {
          "iopub.status.busy": "2022-03-14T19:25:28.634889Z",
          "iopub.execute_input": "2022-03-14T19:25:28.635336Z",
          "iopub.status.idle": "2022-03-14T19:25:28.658938Z",
          "shell.execute_reply.started": "2022-03-14T19:25:28.635275Z",
          "shell.execute_reply": "2022-03-14T19:25:28.657975Z"
        },
        "trusted": true,
        "id": "HmsswKe6cecq"
      },
      "execution_count": null,
      "outputs": []
    },
    {
      "cell_type": "code",
      "source": [
        "data.rename(columns={2:'traveltype_pointtopoint',3:'traveltype_hourly'},inplace=True)"
      ],
      "metadata": {
        "execution": {
          "iopub.status.busy": "2022-03-14T19:25:28.660431Z",
          "iopub.execute_input": "2022-03-14T19:25:28.661166Z",
          "iopub.status.idle": "2022-03-14T19:25:28.667947Z",
          "shell.execute_reply.started": "2022-03-14T19:25:28.661121Z",
          "shell.execute_reply": "2022-03-14T19:25:28.666768Z"
        },
        "trusted": true,
        "id": "DOU-Ms42cecq"
      },
      "execution_count": null,
      "outputs": []
    },
    {
      "cell_type": "code",
      "source": [
        "def cal_distance(from_lat,from_long,to_lat,to_long):\n",
        "  return distance.distance((from_lat,from_long),(to_lat,to_long)).km"
      ],
      "metadata": {
        "execution": {
          "iopub.status.busy": "2022-03-14T19:25:28.66956Z",
          "iopub.execute_input": "2022-03-14T19:25:28.670128Z",
          "iopub.status.idle": "2022-03-14T19:25:28.680076Z",
          "shell.execute_reply.started": "2022-03-14T19:25:28.670076Z",
          "shell.execute_reply": "2022-03-14T19:25:28.679114Z"
        },
        "trusted": true,
        "id": "s81oPe2_cecq"
      },
      "execution_count": null,
      "outputs": []
    },
    {
      "cell_type": "code",
      "source": [
        "data['distance'] = data.apply(lambda row: cal_distance(row['from_lat'],row['from_long'],row['to_lat'],row['to_long']),axis=1)"
      ],
      "metadata": {
        "execution": {
          "iopub.status.busy": "2022-03-14T19:25:28.681746Z",
          "iopub.execute_input": "2022-03-14T19:25:28.682399Z",
          "iopub.status.idle": "2022-03-14T19:25:41.932987Z",
          "shell.execute_reply.started": "2022-03-14T19:25:28.682345Z",
          "shell.execute_reply": "2022-03-14T19:25:41.931925Z"
        },
        "trusted": true,
        "id": "Nghi6zrwcecr"
      },
      "execution_count": null,
      "outputs": []
    },
    {
      "cell_type": "code",
      "source": [
        "data = data.drop(['from_lat','from_long','to_lat','to_long'],axis=1)"
      ],
      "metadata": {
        "execution": {
          "iopub.status.busy": "2022-03-14T19:25:41.935122Z",
          "iopub.execute_input": "2022-03-14T19:25:41.935486Z",
          "iopub.status.idle": "2022-03-14T19:25:41.945359Z",
          "shell.execute_reply.started": "2022-03-14T19:25:41.935441Z",
          "shell.execute_reply": "2022-03-14T19:25:41.944303Z"
        },
        "trusted": true,
        "id": "1vbLfbt8cecr"
      },
      "execution_count": null,
      "outputs": []
    },
    {
      "cell_type": "markdown",
      "source": [
        "## Extracting date and time from timestamp"
      ],
      "metadata": {
        "id": "p1Bm8ZmIcecr"
      }
    },
    {
      "cell_type": "code",
      "source": [
        "data['from_date_dt'] = pd.to_datetime(data['from_date']).dt.strftime('%m/%d/%Y')\n",
        "data['from_time_tm'] = pd.to_datetime(data['from_date']).dt.strftime('%H:%M')\n",
        "data['booking_created_dt'] = pd.to_datetime(data['booking_created']).dt.strftime('%m/%d/%Y')\n",
        "data['booking_created_tm'] = pd.to_datetime(data['booking_created']).dt.strftime('%H:%M')"
      ],
      "metadata": {
        "execution": {
          "iopub.status.busy": "2022-03-14T19:25:41.947245Z",
          "iopub.execute_input": "2022-03-14T19:25:41.949519Z",
          "iopub.status.idle": "2022-03-14T19:25:56.236194Z",
          "shell.execute_reply.started": "2022-03-14T19:25:41.949462Z",
          "shell.execute_reply": "2022-03-14T19:25:56.235199Z"
        },
        "trusted": true,
        "id": "uNcpqhrdcecr"
      },
      "execution_count": null,
      "outputs": []
    },
    {
      "cell_type": "code",
      "source": [
        "data['from_date_day'] = pd.to_datetime(data['from_date_dt']).dt.day_name()\n",
        "data['booking_created_day'] = pd.to_datetime(data['booking_created_dt']).dt.day_name()\n",
        "data['from_date_month'] = pd.to_datetime(data['from_date_dt']).dt.month_name()\n",
        "data['booking_created_month'] = pd.to_datetime(data['booking_created_dt']).dt.month_name()\n",
        "data['from_date_week'] = np.where((data['from_date_day']=='Saturday') | (data['from_date_day']=='Sunday'),'Weekend','Weekday')\n",
        "data['booking_created_week'] = np.where((data['booking_created_day']=='Saturday') | (data['booking_created_day']=='Sunday'),'Weekend','Weekday')"
      ],
      "metadata": {
        "execution": {
          "iopub.status.busy": "2022-03-14T19:25:56.237543Z",
          "iopub.execute_input": "2022-03-14T19:25:56.237808Z",
          "iopub.status.idle": "2022-03-14T19:25:56.402095Z",
          "shell.execute_reply.started": "2022-03-14T19:25:56.237775Z",
          "shell.execute_reply": "2022-03-14T19:25:56.401175Z"
        },
        "trusted": true,
        "id": "ssmiCboxcecs"
      },
      "execution_count": null,
      "outputs": []
    },
    {
      "cell_type": "code",
      "source": [
        "cond = [(pd.to_datetime(data['from_time_tm']).dt.hour.between(5, 8)),\n",
        "        (pd.to_datetime(data['from_time_tm']).dt.hour.between(9, 12)),\n",
        "        (pd.to_datetime(data['from_time_tm']).dt.hour.between(13, 16)),\n",
        "        (pd.to_datetime(data['from_time_tm']).dt.hour.between(17, 20)),\n",
        "        ((pd.to_datetime(data['from_time_tm']).dt.hour.between(21, 24)) | (pd.to_datetime(data['from_time_tm']).dt.hour==0)),\n",
        "        (pd.to_datetime(data['from_time_tm']).dt.hour.between(1, 4))]\n",
        "values = ['Early Morning','Morning','Afternoon','Evening','Night','Late Night']\n",
        "data['from_date_session'] = np.select(cond,values)"
      ],
      "metadata": {
        "execution": {
          "iopub.status.busy": "2022-03-14T19:25:56.403661Z",
          "iopub.execute_input": "2022-03-14T19:25:56.404459Z",
          "iopub.status.idle": "2022-03-14T19:25:56.592157Z",
          "shell.execute_reply.started": "2022-03-14T19:25:56.404406Z",
          "shell.execute_reply": "2022-03-14T19:25:56.591333Z"
        },
        "trusted": true,
        "id": "pAwJtBVWcecs"
      },
      "execution_count": null,
      "outputs": []
    },
    {
      "cell_type": "code",
      "source": [
        "cond = [(pd.to_datetime(data['booking_created_tm']).dt.hour.between(5, 8)),\n",
        "        (pd.to_datetime(data['booking_created_tm']).dt.hour.between(9, 12)),\n",
        "        (pd.to_datetime(data['booking_created_tm']).dt.hour.between(13, 16)),\n",
        "        (pd.to_datetime(data['booking_created_tm']).dt.hour.between(17, 20)),\n",
        "        ((pd.to_datetime(data['booking_created_tm']).dt.hour.between(21, 24)) | (pd.to_datetime(data['booking_created_tm']).dt.hour==0)),\n",
        "        (pd.to_datetime(data['booking_created_tm']).dt.hour.between(1, 4))]\n",
        "values = ['Early Morning','Morning','Afternoon','Evening','Night','Late Night']\n",
        "data['booking_created_session'] = np.select(cond,values)"
      ],
      "metadata": {
        "execution": {
          "iopub.status.busy": "2022-03-14T19:25:56.593516Z",
          "iopub.execute_input": "2022-03-14T19:25:56.594107Z",
          "iopub.status.idle": "2022-03-14T19:26:09.745775Z",
          "shell.execute_reply.started": "2022-03-14T19:25:56.594073Z",
          "shell.execute_reply": "2022-03-14T19:26:09.744704Z"
        },
        "trusted": true,
        "id": "EdhRvWf-cecs"
      },
      "execution_count": null,
      "outputs": []
    },
    {
      "cell_type": "code",
      "source": [
        "data['time_diff'] = (pd.to_datetime(data['from_date']) - pd.to_datetime(data['booking_created'])).astype('timedelta64[m]')"
      ],
      "metadata": {
        "execution": {
          "iopub.status.busy": "2022-03-14T19:26:09.747059Z",
          "iopub.execute_input": "2022-03-14T19:26:09.747331Z",
          "iopub.status.idle": "2022-03-14T19:26:16.213372Z",
          "shell.execute_reply.started": "2022-03-14T19:26:09.747288Z",
          "shell.execute_reply": "2022-03-14T19:26:16.212372Z"
        },
        "trusted": true,
        "id": "B5HFx_Facect"
      },
      "execution_count": null,
      "outputs": []
    },
    {
      "cell_type": "code",
      "source": [
        "data[data['time_diff'] < 0].head()"
      ],
      "metadata": {
        "execution": {
          "iopub.status.busy": "2022-03-14T19:26:16.215046Z",
          "iopub.execute_input": "2022-03-14T19:26:16.215346Z",
          "iopub.status.idle": "2022-03-14T19:26:16.275096Z",
          "shell.execute_reply.started": "2022-03-14T19:26:16.215288Z",
          "shell.execute_reply": "2022-03-14T19:26:16.274133Z"
        },
        "trusted": true,
        "colab": {
          "base_uri": "https://localhost:8080/",
          "height": 386
        },
        "id": "WLZROl-Qcect",
        "outputId": "557b9c0a-330c-4473-ce40-2937e08bc080"
      },
      "execution_count": null,
      "outputs": [
        {
          "output_type": "execute_result",
          "data": {
            "text/plain": [
              "      from_area_id        from_date  online_booking  mobile_site_booking  \\\n",
              "1763        1298.0  1/20/2013 14:15               0                    0   \n",
              "2990         393.0    2/1/2013 9:45               0                    0   \n",
              "4228         571.0  2/13/2013 18:00               0                    0   \n",
              "5303        1068.0  2/23/2013 18:00               0                    0   \n",
              "6106        1010.0    3/4/2013 0:30               0                    0   \n",
              "\n",
              "      booking_created  traveltype_pointtopoint  traveltype_hourly   distance  \\\n",
              "1763  1/20/2013 15:01                        0                  1   8.482630   \n",
              "2990   2/1/2013 13:18                        0                  1  28.576256   \n",
              "4228  2/13/2013 18:29                        0                  1   5.866543   \n",
              "5303  2/23/2013 18:03                        0                  1   3.547502   \n",
              "6106    3/4/2013 2:00                        0                  1  10.133543   \n",
              "\n",
              "     from_date_dt from_time_tm  ... booking_created_tm from_date_day  \\\n",
              "1763   01/20/2013        14:15  ...              15:01        Sunday   \n",
              "2990   02/01/2013        09:45  ...              13:18        Friday   \n",
              "4228   02/13/2013        18:00  ...              18:29     Wednesday   \n",
              "5303   02/23/2013        18:00  ...              18:03      Saturday   \n",
              "6106   03/04/2013        00:30  ...              02:00        Monday   \n",
              "\n",
              "     booking_created_day from_date_month booking_created_month from_date_week  \\\n",
              "1763              Sunday         January               January        Weekend   \n",
              "2990              Friday        February              February        Weekday   \n",
              "4228           Wednesday        February              February        Weekday   \n",
              "5303            Saturday        February              February        Weekend   \n",
              "6106              Monday           March                 March        Weekday   \n",
              "\n",
              "     booking_created_week from_date_session booking_created_session time_diff  \n",
              "1763              Weekend         Afternoon               Afternoon     -46.0  \n",
              "2990              Weekday           Morning               Afternoon    -213.0  \n",
              "4228              Weekday           Evening                 Evening     -29.0  \n",
              "5303              Weekend           Evening                 Evening      -3.0  \n",
              "6106              Weekday             Night              Late Night     -90.0  \n",
              "\n",
              "[5 rows x 21 columns]"
            ],
            "text/html": [
              "\n",
              "  <div id=\"df-c030f8d5-2a74-4084-a2fb-37cac5aa3cb8\">\n",
              "    <div class=\"colab-df-container\">\n",
              "      <div>\n",
              "<style scoped>\n",
              "    .dataframe tbody tr th:only-of-type {\n",
              "        vertical-align: middle;\n",
              "    }\n",
              "\n",
              "    .dataframe tbody tr th {\n",
              "        vertical-align: top;\n",
              "    }\n",
              "\n",
              "    .dataframe thead th {\n",
              "        text-align: right;\n",
              "    }\n",
              "</style>\n",
              "<table border=\"1\" class=\"dataframe\">\n",
              "  <thead>\n",
              "    <tr style=\"text-align: right;\">\n",
              "      <th></th>\n",
              "      <th>from_area_id</th>\n",
              "      <th>from_date</th>\n",
              "      <th>online_booking</th>\n",
              "      <th>mobile_site_booking</th>\n",
              "      <th>booking_created</th>\n",
              "      <th>traveltype_pointtopoint</th>\n",
              "      <th>traveltype_hourly</th>\n",
              "      <th>distance</th>\n",
              "      <th>from_date_dt</th>\n",
              "      <th>from_time_tm</th>\n",
              "      <th>...</th>\n",
              "      <th>booking_created_tm</th>\n",
              "      <th>from_date_day</th>\n",
              "      <th>booking_created_day</th>\n",
              "      <th>from_date_month</th>\n",
              "      <th>booking_created_month</th>\n",
              "      <th>from_date_week</th>\n",
              "      <th>booking_created_week</th>\n",
              "      <th>from_date_session</th>\n",
              "      <th>booking_created_session</th>\n",
              "      <th>time_diff</th>\n",
              "    </tr>\n",
              "  </thead>\n",
              "  <tbody>\n",
              "    <tr>\n",
              "      <th>1763</th>\n",
              "      <td>1298.0</td>\n",
              "      <td>1/20/2013 14:15</td>\n",
              "      <td>0</td>\n",
              "      <td>0</td>\n",
              "      <td>1/20/2013 15:01</td>\n",
              "      <td>0</td>\n",
              "      <td>1</td>\n",
              "      <td>8.482630</td>\n",
              "      <td>01/20/2013</td>\n",
              "      <td>14:15</td>\n",
              "      <td>...</td>\n",
              "      <td>15:01</td>\n",
              "      <td>Sunday</td>\n",
              "      <td>Sunday</td>\n",
              "      <td>January</td>\n",
              "      <td>January</td>\n",
              "      <td>Weekend</td>\n",
              "      <td>Weekend</td>\n",
              "      <td>Afternoon</td>\n",
              "      <td>Afternoon</td>\n",
              "      <td>-46.0</td>\n",
              "    </tr>\n",
              "    <tr>\n",
              "      <th>2990</th>\n",
              "      <td>393.0</td>\n",
              "      <td>2/1/2013 9:45</td>\n",
              "      <td>0</td>\n",
              "      <td>0</td>\n",
              "      <td>2/1/2013 13:18</td>\n",
              "      <td>0</td>\n",
              "      <td>1</td>\n",
              "      <td>28.576256</td>\n",
              "      <td>02/01/2013</td>\n",
              "      <td>09:45</td>\n",
              "      <td>...</td>\n",
              "      <td>13:18</td>\n",
              "      <td>Friday</td>\n",
              "      <td>Friday</td>\n",
              "      <td>February</td>\n",
              "      <td>February</td>\n",
              "      <td>Weekday</td>\n",
              "      <td>Weekday</td>\n",
              "      <td>Morning</td>\n",
              "      <td>Afternoon</td>\n",
              "      <td>-213.0</td>\n",
              "    </tr>\n",
              "    <tr>\n",
              "      <th>4228</th>\n",
              "      <td>571.0</td>\n",
              "      <td>2/13/2013 18:00</td>\n",
              "      <td>0</td>\n",
              "      <td>0</td>\n",
              "      <td>2/13/2013 18:29</td>\n",
              "      <td>0</td>\n",
              "      <td>1</td>\n",
              "      <td>5.866543</td>\n",
              "      <td>02/13/2013</td>\n",
              "      <td>18:00</td>\n",
              "      <td>...</td>\n",
              "      <td>18:29</td>\n",
              "      <td>Wednesday</td>\n",
              "      <td>Wednesday</td>\n",
              "      <td>February</td>\n",
              "      <td>February</td>\n",
              "      <td>Weekday</td>\n",
              "      <td>Weekday</td>\n",
              "      <td>Evening</td>\n",
              "      <td>Evening</td>\n",
              "      <td>-29.0</td>\n",
              "    </tr>\n",
              "    <tr>\n",
              "      <th>5303</th>\n",
              "      <td>1068.0</td>\n",
              "      <td>2/23/2013 18:00</td>\n",
              "      <td>0</td>\n",
              "      <td>0</td>\n",
              "      <td>2/23/2013 18:03</td>\n",
              "      <td>0</td>\n",
              "      <td>1</td>\n",
              "      <td>3.547502</td>\n",
              "      <td>02/23/2013</td>\n",
              "      <td>18:00</td>\n",
              "      <td>...</td>\n",
              "      <td>18:03</td>\n",
              "      <td>Saturday</td>\n",
              "      <td>Saturday</td>\n",
              "      <td>February</td>\n",
              "      <td>February</td>\n",
              "      <td>Weekend</td>\n",
              "      <td>Weekend</td>\n",
              "      <td>Evening</td>\n",
              "      <td>Evening</td>\n",
              "      <td>-3.0</td>\n",
              "    </tr>\n",
              "    <tr>\n",
              "      <th>6106</th>\n",
              "      <td>1010.0</td>\n",
              "      <td>3/4/2013 0:30</td>\n",
              "      <td>0</td>\n",
              "      <td>0</td>\n",
              "      <td>3/4/2013 2:00</td>\n",
              "      <td>0</td>\n",
              "      <td>1</td>\n",
              "      <td>10.133543</td>\n",
              "      <td>03/04/2013</td>\n",
              "      <td>00:30</td>\n",
              "      <td>...</td>\n",
              "      <td>02:00</td>\n",
              "      <td>Monday</td>\n",
              "      <td>Monday</td>\n",
              "      <td>March</td>\n",
              "      <td>March</td>\n",
              "      <td>Weekday</td>\n",
              "      <td>Weekday</td>\n",
              "      <td>Night</td>\n",
              "      <td>Late Night</td>\n",
              "      <td>-90.0</td>\n",
              "    </tr>\n",
              "  </tbody>\n",
              "</table>\n",
              "<p>5 rows × 21 columns</p>\n",
              "</div>\n",
              "      <button class=\"colab-df-convert\" onclick=\"convertToInteractive('df-c030f8d5-2a74-4084-a2fb-37cac5aa3cb8')\"\n",
              "              title=\"Convert this dataframe to an interactive table.\"\n",
              "              style=\"display:none;\">\n",
              "        \n",
              "  <svg xmlns=\"http://www.w3.org/2000/svg\" height=\"24px\"viewBox=\"0 0 24 24\"\n",
              "       width=\"24px\">\n",
              "    <path d=\"M0 0h24v24H0V0z\" fill=\"none\"/>\n",
              "    <path d=\"M18.56 5.44l.94 2.06.94-2.06 2.06-.94-2.06-.94-.94-2.06-.94 2.06-2.06.94zm-11 1L8.5 8.5l.94-2.06 2.06-.94-2.06-.94L8.5 2.5l-.94 2.06-2.06.94zm10 10l.94 2.06.94-2.06 2.06-.94-2.06-.94-.94-2.06-.94 2.06-2.06.94z\"/><path d=\"M17.41 7.96l-1.37-1.37c-.4-.4-.92-.59-1.43-.59-.52 0-1.04.2-1.43.59L10.3 9.45l-7.72 7.72c-.78.78-.78 2.05 0 2.83L4 21.41c.39.39.9.59 1.41.59.51 0 1.02-.2 1.41-.59l7.78-7.78 2.81-2.81c.8-.78.8-2.07 0-2.86zM5.41 20L4 18.59l7.72-7.72 1.47 1.35L5.41 20z\"/>\n",
              "  </svg>\n",
              "      </button>\n",
              "      \n",
              "  <style>\n",
              "    .colab-df-container {\n",
              "      display:flex;\n",
              "      flex-wrap:wrap;\n",
              "      gap: 12px;\n",
              "    }\n",
              "\n",
              "    .colab-df-convert {\n",
              "      background-color: #E8F0FE;\n",
              "      border: none;\n",
              "      border-radius: 50%;\n",
              "      cursor: pointer;\n",
              "      display: none;\n",
              "      fill: #1967D2;\n",
              "      height: 32px;\n",
              "      padding: 0 0 0 0;\n",
              "      width: 32px;\n",
              "    }\n",
              "\n",
              "    .colab-df-convert:hover {\n",
              "      background-color: #E2EBFA;\n",
              "      box-shadow: 0px 1px 2px rgba(60, 64, 67, 0.3), 0px 1px 3px 1px rgba(60, 64, 67, 0.15);\n",
              "      fill: #174EA6;\n",
              "    }\n",
              "\n",
              "    [theme=dark] .colab-df-convert {\n",
              "      background-color: #3B4455;\n",
              "      fill: #D2E3FC;\n",
              "    }\n",
              "\n",
              "    [theme=dark] .colab-df-convert:hover {\n",
              "      background-color: #434B5C;\n",
              "      box-shadow: 0px 1px 3px 1px rgba(0, 0, 0, 0.15);\n",
              "      filter: drop-shadow(0px 1px 2px rgba(0, 0, 0, 0.3));\n",
              "      fill: #FFFFFF;\n",
              "    }\n",
              "  </style>\n",
              "\n",
              "      <script>\n",
              "        const buttonEl =\n",
              "          document.querySelector('#df-c030f8d5-2a74-4084-a2fb-37cac5aa3cb8 button.colab-df-convert');\n",
              "        buttonEl.style.display =\n",
              "          google.colab.kernel.accessAllowed ? 'block' : 'none';\n",
              "\n",
              "        async function convertToInteractive(key) {\n",
              "          const element = document.querySelector('#df-c030f8d5-2a74-4084-a2fb-37cac5aa3cb8');\n",
              "          const dataTable =\n",
              "            await google.colab.kernel.invokeFunction('convertToInteractive',\n",
              "                                                     [key], {});\n",
              "          if (!dataTable) return;\n",
              "\n",
              "          const docLinkHtml = 'Like what you see? Visit the ' +\n",
              "            '<a target=\"_blank\" href=https://colab.research.google.com/notebooks/data_table.ipynb>data table notebook</a>'\n",
              "            + ' to learn more about interactive tables.';\n",
              "          element.innerHTML = '';\n",
              "          dataTable['output_type'] = 'display_data';\n",
              "          await google.colab.output.renderOutput(dataTable, element);\n",
              "          const docLink = document.createElement('div');\n",
              "          docLink.innerHTML = docLinkHtml;\n",
              "          element.appendChild(docLink);\n",
              "        }\n",
              "      </script>\n",
              "    </div>\n",
              "  </div>\n",
              "  "
            ]
          },
          "metadata": {},
          "execution_count": 45
        }
      ]
    },
    {
      "cell_type": "code",
      "source": [
        "data[data['time_diff'] < 0]['time_diff'].count()"
      ],
      "metadata": {
        "execution": {
          "iopub.status.busy": "2022-03-14T19:26:16.281028Z",
          "iopub.execute_input": "2022-03-14T19:26:16.281455Z",
          "iopub.status.idle": "2022-03-14T19:26:16.29263Z",
          "shell.execute_reply.started": "2022-03-14T19:26:16.281416Z",
          "shell.execute_reply": "2022-03-14T19:26:16.291773Z"
        },
        "trusted": true,
        "colab": {
          "base_uri": "https://localhost:8080/"
        },
        "id": "XfKb2fJycecu",
        "outputId": "f027afd8-1888-4992-851b-494978a1b603"
      },
      "execution_count": null,
      "outputs": [
        {
          "output_type": "execute_result",
          "data": {
            "text/plain": [
              "42"
            ]
          },
          "metadata": {},
          "execution_count": 46
        }
      ]
    },
    {
      "cell_type": "code",
      "source": [
        "data = data.drop(['from_date','booking_created'],axis=1)"
      ],
      "metadata": {
        "execution": {
          "iopub.status.busy": "2022-03-14T19:26:16.294424Z",
          "iopub.execute_input": "2022-03-14T19:26:16.29504Z",
          "iopub.status.idle": "2022-03-14T19:26:16.314385Z",
          "shell.execute_reply.started": "2022-03-14T19:26:16.294992Z",
          "shell.execute_reply": "2022-03-14T19:26:16.313382Z"
        },
        "trusted": true,
        "id": "XiJV5Y1Lcecu"
      },
      "execution_count": null,
      "outputs": []
    },
    {
      "cell_type": "code",
      "source": [
        "data = data.drop(['from_date_dt','from_time_tm','booking_created_dt','booking_created_tm'],axis=1)"
      ],
      "metadata": {
        "execution": {
          "iopub.status.busy": "2022-03-14T19:26:16.316294Z",
          "iopub.execute_input": "2022-03-14T19:26:16.316677Z",
          "iopub.status.idle": "2022-03-14T19:26:16.336869Z",
          "shell.execute_reply.started": "2022-03-14T19:26:16.316629Z",
          "shell.execute_reply": "2022-03-14T19:26:16.335951Z"
        },
        "trusted": true,
        "id": "rD8NwjJ0cecu"
      },
      "execution_count": null,
      "outputs": []
    },
    {
      "cell_type": "code",
      "source": [
        "data_merged = pd.concat([data,target],axis=1,join='inner')\n",
        "data['from_area_id'] = round(data_merged.groupby('from_area_id')['Car_Cancellation'].sum()/data_merged.groupby('from_area_id')['Car_Cancellation'].count(),2)\n",
        "data['from_area_id'].replace(np.nan,0,inplace=True)"
      ],
      "metadata": {
        "execution": {
          "iopub.status.busy": "2022-03-14T19:26:16.33851Z",
          "iopub.execute_input": "2022-03-14T19:26:16.338851Z",
          "iopub.status.idle": "2022-03-14T19:26:16.360294Z",
          "shell.execute_reply.started": "2022-03-14T19:26:16.338806Z",
          "shell.execute_reply": "2022-03-14T19:26:16.359401Z"
        },
        "trusted": true,
        "id": "eKD0cXPzcecu"
      },
      "execution_count": null,
      "outputs": []
    },
    {
      "cell_type": "code",
      "source": [
        "cond = [(data['from_area_id'].astype('float').between(0,0.33)),\n",
        "        (data['from_area_id'].astype('float').between(0.34,0.66)),\n",
        "        (data['from_area_id'].astype('float').between(0.67,1.0))]\n",
        "values = ['Low Cancellation','Medium Cancellation','High Cancellation']\n",
        "data['from_area_id'] = np.select(cond,values)"
      ],
      "metadata": {
        "execution": {
          "iopub.status.busy": "2022-03-14T19:26:16.362114Z",
          "iopub.execute_input": "2022-03-14T19:26:16.362497Z",
          "iopub.status.idle": "2022-03-14T19:26:16.382699Z",
          "shell.execute_reply.started": "2022-03-14T19:26:16.362449Z",
          "shell.execute_reply": "2022-03-14T19:26:16.381776Z"
        },
        "trusted": true,
        "id": "PqINHMgUcecv"
      },
      "execution_count": null,
      "outputs": []
    },
    {
      "cell_type": "code",
      "source": [
        "data.head()"
      ],
      "metadata": {
        "execution": {
          "iopub.status.busy": "2022-03-14T19:26:16.383813Z",
          "iopub.execute_input": "2022-03-14T19:26:16.384791Z",
          "iopub.status.idle": "2022-03-14T19:26:16.404746Z",
          "shell.execute_reply.started": "2022-03-14T19:26:16.384747Z",
          "shell.execute_reply": "2022-03-14T19:26:16.403538Z"
        },
        "trusted": true,
        "colab": {
          "base_uri": "https://localhost:8080/",
          "height": 357
        },
        "id": "RKUJS6ADcecv",
        "outputId": "3253fbe5-2447-4a2e-bca2-abf4e0642309"
      },
      "execution_count": null,
      "outputs": [
        {
          "output_type": "execute_result",
          "data": {
            "text/plain": [
              "       from_area_id  online_booking  mobile_site_booking  \\\n",
              "0  Low Cancellation               0                    0   \n",
              "1  Low Cancellation               0                    0   \n",
              "2  Low Cancellation               0                    0   \n",
              "3  Low Cancellation               0                    0   \n",
              "4  Low Cancellation               0                    0   \n",
              "\n",
              "   traveltype_pointtopoint  traveltype_hourly   distance from_date_day  \\\n",
              "0                        1                  0   3.980687       Tuesday   \n",
              "1                        1                  0  14.004432       Tuesday   \n",
              "2                        1                  0  12.648909       Tuesday   \n",
              "3                        1                  0   9.534596       Tuesday   \n",
              "4                        1                  0  14.655467       Tuesday   \n",
              "\n",
              "  booking_created_day from_date_month booking_created_month from_date_week  \\\n",
              "0             Tuesday         January               January        Weekday   \n",
              "1             Tuesday         January               January        Weekday   \n",
              "2             Tuesday         January               January        Weekday   \n",
              "3             Tuesday         January               January        Weekday   \n",
              "4             Tuesday         January               January        Weekday   \n",
              "\n",
              "  booking_created_week from_date_session booking_created_session  time_diff  \n",
              "0              Weekday        Late Night              Late Night       21.0  \n",
              "1              Weekday           Morning              Late Night      395.0  \n",
              "2              Weekday        Late Night              Late Night       22.0  \n",
              "3              Weekday     Early Morning              Late Night       66.0  \n",
              "4              Weekday           Morning           Early Morning       67.0  "
            ],
            "text/html": [
              "\n",
              "  <div id=\"df-87197908-0637-4f41-8143-5371338633c6\">\n",
              "    <div class=\"colab-df-container\">\n",
              "      <div>\n",
              "<style scoped>\n",
              "    .dataframe tbody tr th:only-of-type {\n",
              "        vertical-align: middle;\n",
              "    }\n",
              "\n",
              "    .dataframe tbody tr th {\n",
              "        vertical-align: top;\n",
              "    }\n",
              "\n",
              "    .dataframe thead th {\n",
              "        text-align: right;\n",
              "    }\n",
              "</style>\n",
              "<table border=\"1\" class=\"dataframe\">\n",
              "  <thead>\n",
              "    <tr style=\"text-align: right;\">\n",
              "      <th></th>\n",
              "      <th>from_area_id</th>\n",
              "      <th>online_booking</th>\n",
              "      <th>mobile_site_booking</th>\n",
              "      <th>traveltype_pointtopoint</th>\n",
              "      <th>traveltype_hourly</th>\n",
              "      <th>distance</th>\n",
              "      <th>from_date_day</th>\n",
              "      <th>booking_created_day</th>\n",
              "      <th>from_date_month</th>\n",
              "      <th>booking_created_month</th>\n",
              "      <th>from_date_week</th>\n",
              "      <th>booking_created_week</th>\n",
              "      <th>from_date_session</th>\n",
              "      <th>booking_created_session</th>\n",
              "      <th>time_diff</th>\n",
              "    </tr>\n",
              "  </thead>\n",
              "  <tbody>\n",
              "    <tr>\n",
              "      <th>0</th>\n",
              "      <td>Low Cancellation</td>\n",
              "      <td>0</td>\n",
              "      <td>0</td>\n",
              "      <td>1</td>\n",
              "      <td>0</td>\n",
              "      <td>3.980687</td>\n",
              "      <td>Tuesday</td>\n",
              "      <td>Tuesday</td>\n",
              "      <td>January</td>\n",
              "      <td>January</td>\n",
              "      <td>Weekday</td>\n",
              "      <td>Weekday</td>\n",
              "      <td>Late Night</td>\n",
              "      <td>Late Night</td>\n",
              "      <td>21.0</td>\n",
              "    </tr>\n",
              "    <tr>\n",
              "      <th>1</th>\n",
              "      <td>Low Cancellation</td>\n",
              "      <td>0</td>\n",
              "      <td>0</td>\n",
              "      <td>1</td>\n",
              "      <td>0</td>\n",
              "      <td>14.004432</td>\n",
              "      <td>Tuesday</td>\n",
              "      <td>Tuesday</td>\n",
              "      <td>January</td>\n",
              "      <td>January</td>\n",
              "      <td>Weekday</td>\n",
              "      <td>Weekday</td>\n",
              "      <td>Morning</td>\n",
              "      <td>Late Night</td>\n",
              "      <td>395.0</td>\n",
              "    </tr>\n",
              "    <tr>\n",
              "      <th>2</th>\n",
              "      <td>Low Cancellation</td>\n",
              "      <td>0</td>\n",
              "      <td>0</td>\n",
              "      <td>1</td>\n",
              "      <td>0</td>\n",
              "      <td>12.648909</td>\n",
              "      <td>Tuesday</td>\n",
              "      <td>Tuesday</td>\n",
              "      <td>January</td>\n",
              "      <td>January</td>\n",
              "      <td>Weekday</td>\n",
              "      <td>Weekday</td>\n",
              "      <td>Late Night</td>\n",
              "      <td>Late Night</td>\n",
              "      <td>22.0</td>\n",
              "    </tr>\n",
              "    <tr>\n",
              "      <th>3</th>\n",
              "      <td>Low Cancellation</td>\n",
              "      <td>0</td>\n",
              "      <td>0</td>\n",
              "      <td>1</td>\n",
              "      <td>0</td>\n",
              "      <td>9.534596</td>\n",
              "      <td>Tuesday</td>\n",
              "      <td>Tuesday</td>\n",
              "      <td>January</td>\n",
              "      <td>January</td>\n",
              "      <td>Weekday</td>\n",
              "      <td>Weekday</td>\n",
              "      <td>Early Morning</td>\n",
              "      <td>Late Night</td>\n",
              "      <td>66.0</td>\n",
              "    </tr>\n",
              "    <tr>\n",
              "      <th>4</th>\n",
              "      <td>Low Cancellation</td>\n",
              "      <td>0</td>\n",
              "      <td>0</td>\n",
              "      <td>1</td>\n",
              "      <td>0</td>\n",
              "      <td>14.655467</td>\n",
              "      <td>Tuesday</td>\n",
              "      <td>Tuesday</td>\n",
              "      <td>January</td>\n",
              "      <td>January</td>\n",
              "      <td>Weekday</td>\n",
              "      <td>Weekday</td>\n",
              "      <td>Morning</td>\n",
              "      <td>Early Morning</td>\n",
              "      <td>67.0</td>\n",
              "    </tr>\n",
              "  </tbody>\n",
              "</table>\n",
              "</div>\n",
              "      <button class=\"colab-df-convert\" onclick=\"convertToInteractive('df-87197908-0637-4f41-8143-5371338633c6')\"\n",
              "              title=\"Convert this dataframe to an interactive table.\"\n",
              "              style=\"display:none;\">\n",
              "        \n",
              "  <svg xmlns=\"http://www.w3.org/2000/svg\" height=\"24px\"viewBox=\"0 0 24 24\"\n",
              "       width=\"24px\">\n",
              "    <path d=\"M0 0h24v24H0V0z\" fill=\"none\"/>\n",
              "    <path d=\"M18.56 5.44l.94 2.06.94-2.06 2.06-.94-2.06-.94-.94-2.06-.94 2.06-2.06.94zm-11 1L8.5 8.5l.94-2.06 2.06-.94-2.06-.94L8.5 2.5l-.94 2.06-2.06.94zm10 10l.94 2.06.94-2.06 2.06-.94-2.06-.94-.94-2.06-.94 2.06-2.06.94z\"/><path d=\"M17.41 7.96l-1.37-1.37c-.4-.4-.92-.59-1.43-.59-.52 0-1.04.2-1.43.59L10.3 9.45l-7.72 7.72c-.78.78-.78 2.05 0 2.83L4 21.41c.39.39.9.59 1.41.59.51 0 1.02-.2 1.41-.59l7.78-7.78 2.81-2.81c.8-.78.8-2.07 0-2.86zM5.41 20L4 18.59l7.72-7.72 1.47 1.35L5.41 20z\"/>\n",
              "  </svg>\n",
              "      </button>\n",
              "      \n",
              "  <style>\n",
              "    .colab-df-container {\n",
              "      display:flex;\n",
              "      flex-wrap:wrap;\n",
              "      gap: 12px;\n",
              "    }\n",
              "\n",
              "    .colab-df-convert {\n",
              "      background-color: #E8F0FE;\n",
              "      border: none;\n",
              "      border-radius: 50%;\n",
              "      cursor: pointer;\n",
              "      display: none;\n",
              "      fill: #1967D2;\n",
              "      height: 32px;\n",
              "      padding: 0 0 0 0;\n",
              "      width: 32px;\n",
              "    }\n",
              "\n",
              "    .colab-df-convert:hover {\n",
              "      background-color: #E2EBFA;\n",
              "      box-shadow: 0px 1px 2px rgba(60, 64, 67, 0.3), 0px 1px 3px 1px rgba(60, 64, 67, 0.15);\n",
              "      fill: #174EA6;\n",
              "    }\n",
              "\n",
              "    [theme=dark] .colab-df-convert {\n",
              "      background-color: #3B4455;\n",
              "      fill: #D2E3FC;\n",
              "    }\n",
              "\n",
              "    [theme=dark] .colab-df-convert:hover {\n",
              "      background-color: #434B5C;\n",
              "      box-shadow: 0px 1px 3px 1px rgba(0, 0, 0, 0.15);\n",
              "      filter: drop-shadow(0px 1px 2px rgba(0, 0, 0, 0.3));\n",
              "      fill: #FFFFFF;\n",
              "    }\n",
              "  </style>\n",
              "\n",
              "      <script>\n",
              "        const buttonEl =\n",
              "          document.querySelector('#df-87197908-0637-4f41-8143-5371338633c6 button.colab-df-convert');\n",
              "        buttonEl.style.display =\n",
              "          google.colab.kernel.accessAllowed ? 'block' : 'none';\n",
              "\n",
              "        async function convertToInteractive(key) {\n",
              "          const element = document.querySelector('#df-87197908-0637-4f41-8143-5371338633c6');\n",
              "          const dataTable =\n",
              "            await google.colab.kernel.invokeFunction('convertToInteractive',\n",
              "                                                     [key], {});\n",
              "          if (!dataTable) return;\n",
              "\n",
              "          const docLinkHtml = 'Like what you see? Visit the ' +\n",
              "            '<a target=\"_blank\" href=https://colab.research.google.com/notebooks/data_table.ipynb>data table notebook</a>'\n",
              "            + ' to learn more about interactive tables.';\n",
              "          element.innerHTML = '';\n",
              "          dataTable['output_type'] = 'display_data';\n",
              "          await google.colab.output.renderOutput(dataTable, element);\n",
              "          const docLink = document.createElement('div');\n",
              "          docLink.innerHTML = docLinkHtml;\n",
              "          element.appendChild(docLink);\n",
              "        }\n",
              "      </script>\n",
              "    </div>\n",
              "  </div>\n",
              "  "
            ]
          },
          "metadata": {},
          "execution_count": 51
        }
      ]
    },
    {
      "cell_type": "markdown",
      "source": [
        "## Data Visualization"
      ],
      "metadata": {
        "id": "6GLaR6Gwcecv"
      }
    },
    {
      "cell_type": "code",
      "source": [
        "data['from_area_id'].value_counts()"
      ],
      "metadata": {
        "execution": {
          "iopub.status.busy": "2022-03-14T19:26:16.406656Z",
          "iopub.execute_input": "2022-03-14T19:26:16.407253Z",
          "iopub.status.idle": "2022-03-14T19:26:16.43028Z",
          "shell.execute_reply.started": "2022-03-14T19:26:16.407201Z",
          "shell.execute_reply": "2022-03-14T19:26:16.428812Z"
        },
        "trusted": true,
        "colab": {
          "base_uri": "https://localhost:8080/"
        },
        "id": "gFbQr2picecv",
        "outputId": "a7420d39-e362-49ce-96db-abcc3ad433b2"
      },
      "execution_count": null,
      "outputs": [
        {
          "output_type": "execute_result",
          "data": {
            "text/plain": [
              "Low Cancellation       43415\n",
              "Medium Cancellation       11\n",
              "High Cancellation          5\n",
              "Name: from_area_id, dtype: int64"
            ]
          },
          "metadata": {},
          "execution_count": 52
        }
      ]
    },
    {
      "cell_type": "code",
      "source": [
        "for col in data.columns:\n",
        "  if data[col].dtype == 'object':\n",
        "    data[col].value_counts().plot.bar()\n",
        "    plt.title(col)\n",
        "    plt.show()"
      ],
      "metadata": {
        "execution": {
          "iopub.status.busy": "2022-03-14T19:26:16.432098Z",
          "iopub.execute_input": "2022-03-14T19:26:16.432694Z",
          "iopub.status.idle": "2022-03-14T19:26:18.461976Z",
          "shell.execute_reply.started": "2022-03-14T19:26:16.432639Z",
          "shell.execute_reply": "2022-03-14T19:26:18.460868Z"
        },
        "trusted": true,
        "colab": {
          "base_uri": "https://localhost:8080/",
          "height": 1000
        },
        "id": "cUGT1hshcecw",
        "outputId": "55968a3d-16f1-4b80-c046-af2c72793c73"
      },
      "execution_count": null,
      "outputs": [
        {
          "output_type": "display_data",
          "data": {
            "text/plain": [
              "<Figure size 640x480 with 1 Axes>"
            ],
            "image/png": "[encoded data removed]"
          },
          "metadata": {}
        },
        {
          "output_type": "display_data",
          "data": {
            "text/plain": [
              "<Figure size 640x480 with 1 Axes>"
            ],
            "image/png": "[encoded data removed]"
          },
          "metadata": {}
        },
        {
          "output_type": "display_data",
          "data": {
            "text/plain": [
              "<Figure size 640x480 with 1 Axes>"
            ],
            "image/png": "[encoded data removed]"
          },
          "metadata": {}
        },
        {
          "output_type": "display_data",
          "data": {
            "text/plain": [
              "<Figure size 640x480 with 1 Axes>"
            ],
            "image/png": "[encoded data removed]"
          },
          "metadata": {}
        },
        {
          "output_type": "display_data",
          "data": {
            "text/plain": [
              "<Figure size 640x480 with 1 Axes>"
            ],
            "image/png": "[encoded data removed]"
          },
          "metadata": {}
        },
        {
          "output_type": "display_data",
          "data": {
            "text/plain": [
              "<Figure size 640x480 with 1 Axes>"
            ],
            "image/png": "[encoded data removed]"
          },
          "metadata": {}
        },
        {
          "output_type": "display_data",
          "data": {
            "text/plain": [
              "<Figure size 640x480 with 1 Axes>"
            ],
            "image/png": "[encoded data removed]"
          },
          "metadata": {}
        },
        {
          "output_type": "display_data",
          "data": {
            "text/plain": [
              "<Figure size 640x480 with 1 Axes>"
            ],
            "image/png": "[encoded data removed]"
          },
          "metadata": {}
        },
        {
          "output_type": "display_data",
          "data": {
            "text/plain": [
              "<Figure size 640x480 with 1 Axes>"
            ],
            "image/png": "[encoded data removed]"
          },
          "metadata": {}
        }
      ]
    },
    {
      "cell_type": "markdown",
      "source": [
        "## Dividing data into Numerical and Categorical dataframes"
      ],
      "metadata": {
        "id": "bExPhPY4cecw"
      }
    },
    {
      "cell_type": "code",
      "source": [
        "num = data.select_dtypes(include='number')\n",
        "char = data.select_dtypes(include='object')"
      ],
      "metadata": {
        "execution": {
          "iopub.status.busy": "2022-03-14T19:26:18.463672Z",
          "iopub.execute_input": "2022-03-14T19:26:18.464035Z",
          "iopub.status.idle": "2022-03-14T19:26:18.492987Z",
          "shell.execute_reply.started": "2022-03-14T19:26:18.46399Z",
          "shell.execute_reply": "2022-03-14T19:26:18.491993Z"
        },
        "trusted": true,
        "id": "GkGXy3n9cecx"
      },
      "execution_count": null,
      "outputs": []
    },
    {
      "cell_type": "code",
      "source": [
        "num.head()"
      ],
      "metadata": {
        "execution": {
          "iopub.status.busy": "2022-03-14T19:26:18.49456Z",
          "iopub.execute_input": "2022-03-14T19:26:18.495173Z",
          "iopub.status.idle": "2022-03-14T19:26:18.510279Z",
          "shell.execute_reply.started": "2022-03-14T19:26:18.495119Z",
          "shell.execute_reply": "2022-03-14T19:26:18.50928Z"
        },
        "trusted": true,
        "colab": {
          "base_uri": "https://localhost:8080/",
          "height": 206
        },
        "id": "-I75gMbwcecx",
        "outputId": "a0366eab-ff6a-4e91-a419-8620faef0d1b"
      },
      "execution_count": null,
      "outputs": [
        {
          "output_type": "execute_result",
          "data": {
            "text/plain": [
              "   online_booking  mobile_site_booking  traveltype_pointtopoint  \\\n",
              "0               0                    0                        1   \n",
              "1               0                    0                        1   \n",
              "2               0                    0                        1   \n",
              "3               0                    0                        1   \n",
              "4               0                    0                        1   \n",
              "\n",
              "   traveltype_hourly   distance  time_diff  \n",
              "0                  0   3.980687       21.0  \n",
              "1                  0  14.004432      395.0  \n",
              "2                  0  12.648909       22.0  \n",
              "3                  0   9.534596       66.0  \n",
              "4                  0  14.655467       67.0  "
            ],
            "text/html": [
              "\n",
              "  <div id=\"df-10e6c62a-b848-4c4a-ab9d-1d83df1df56b\">\n",
              "    <div class=\"colab-df-container\">\n",
              "      <div>\n",
              "<style scoped>\n",
              "    .dataframe tbody tr th:only-of-type {\n",
              "        vertical-align: middle;\n",
              "    }\n",
              "\n",
              "    .dataframe tbody tr th {\n",
              "        vertical-align: top;\n",
              "    }\n",
              "\n",
              "    .dataframe thead th {\n",
              "        text-align: right;\n",
              "    }\n",
              "</style>\n",
              "<table border=\"1\" class=\"dataframe\">\n",
              "  <thead>\n",
              "    <tr style=\"text-align: right;\">\n",
              "      <th></th>\n",
              "      <th>online_booking</th>\n",
              "      <th>mobile_site_booking</th>\n",
              "      <th>traveltype_pointtopoint</th>\n",
              "      <th>traveltype_hourly</th>\n",
              "      <th>distance</th>\n",
              "      <th>time_diff</th>\n",
              "    </tr>\n",
              "  </thead>\n",
              "  <tbody>\n",
              "    <tr>\n",
              "      <th>0</th>\n",
              "      <td>0</td>\n",
              "      <td>0</td>\n",
              "      <td>1</td>\n",
              "      <td>0</td>\n",
              "      <td>3.980687</td>\n",
              "      <td>21.0</td>\n",
              "    </tr>\n",
              "    <tr>\n",
              "      <th>1</th>\n",
              "      <td>0</td>\n",
              "      <td>0</td>\n",
              "      <td>1</td>\n",
              "      <td>0</td>\n",
              "      <td>14.004432</td>\n",
              "      <td>395.0</td>\n",
              "    </tr>\n",
              "    <tr>\n",
              "      <th>2</th>\n",
              "      <td>0</td>\n",
              "      <td>0</td>\n",
              "      <td>1</td>\n",
              "      <td>0</td>\n",
              "      <td>12.648909</td>\n",
              "      <td>22.0</td>\n",
              "    </tr>\n",
              "    <tr>\n",
              "      <th>3</th>\n",
              "      <td>0</td>\n",
              "      <td>0</td>\n",
              "      <td>1</td>\n",
              "      <td>0</td>\n",
              "      <td>9.534596</td>\n",
              "      <td>66.0</td>\n",
              "    </tr>\n",
              "    <tr>\n",
              "      <th>4</th>\n",
              "      <td>0</td>\n",
              "      <td>0</td>\n",
              "      <td>1</td>\n",
              "      <td>0</td>\n",
              "      <td>14.655467</td>\n",
              "      <td>67.0</td>\n",
              "    </tr>\n",
              "  </tbody>\n",
              "</table>\n",
              "</div>\n",
              "      <button class=\"colab-df-convert\" onclick=\"convertToInteractive('df-10e6c62a-b848-4c4a-ab9d-1d83df1df56b')\"\n",
              "              title=\"Convert this dataframe to an interactive table.\"\n",
              "              style=\"display:none;\">\n",
              "        \n",
              "  <svg xmlns=\"http://www.w3.org/2000/svg\" height=\"24px\"viewBox=\"0 0 24 24\"\n",
              "       width=\"24px\">\n",
              "    <path d=\"M0 0h24v24H0V0z\" fill=\"none\"/>\n",
              "    <path d=\"M18.56 5.44l.94 2.06.94-2.06 2.06-.94-2.06-.94-.94-2.06-.94 2.06-2.06.94zm-11 1L8.5 8.5l.94-2.06 2.06-.94-2.06-.94L8.5 2.5l-.94 2.06-2.06.94zm10 10l.94 2.06.94-2.06 2.06-.94-2.06-.94-.94-2.06-.94 2.06-2.06.94z\"/><path d=\"M17.41 7.96l-1.37-1.37c-.4-.4-.92-.59-1.43-.59-.52 0-1.04.2-1.43.59L10.3 9.45l-7.72 7.72c-.78.78-.78 2.05 0 2.83L4 21.41c.39.39.9.59 1.41.59.51 0 1.02-.2 1.41-.59l7.78-7.78 2.81-2.81c.8-.78.8-2.07 0-2.86zM5.41 20L4 18.59l7.72-7.72 1.47 1.35L5.41 20z\"/>\n",
              "  </svg>\n",
              "      </button>\n",
              "      \n",
              "  <style>\n",
              "    .colab-df-container {\n",
              "      display:flex;\n",
              "      flex-wrap:wrap;\n",
              "      gap: 12px;\n",
              "    }\n",
              "\n",
              "    .colab-df-convert {\n",
              "      background-color: #E8F0FE;\n",
              "      border: none;\n",
              "      border-radius: 50%;\n",
              "      cursor: pointer;\n",
              "      display: none;\n",
              "      fill: #1967D2;\n",
              "      height: 32px;\n",
              "      padding: 0 0 0 0;\n",
              "      width: 32px;\n",
              "    }\n",
              "\n",
              "    .colab-df-convert:hover {\n",
              "      background-color: #E2EBFA;\n",
              "      box-shadow: 0px 1px 2px rgba(60, 64, 67, 0.3), 0px 1px 3px 1px rgba(60, 64, 67, 0.15);\n",
              "      fill: #174EA6;\n",
              "    }\n",
              "\n",
              "    [theme=dark] .colab-df-convert {\n",
              "      background-color: #3B4455;\n",
              "      fill: #D2E3FC;\n",
              "    }\n",
              "\n",
              "    [theme=dark] .colab-df-convert:hover {\n",
              "      background-color: #434B5C;\n",
              "      box-shadow: 0px 1px 3px 1px rgba(0, 0, 0, 0.15);\n",
              "      filter: drop-shadow(0px 1px 2px rgba(0, 0, 0, 0.3));\n",
              "      fill: #FFFFFF;\n",
              "    }\n",
              "  </style>\n",
              "\n",
              "      <script>\n",
              "        const buttonEl =\n",
              "          document.querySelector('#df-10e6c62a-b848-4c4a-ab9d-1d83df1df56b button.colab-df-convert');\n",
              "        buttonEl.style.display =\n",
              "          google.colab.kernel.accessAllowed ? 'block' : 'none';\n",
              "\n",
              "        async function convertToInteractive(key) {\n",
              "          const element = document.querySelector('#df-10e6c62a-b848-4c4a-ab9d-1d83df1df56b');\n",
              "          const dataTable =\n",
              "            await google.colab.kernel.invokeFunction('convertToInteractive',\n",
              "                                                     [key], {});\n",
              "          if (!dataTable) return;\n",
              "\n",
              "          const docLinkHtml = 'Like what you see? Visit the ' +\n",
              "            '<a target=\"_blank\" href=https://colab.research.google.com/notebooks/data_table.ipynb>data table notebook</a>'\n",
              "            + ' to learn more about interactive tables.';\n",
              "          element.innerHTML = '';\n",
              "          dataTable['output_type'] = 'display_data';\n",
              "          await google.colab.output.renderOutput(dataTable, element);\n",
              "          const docLink = document.createElement('div');\n",
              "          docLink.innerHTML = docLinkHtml;\n",
              "          element.appendChild(docLink);\n",
              "        }\n",
              "      </script>\n",
              "    </div>\n",
              "  </div>\n",
              "  "
            ]
          },
          "metadata": {},
          "execution_count": 55
        }
      ]
    },
    {
      "cell_type": "code",
      "source": [
        "char.head()"
      ],
      "metadata": {
        "execution": {
          "iopub.status.busy": "2022-03-14T19:26:18.511928Z",
          "iopub.execute_input": "2022-03-14T19:26:18.512531Z",
          "iopub.status.idle": "2022-03-14T19:26:18.532782Z",
          "shell.execute_reply.started": "2022-03-14T19:26:18.51249Z",
          "shell.execute_reply": "2022-03-14T19:26:18.531611Z"
        },
        "trusted": true,
        "colab": {
          "base_uri": "https://localhost:8080/",
          "height": 206
        },
        "id": "pysOI155cecx",
        "outputId": "dc0666a0-4d0c-4340-925d-8a56c5d6db31"
      },
      "execution_count": null,
      "outputs": [
        {
          "output_type": "execute_result",
          "data": {
            "text/plain": [
              "       from_area_id from_date_day booking_created_day from_date_month  \\\n",
              "0  Low Cancellation       Tuesday             Tuesday         January   \n",
              "1  Low Cancellation       Tuesday             Tuesday         January   \n",
              "2  Low Cancellation       Tuesday             Tuesday         January   \n",
              "3  Low Cancellation       Tuesday             Tuesday         January   \n",
              "4  Low Cancellation       Tuesday             Tuesday         January   \n",
              "\n",
              "  booking_created_month from_date_week booking_created_week from_date_session  \\\n",
              "0               January        Weekday              Weekday        Late Night   \n",
              "1               January        Weekday              Weekday           Morning   \n",
              "2               January        Weekday              Weekday        Late Night   \n",
              "3               January        Weekday              Weekday     Early Morning   \n",
              "4               January        Weekday              Weekday           Morning   \n",
              "\n",
              "  booking_created_session  \n",
              "0              Late Night  \n",
              "1              Late Night  \n",
              "2              Late Night  \n",
              "3              Late Night  \n",
              "4           Early Morning  "
            ],
            "text/html": [
              "\n",
              "  <div id=\"df-4699ad53-108e-4b04-ac6c-0b030fb183ac\">\n",
              "    <div class=\"colab-df-container\">\n",
              "      <div>\n",
              "<style scoped>\n",
              "    .dataframe tbody tr th:only-of-type {\n",
              "        vertical-align: middle;\n",
              "    }\n",
              "\n",
              "    .dataframe tbody tr th {\n",
              "        vertical-align: top;\n",
              "    }\n",
              "\n",
              "    .dataframe thead th {\n",
              "        text-align: right;\n",
              "    }\n",
              "</style>\n",
              "<table border=\"1\" class=\"dataframe\">\n",
              "  <thead>\n",
              "    <tr style=\"text-align: right;\">\n",
              "      <th></th>\n",
              "      <th>from_area_id</th>\n",
              "      <th>from_date_day</th>\n",
              "      <th>booking_created_day</th>\n",
              "      <th>from_date_month</th>\n",
              "      <th>booking_created_month</th>\n",
              "      <th>from_date_week</th>\n",
              "      <th>booking_created_week</th>\n",
              "      <th>from_date_session</th>\n",
              "      <th>booking_created_session</th>\n",
              "    </tr>\n",
              "  </thead>\n",
              "  <tbody>\n",
              "    <tr>\n",
              "      <th>0</th>\n",
              "      <td>Low Cancellation</td>\n",
              "      <td>Tuesday</td>\n",
              "      <td>Tuesday</td>\n",
              "      <td>January</td>\n",
              "      <td>January</td>\n",
              "      <td>Weekday</td>\n",
              "      <td>Weekday</td>\n",
              "      <td>Late Night</td>\n",
              "      <td>Late Night</td>\n",
              "    </tr>\n",
              "    <tr>\n",
              "      <th>1</th>\n",
              "      <td>Low Cancellation</td>\n",
              "      <td>Tuesday</td>\n",
              "      <td>Tuesday</td>\n",
              "      <td>January</td>\n",
              "      <td>January</td>\n",
              "      <td>Weekday</td>\n",
              "      <td>Weekday</td>\n",
              "      <td>Morning</td>\n",
              "      <td>Late Night</td>\n",
              "    </tr>\n",
              "    <tr>\n",
              "      <th>2</th>\n",
              "      <td>Low Cancellation</td>\n",
              "      <td>Tuesday</td>\n",
              "      <td>Tuesday</td>\n",
              "      <td>January</td>\n",
              "      <td>January</td>\n",
              "      <td>Weekday</td>\n",
              "      <td>Weekday</td>\n",
              "      <td>Late Night</td>\n",
              "      <td>Late Night</td>\n",
              "    </tr>\n",
              "    <tr>\n",
              "      <th>3</th>\n",
              "      <td>Low Cancellation</td>\n",
              "      <td>Tuesday</td>\n",
              "      <td>Tuesday</td>\n",
              "      <td>January</td>\n",
              "      <td>January</td>\n",
              "      <td>Weekday</td>\n",
              "      <td>Weekday</td>\n",
              "      <td>Early Morning</td>\n",
              "      <td>Late Night</td>\n",
              "    </tr>\n",
              "    <tr>\n",
              "      <th>4</th>\n",
              "      <td>Low Cancellation</td>\n",
              "      <td>Tuesday</td>\n",
              "      <td>Tuesday</td>\n",
              "      <td>January</td>\n",
              "      <td>January</td>\n",
              "      <td>Weekday</td>\n",
              "      <td>Weekday</td>\n",
              "      <td>Morning</td>\n",
              "      <td>Early Morning</td>\n",
              "    </tr>\n",
              "  </tbody>\n",
              "</table>\n",
              "</div>\n",
              "      <button class=\"colab-df-convert\" onclick=\"convertToInteractive('df-4699ad53-108e-4b04-ac6c-0b030fb183ac')\"\n",
              "              title=\"Convert this dataframe to an interactive table.\"\n",
              "              style=\"display:none;\">\n",
              "        \n",
              "  <svg xmlns=\"http://www.w3.org/2000/svg\" height=\"24px\"viewBox=\"0 0 24 24\"\n",
              "       width=\"24px\">\n",
              "    <path d=\"M0 0h24v24H0V0z\" fill=\"none\"/>\n",
              "    <path d=\"M18.56 5.44l.94 2.06.94-2.06 2.06-.94-2.06-.94-.94-2.06-.94 2.06-2.06.94zm-11 1L8.5 8.5l.94-2.06 2.06-.94-2.06-.94L8.5 2.5l-.94 2.06-2.06.94zm10 10l.94 2.06.94-2.06 2.06-.94-2.06-.94-.94-2.06-.94 2.06-2.06.94z\"/><path d=\"M17.41 7.96l-1.37-1.37c-.4-.4-.92-.59-1.43-.59-.52 0-1.04.2-1.43.59L10.3 9.45l-7.72 7.72c-.78.78-.78 2.05 0 2.83L4 21.41c.39.39.9.59 1.41.59.51 0 1.02-.2 1.41-.59l7.78-7.78 2.81-2.81c.8-.78.8-2.07 0-2.86zM5.41 20L4 18.59l7.72-7.72 1.47 1.35L5.41 20z\"/>\n",
              "  </svg>\n",
              "      </button>\n",
              "      \n",
              "  <style>\n",
              "    .colab-df-container {\n",
              "      display:flex;\n",
              "      flex-wrap:wrap;\n",
              "      gap: 12px;\n",
              "    }\n",
              "\n",
              "    .colab-df-convert {\n",
              "      background-color: #E8F0FE;\n",
              "      border: none;\n",
              "      border-radius: 50%;\n",
              "      cursor: pointer;\n",
              "      display: none;\n",
              "      fill: #1967D2;\n",
              "      height: 32px;\n",
              "      padding: 0 0 0 0;\n",
              "      width: 32px;\n",
              "    }\n",
              "\n",
              "    .colab-df-convert:hover {\n",
              "      background-color: #E2EBFA;\n",
              "      box-shadow: 0px 1px 2px rgba(60, 64, 67, 0.3), 0px 1px 3px 1px rgba(60, 64, 67, 0.15);\n",
              "      fill: #174EA6;\n",
              "    }\n",
              "\n",
              "    [theme=dark] .colab-df-convert {\n",
              "      background-color: #3B4455;\n",
              "      fill: #D2E3FC;\n",
              "    }\n",
              "\n",
              "    [theme=dark] .colab-df-convert:hover {\n",
              "      background-color: #434B5C;\n",
              "      box-shadow: 0px 1px 3px 1px rgba(0, 0, 0, 0.15);\n",
              "      filter: drop-shadow(0px 1px 2px rgba(0, 0, 0, 0.3));\n",
              "      fill: #FFFFFF;\n",
              "    }\n",
              "  </style>\n",
              "\n",
              "      <script>\n",
              "        const buttonEl =\n",
              "          document.querySelector('#df-4699ad53-108e-4b04-ac6c-0b030fb183ac button.colab-df-convert');\n",
              "        buttonEl.style.display =\n",
              "          google.colab.kernel.accessAllowed ? 'block' : 'none';\n",
              "\n",
              "        async function convertToInteractive(key) {\n",
              "          const element = document.querySelector('#df-4699ad53-108e-4b04-ac6c-0b030fb183ac');\n",
              "          const dataTable =\n",
              "            await google.colab.kernel.invokeFunction('convertToInteractive',\n",
              "                                                     [key], {});\n",
              "          if (!dataTable) return;\n",
              "\n",
              "          const docLinkHtml = 'Like what you see? Visit the ' +\n",
              "            '<a target=\"_blank\" href=https://colab.research.google.com/notebooks/data_table.ipynb>data table notebook</a>'\n",
              "            + ' to learn more about interactive tables.';\n",
              "          element.innerHTML = '';\n",
              "          dataTable['output_type'] = 'display_data';\n",
              "          await google.colab.output.renderOutput(dataTable, element);\n",
              "          const docLink = document.createElement('div');\n",
              "          docLink.innerHTML = docLinkHtml;\n",
              "          element.appendChild(docLink);\n",
              "        }\n",
              "      </script>\n",
              "    </div>\n",
              "  </div>\n",
              "  "
            ]
          },
          "metadata": {},
          "execution_count": 56
        }
      ]
    },
    {
      "cell_type": "code",
      "source": [
        "X_char_merged = pd.concat([char,target],axis=1,join='inner')\n",
        "\n",
        "from numpy import mean\n",
        "for col in (char.columns):\n",
        "    plt.figure()\n",
        "    sns.lineplot(x=col, y=X_char_merged['Car_Cancellation'].mean(), data=X_char_merged,estimator=mean, color='red')\n",
        "    sns.barplot(x=col, y='Car_Cancellation', data=X_char_merged,estimator=mean)\n",
        "plt.show()"
      ],
      "metadata": {
        "execution": {
          "iopub.status.busy": "2022-03-14T19:26:18.534614Z",
          "iopub.execute_input": "2022-03-14T19:26:18.535127Z",
          "iopub.status.idle": "2022-03-14T19:26:33.23898Z",
          "shell.execute_reply.started": "2022-03-14T19:26:18.535076Z",
          "shell.execute_reply": "2022-03-14T19:26:33.238096Z"
        },
        "trusted": true,
        "colab": {
          "base_uri": "https://localhost:8080/",
          "height": 1000
        },
        "id": "mjFgPOw5cecy",
        "outputId": "a67eff98-01df-40d1-850e-059443fafeec"
      },
      "execution_count": null,
      "outputs": [
        {
          "output_type": "display_data",
          "data": {
            "text/plain": [
              "<Figure size 640x480 with 1 Axes>"
            ],
            "image/png": "[encoded data removed]"
          },
          "metadata": {}
        },
        {
          "output_type": "display_data",
          "data": {
            "text/plain": [
              "<Figure size 640x480 with 1 Axes>"
            ],
            "image/png": "[encoded data removed]"
          },
          "metadata": {}
        },
        {
          "output_type": "display_data",
          "data": {
            "text/plain": [
              "<Figure size 640x480 with 1 Axes>"
            ],
            "image/png": "[encoded data removed]"
          },
          "metadata": {}
        },
        {
          "output_type": "display_data",
          "data": {
            "text/plain": [
              "<Figure size 640x480 with 1 Axes>"
            ],
            "image/png": "[encoded data removed]"
          },
          "metadata": {}
        },
        {
          "output_type": "display_data",
          "data": {
            "text/plain": [
              "<Figure size 640x480 with 1 Axes>"
            ],
            "image/png": "[encoded data removed]"
          },
          "metadata": {}
        },
        {
          "output_type": "display_data",
          "data": {
            "text/plain": [
              "<Figure size 640x480 with 1 Axes>"
            ],
            "image/png": "[encoded data removed]"
          },
          "metadata": {}
        },
        {
          "output_type": "display_data",
          "data": {
            "text/plain": [
              "<Figure size 640x480 with 1 Axes>"
            ],
            "image/png": "[encoded data removed]"
          },
          "metadata": {}
        },
        {
          "output_type": "display_data",
          "data": {
            "text/plain": [
              "<Figure size 640x480 with 1 Axes>"
            ],
            "image/png": "[encoded data removed]"
          },
          "metadata": {}
        },
        {
          "output_type": "display_data",
          "data": {
            "text/plain": [
              "<Figure size 640x480 with 1 Axes>"
            ],
            "image/png": "[encoded data removed]"
          },
          "metadata": {}
        }
      ]
    },
    {
      "cell_type": "markdown",
      "source": [
        "## Encoding Categorical variables"
      ],
      "metadata": {
        "id": "Z3rvdNwGcecy"
      }
    },
    {
      "cell_type": "code",
      "source": [
        "X_char_dum = pd.get_dummies(char, drop_first = True)\n",
        "X_char_dum.shape"
      ],
      "metadata": {
        "execution": {
          "iopub.status.busy": "2022-03-14T19:26:33.240381Z",
          "iopub.execute_input": "2022-03-14T19:26:33.240625Z",
          "iopub.status.idle": "2022-03-14T19:26:33.322456Z",
          "shell.execute_reply.started": "2022-03-14T19:26:33.240594Z",
          "shell.execute_reply": "2022-03-14T19:26:33.321584Z"
        },
        "trusted": true,
        "colab": {
          "base_uri": "https://localhost:8080/"
        },
        "id": "nf3Szfb1cecy",
        "outputId": "e4880c0d-b389-4e81-ef88-3851a784a8fe"
      },
      "execution_count": null,
      "outputs": [
        {
          "output_type": "execute_result",
          "data": {
            "text/plain": [
              "(43431, 47)"
            ]
          },
          "metadata": {},
          "execution_count": 58
        }
      ]
    },
    {
      "cell_type": "code",
      "source": [
        "X_char_dum.head()"
      ],
      "metadata": {
        "execution": {
          "iopub.status.busy": "2022-03-14T19:26:33.323952Z",
          "iopub.execute_input": "2022-03-14T19:26:33.324206Z",
          "iopub.status.idle": "2022-03-14T19:26:33.345302Z",
          "shell.execute_reply.started": "2022-03-14T19:26:33.324175Z",
          "shell.execute_reply": "2022-03-14T19:26:33.344622Z"
        },
        "trusted": true,
        "colab": {
          "base_uri": "https://localhost:8080/",
          "height": 317
        },
        "id": "BQe5ZUk6cecz",
        "outputId": "074b7ec6-5886-477a-fc85-722922dd6243"
      },
      "execution_count": null,
      "outputs": [
        {
          "output_type": "execute_result",
          "data": {
            "text/plain": [
              "   from_area_id_Low Cancellation  from_area_id_Medium Cancellation  \\\n",
              "0                              1                                 0   \n",
              "1                              1                                 0   \n",
              "2                              1                                 0   \n",
              "3                              1                                 0   \n",
              "4                              1                                 0   \n",
              "\n",
              "   from_date_day_Monday  from_date_day_Saturday  from_date_day_Sunday  \\\n",
              "0                     0                       0                     0   \n",
              "1                     0                       0                     0   \n",
              "2                     0                       0                     0   \n",
              "3                     0                       0                     0   \n",
              "4                     0                       0                     0   \n",
              "\n",
              "   from_date_day_Thursday  from_date_day_Tuesday  from_date_day_Wednesday  \\\n",
              "0                       0                      1                        0   \n",
              "1                       0                      1                        0   \n",
              "2                       0                      1                        0   \n",
              "3                       0                      1                        0   \n",
              "4                       0                      1                        0   \n",
              "\n",
              "   booking_created_day_Monday  booking_created_day_Saturday  ...  \\\n",
              "0                           0                             0  ...   \n",
              "1                           0                             0  ...   \n",
              "2                           0                             0  ...   \n",
              "3                           0                             0  ...   \n",
              "4                           0                             0  ...   \n",
              "\n",
              "   from_date_session_Early Morning  from_date_session_Evening  \\\n",
              "0                                0                          0   \n",
              "1                                0                          0   \n",
              "2                                0                          0   \n",
              "3                                1                          0   \n",
              "4                                0                          0   \n",
              "\n",
              "   from_date_session_Late Night  from_date_session_Morning  \\\n",
              "0                             1                          0   \n",
              "1                             0                          1   \n",
              "2                             1                          0   \n",
              "3                             0                          0   \n",
              "4                             0                          1   \n",
              "\n",
              "   from_date_session_Night  booking_created_session_Early Morning  \\\n",
              "0                        0                                      0   \n",
              "1                        0                                      0   \n",
              "2                        0                                      0   \n",
              "3                        0                                      0   \n",
              "4                        0                                      1   \n",
              "\n",
              "   booking_created_session_Evening  booking_created_session_Late Night  \\\n",
              "0                                0                                   1   \n",
              "1                                0                                   1   \n",
              "2                                0                                   1   \n",
              "3                                0                                   1   \n",
              "4                                0                                   0   \n",
              "\n",
              "   booking_created_session_Morning  booking_created_session_Night  \n",
              "0                                0                              0  \n",
              "1                                0                              0  \n",
              "2                                0                              0  \n",
              "3                                0                              0  \n",
              "4                                0                              0  \n",
              "\n",
              "[5 rows x 47 columns]"
            ],
            "text/html": [
              "\n",
              "  <div id=\"df-7c3405c9-8d72-4cb8-b0d0-532cbaf4cd1c\">\n",
              "    <div class=\"colab-df-container\">\n",
              "      <div>\n",
              "<style scoped>\n",
              "    .dataframe tbody tr th:only-of-type {\n",
              "        vertical-align: middle;\n",
              "    }\n",
              "\n",
              "    .dataframe tbody tr th {\n",
              "        vertical-align: top;\n",
              "    }\n",
              "\n",
              "    .dataframe thead th {\n",
              "        text-align: right;\n",
              "    }\n",
              "</style>\n",
              "<table border=\"1\" class=\"dataframe\">\n",
              "  <thead>\n",
              "    <tr style=\"text-align: right;\">\n",
              "      <th></th>\n",
              "      <th>from_area_id_Low Cancellation</th>\n",
              "      <th>from_area_id_Medium Cancellation</th>\n",
              "      <th>from_date_day_Monday</th>\n",
              "      <th>from_date_day_Saturday</th>\n",
              "      <th>from_date_day_Sunday</th>\n",
              "      <th>from_date_day_Thursday</th>\n",
              "      <th>from_date_day_Tuesday</th>\n",
              "      <th>from_date_day_Wednesday</th>\n",
              "      <th>booking_created_day_Monday</th>\n",
              "      <th>booking_created_day_Saturday</th>\n",
              "      <th>...</th>\n",
              "      <th>from_date_session_Early Morning</th>\n",
              "      <th>from_date_session_Evening</th>\n",
              "      <th>from_date_session_Late Night</th>\n",
              "      <th>from_date_session_Morning</th>\n",
              "      <th>from_date_session_Night</th>\n",
              "      <th>booking_created_session_Early Morning</th>\n",
              "      <th>booking_created_session_Evening</th>\n",
              "      <th>booking_created_session_Late Night</th>\n",
              "      <th>booking_created_session_Morning</th>\n",
              "      <th>booking_created_session_Night</th>\n",
              "    </tr>\n",
              "  </thead>\n",
              "  <tbody>\n",
              "    <tr>\n",
              "      <th>0</th>\n",
              "      <td>1</td>\n",
              "      <td>0</td>\n",
              "      <td>0</td>\n",
              "      <td>0</td>\n",
              "      <td>0</td>\n",
              "      <td>0</td>\n",
              "      <td>1</td>\n",
              "      <td>0</td>\n",
              "      <td>0</td>\n",
              "      <td>0</td>\n",
              "      <td>...</td>\n",
              "      <td>0</td>\n",
              "      <td>0</td>\n",
              "      <td>1</td>\n",
              "      <td>0</td>\n",
              "      <td>0</td>\n",
              "      <td>0</td>\n",
              "      <td>0</td>\n",
              "      <td>1</td>\n",
              "      <td>0</td>\n",
              "      <td>0</td>\n",
              "    </tr>\n",
              "    <tr>\n",
              "      <th>1</th>\n",
              "      <td>1</td>\n",
              "      <td>0</td>\n",
              "      <td>0</td>\n",
              "      <td>0</td>\n",
              "      <td>0</td>\n",
              "      <td>0</td>\n",
              "      <td>1</td>\n",
              "      <td>0</td>\n",
              "      <td>0</td>\n",
              "      <td>0</td>\n",
              "      <td>...</td>\n",
              "      <td>0</td>\n",
              "      <td>0</td>\n",
              "      <td>0</td>\n",
              "      <td>1</td>\n",
              "      <td>0</td>\n",
              "      <td>0</td>\n",
              "      <td>0</td>\n",
              "      <td>1</td>\n",
              "      <td>0</td>\n",
              "      <td>0</td>\n",
              "    </tr>\n",
              "    <tr>\n",
              "      <th>2</th>\n",
              "      <td>1</td>\n",
              "      <td>0</td>\n",
              "      <td>0</td>\n",
              "      <td>0</td>\n",
              "      <td>0</td>\n",
              "      <td>0</td>\n",
              "      <td>1</td>\n",
              "      <td>0</td>\n",
              "      <td>0</td>\n",
              "      <td>0</td>\n",
              "      <td>...</td>\n",
              "      <td>0</td>\n",
              "      <td>0</td>\n",
              "      <td>1</td>\n",
              "      <td>0</td>\n",
              "      <td>0</td>\n",
              "      <td>0</td>\n",
              "      <td>0</td>\n",
              "      <td>1</td>\n",
              "      <td>0</td>\n",
              "      <td>0</td>\n",
              "    </tr>\n",
              "    <tr>\n",
              "      <th>3</th>\n",
              "      <td>1</td>\n",
              "      <td>0</td>\n",
              "      <td>0</td>\n",
              "      <td>0</td>\n",
              "      <td>0</td>\n",
              "      <td>0</td>\n",
              "      <td>1</td>\n",
              "      <td>0</td>\n",
              "      <td>0</td>\n",
              "      <td>0</td>\n",
              "      <td>...</td>\n",
              "      <td>1</td>\n",
              "      <td>0</td>\n",
              "      <td>0</td>\n",
              "      <td>0</td>\n",
              "      <td>0</td>\n",
              "      <td>0</td>\n",
              "      <td>0</td>\n",
              "      <td>1</td>\n",
              "      <td>0</td>\n",
              "      <td>0</td>\n",
              "    </tr>\n",
              "    <tr>\n",
              "      <th>4</th>\n",
              "      <td>1</td>\n",
              "      <td>0</td>\n",
              "      <td>0</td>\n",
              "      <td>0</td>\n",
              "      <td>0</td>\n",
              "      <td>0</td>\n",
              "      <td>1</td>\n",
              "      <td>0</td>\n",
              "      <td>0</td>\n",
              "      <td>0</td>\n",
              "      <td>...</td>\n",
              "      <td>0</td>\n",
              "      <td>0</td>\n",
              "      <td>0</td>\n",
              "      <td>1</td>\n",
              "      <td>0</td>\n",
              "      <td>1</td>\n",
              "      <td>0</td>\n",
              "      <td>0</td>\n",
              "      <td>0</td>\n",
              "      <td>0</td>\n",
              "    </tr>\n",
              "  </tbody>\n",
              "</table>\n",
              "<p>5 rows × 47 columns</p>\n",
              "</div>\n",
              "      <button class=\"colab-df-convert\" onclick=\"convertToInteractive('df-7c3405c9-8d72-4cb8-b0d0-532cbaf4cd1c')\"\n",
              "              title=\"Convert this dataframe to an interactive table.\"\n",
              "              style=\"display:none;\">\n",
              "        \n",
              "  <svg xmlns=\"http://www.w3.org/2000/svg\" height=\"24px\"viewBox=\"0 0 24 24\"\n",
              "       width=\"24px\">\n",
              "    <path d=\"M0 0h24v24H0V0z\" fill=\"none\"/>\n",
              "    <path d=\"M18.56 5.44l.94 2.06.94-2.06 2.06-.94-2.06-.94-.94-2.06-.94 2.06-2.06.94zm-11 1L8.5 8.5l.94-2.06 2.06-.94-2.06-.94L8.5 2.5l-.94 2.06-2.06.94zm10 10l.94 2.06.94-2.06 2.06-.94-2.06-.94-.94-2.06-.94 2.06-2.06.94z\"/><path d=\"M17.41 7.96l-1.37-1.37c-.4-.4-.92-.59-1.43-.59-.52 0-1.04.2-1.43.59L10.3 9.45l-7.72 7.72c-.78.78-.78 2.05 0 2.83L4 21.41c.39.39.9.59 1.41.59.51 0 1.02-.2 1.41-.59l7.78-7.78 2.81-2.81c.8-.78.8-2.07 0-2.86zM5.41 20L4 18.59l7.72-7.72 1.47 1.35L5.41 20z\"/>\n",
              "  </svg>\n",
              "      </button>\n",
              "      \n",
              "  <style>\n",
              "    .colab-df-container {\n",
              "      display:flex;\n",
              "      flex-wrap:wrap;\n",
              "      gap: 12px;\n",
              "    }\n",
              "\n",
              "    .colab-df-convert {\n",
              "      background-color: #E8F0FE;\n",
              "      border: none;\n",
              "      border-radius: 50%;\n",
              "      cursor: pointer;\n",
              "      display: none;\n",
              "      fill: #1967D2;\n",
              "      height: 32px;\n",
              "      padding: 0 0 0 0;\n",
              "      width: 32px;\n",
              "    }\n",
              "\n",
              "    .colab-df-convert:hover {\n",
              "      background-color: #E2EBFA;\n",
              "      box-shadow: 0px 1px 2px rgba(60, 64, 67, 0.3), 0px 1px 3px 1px rgba(60, 64, 67, 0.15);\n",
              "      fill: #174EA6;\n",
              "    }\n",
              "\n",
              "    [theme=dark] .colab-df-convert {\n",
              "      background-color: #3B4455;\n",
              "      fill: #D2E3FC;\n",
              "    }\n",
              "\n",
              "    [theme=dark] .colab-df-convert:hover {\n",
              "      background-color: #434B5C;\n",
              "      box-shadow: 0px 1px 3px 1px rgba(0, 0, 0, 0.15);\n",
              "      filter: drop-shadow(0px 1px 2px rgba(0, 0, 0, 0.3));\n",
              "      fill: #FFFFFF;\n",
              "    }\n",
              "  </style>\n",
              "\n",
              "      <script>\n",
              "        const buttonEl =\n",
              "          document.querySelector('#df-7c3405c9-8d72-4cb8-b0d0-532cbaf4cd1c button.colab-df-convert');\n",
              "        buttonEl.style.display =\n",
              "          google.colab.kernel.accessAllowed ? 'block' : 'none';\n",
              "\n",
              "        async function convertToInteractive(key) {\n",
              "          const element = document.querySelector('#df-7c3405c9-8d72-4cb8-b0d0-532cbaf4cd1c');\n",
              "          const dataTable =\n",
              "            await google.colab.kernel.invokeFunction('convertToInteractive',\n",
              "                                                     [key], {});\n",
              "          if (!dataTable) return;\n",
              "\n",
              "          const docLinkHtml = 'Like what you see? Visit the ' +\n",
              "            '<a target=\"_blank\" href=https://colab.research.google.com/notebooks/data_table.ipynb>data table notebook</a>'\n",
              "            + ' to learn more about interactive tables.';\n",
              "          element.innerHTML = '';\n",
              "          dataTable['output_type'] = 'display_data';\n",
              "          await google.colab.output.renderOutput(dataTable, element);\n",
              "          const docLink = document.createElement('div');\n",
              "          docLink.innerHTML = docLinkHtml;\n",
              "          element.appendChild(docLink);\n",
              "        }\n",
              "      </script>\n",
              "    </div>\n",
              "  </div>\n",
              "  "
            ]
          },
          "metadata": {},
          "execution_count": 59
        }
      ]
    },
    {
      "cell_type": "code",
      "source": [
        "data_all = pd.concat([num,X_char_dum],axis=1,join='inner')"
      ],
      "metadata": {
        "execution": {
          "iopub.status.busy": "2022-03-14T19:26:33.346226Z",
          "iopub.execute_input": "2022-03-14T19:26:33.346448Z",
          "iopub.status.idle": "2022-03-14T19:26:33.353919Z",
          "shell.execute_reply.started": "2022-03-14T19:26:33.346422Z",
          "shell.execute_reply": "2022-03-14T19:26:33.352808Z"
        },
        "trusted": true,
        "id": "th_UG8bscecz"
      },
      "execution_count": null,
      "outputs": []
    },
    {
      "cell_type": "code",
      "source": [
        "data_all.head()"
      ],
      "metadata": {
        "execution": {
          "iopub.status.busy": "2022-03-14T19:26:33.355637Z",
          "iopub.execute_input": "2022-03-14T19:26:33.356655Z",
          "iopub.status.idle": "2022-03-14T19:26:33.381756Z",
          "shell.execute_reply.started": "2022-03-14T19:26:33.356604Z",
          "shell.execute_reply": "2022-03-14T19:26:33.379348Z"
        },
        "trusted": true,
        "colab": {
          "base_uri": "https://localhost:8080/",
          "height": 317
        },
        "id": "LFaZr4prcec0",
        "outputId": "c5a3686b-057e-4d9a-d5fd-34e6c80bc98f"
      },
      "execution_count": null,
      "outputs": [
        {
          "output_type": "execute_result",
          "data": {
            "text/plain": [
              "   online_booking  mobile_site_booking  traveltype_pointtopoint  \\\n",
              "0               0                    0                        1   \n",
              "1               0                    0                        1   \n",
              "2               0                    0                        1   \n",
              "3               0                    0                        1   \n",
              "4               0                    0                        1   \n",
              "\n",
              "   traveltype_hourly   distance  time_diff  from_area_id_Low Cancellation  \\\n",
              "0                  0   3.980687       21.0                              1   \n",
              "1                  0  14.004432      395.0                              1   \n",
              "2                  0  12.648909       22.0                              1   \n",
              "3                  0   9.534596       66.0                              1   \n",
              "4                  0  14.655467       67.0                              1   \n",
              "\n",
              "   from_area_id_Medium Cancellation  from_date_day_Monday  \\\n",
              "0                                 0                     0   \n",
              "1                                 0                     0   \n",
              "2                                 0                     0   \n",
              "3                                 0                     0   \n",
              "4                                 0                     0   \n",
              "\n",
              "   from_date_day_Saturday  ...  from_date_session_Early Morning  \\\n",
              "0                       0  ...                                0   \n",
              "1                       0  ...                                0   \n",
              "2                       0  ...                                0   \n",
              "3                       0  ...                                1   \n",
              "4                       0  ...                                0   \n",
              "\n",
              "   from_date_session_Evening  from_date_session_Late Night  \\\n",
              "0                          0                             1   \n",
              "1                          0                             0   \n",
              "2                          0                             1   \n",
              "3                          0                             0   \n",
              "4                          0                             0   \n",
              "\n",
              "   from_date_session_Morning  from_date_session_Night  \\\n",
              "0                          0                        0   \n",
              "1                          1                        0   \n",
              "2                          0                        0   \n",
              "3                          0                        0   \n",
              "4                          1                        0   \n",
              "\n",
              "   booking_created_session_Early Morning  booking_created_session_Evening  \\\n",
              "0                                      0                                0   \n",
              "1                                      0                                0   \n",
              "2                                      0                                0   \n",
              "3                                      0                                0   \n",
              "4                                      1                                0   \n",
              "\n",
              "   booking_created_session_Late Night  booking_created_session_Morning  \\\n",
              "0                                   1                                0   \n",
              "1                                   1                                0   \n",
              "2                                   1                                0   \n",
              "3                                   1                                0   \n",
              "4                                   0                                0   \n",
              "\n",
              "   booking_created_session_Night  \n",
              "0                              0  \n",
              "1                              0  \n",
              "2                              0  \n",
              "3                              0  \n",
              "4                              0  \n",
              "\n",
              "[5 rows x 53 columns]"
            ],
            "text/html": [
              "\n",
              "  <div id=\"df-fbad81e5-da4b-494c-ba60-cbff4bedbd3e\">\n",
              "    <div class=\"colab-df-container\">\n",
              "      <div>\n",
              "<style scoped>\n",
              "    .dataframe tbody tr th:only-of-type {\n",
              "        vertical-align: middle;\n",
              "    }\n",
              "\n",
              "    .dataframe tbody tr th {\n",
              "        vertical-align: top;\n",
              "    }\n",
              "\n",
              "    .dataframe thead th {\n",
              "        text-align: right;\n",
              "    }\n",
              "</style>\n",
              "<table border=\"1\" class=\"dataframe\">\n",
              "  <thead>\n",
              "    <tr style=\"text-align: right;\">\n",
              "      <th></th>\n",
              "      <th>online_booking</th>\n",
              "      <th>mobile_site_booking</th>\n",
              "      <th>traveltype_pointtopoint</th>\n",
              "      <th>traveltype_hourly</th>\n",
              "      <th>distance</th>\n",
              "      <th>time_diff</th>\n",
              "      <th>from_area_id_Low Cancellation</th>\n",
              "      <th>from_area_id_Medium Cancellation</th>\n",
              "      <th>from_date_day_Monday</th>\n",
              "      <th>from_date_day_Saturday</th>\n",
              "      <th>...</th>\n",
              "      <th>from_date_session_Early Morning</th>\n",
              "      <th>from_date_session_Evening</th>\n",
              "      <th>from_date_session_Late Night</th>\n",
              "      <th>from_date_session_Morning</th>\n",
              "      <th>from_date_session_Night</th>\n",
              "      <th>booking_created_session_Early Morning</th>\n",
              "      <th>booking_created_session_Evening</th>\n",
              "      <th>booking_created_session_Late Night</th>\n",
              "      <th>booking_created_session_Morning</th>\n",
              "      <th>booking_created_session_Night</th>\n",
              "    </tr>\n",
              "  </thead>\n",
              "  <tbody>\n",
              "    <tr>\n",
              "      <th>0</th>\n",
              "      <td>0</td>\n",
              "      <td>0</td>\n",
              "      <td>1</td>\n",
              "      <td>0</td>\n",
              "      <td>3.980687</td>\n",
              "      <td>21.0</td>\n",
              "      <td>1</td>\n",
              "      <td>0</td>\n",
              "      <td>0</td>\n",
              "      <td>0</td>\n",
              "      <td>...</td>\n",
              "      <td>0</td>\n",
              "      <td>0</td>\n",
              "      <td>1</td>\n",
              "      <td>0</td>\n",
              "      <td>0</td>\n",
              "      <td>0</td>\n",
              "      <td>0</td>\n",
              "      <td>1</td>\n",
              "      <td>0</td>\n",
              "      <td>0</td>\n",
              "    </tr>\n",
              "    <tr>\n",
              "      <th>1</th>\n",
              "      <td>0</td>\n",
              "      <td>0</td>\n",
              "      <td>1</td>\n",
              "      <td>0</td>\n",
              "      <td>14.004432</td>\n",
              "      <td>395.0</td>\n",
              "      <td>1</td>\n",
              "      <td>0</td>\n",
              "      <td>0</td>\n",
              "      <td>0</td>\n",
              "      <td>...</td>\n",
              "      <td>0</td>\n",
              "      <td>0</td>\n",
              "      <td>0</td>\n",
              "      <td>1</td>\n",
              "      <td>0</td>\n",
              "      <td>0</td>\n",
              "      <td>0</td>\n",
              "      <td>1</td>\n",
              "      <td>0</td>\n",
              "      <td>0</td>\n",
              "    </tr>\n",
              "    <tr>\n",
              "      <th>2</th>\n",
              "      <td>0</td>\n",
              "      <td>0</td>\n",
              "      <td>1</td>\n",
              "      <td>0</td>\n",
              "      <td>12.648909</td>\n",
              "      <td>22.0</td>\n",
              "      <td>1</td>\n",
              "      <td>0</td>\n",
              "      <td>0</td>\n",
              "      <td>0</td>\n",
              "      <td>...</td>\n",
              "      <td>0</td>\n",
              "      <td>0</td>\n",
              "      <td>1</td>\n",
              "      <td>0</td>\n",
              "      <td>0</td>\n",
              "      <td>0</td>\n",
              "      <td>0</td>\n",
              "      <td>1</td>\n",
              "      <td>0</td>\n",
              "      <td>0</td>\n",
              "    </tr>\n",
              "    <tr>\n",
              "      <th>3</th>\n",
              "      <td>0</td>\n",
              "      <td>0</td>\n",
              "      <td>1</td>\n",
              "      <td>0</td>\n",
              "      <td>9.534596</td>\n",
              "      <td>66.0</td>\n",
              "      <td>1</td>\n",
              "      <td>0</td>\n",
              "      <td>0</td>\n",
              "      <td>0</td>\n",
              "      <td>...</td>\n",
              "      <td>1</td>\n",
              "      <td>0</td>\n",
              "      <td>0</td>\n",
              "      <td>0</td>\n",
              "      <td>0</td>\n",
              "      <td>0</td>\n",
              "      <td>0</td>\n",
              "      <td>1</td>\n",
              "      <td>0</td>\n",
              "      <td>0</td>\n",
              "    </tr>\n",
              "    <tr>\n",
              "      <th>4</th>\n",
              "      <td>0</td>\n",
              "      <td>0</td>\n",
              "      <td>1</td>\n",
              "      <td>0</td>\n",
              "      <td>14.655467</td>\n",
              "      <td>67.0</td>\n",
              "      <td>1</td>\n",
              "      <td>0</td>\n",
              "      <td>0</td>\n",
              "      <td>0</td>\n",
              "      <td>...</td>\n",
              "      <td>0</td>\n",
              "      <td>0</td>\n",
              "      <td>0</td>\n",
              "      <td>1</td>\n",
              "      <td>0</td>\n",
              "      <td>1</td>\n",
              "      <td>0</td>\n",
              "      <td>0</td>\n",
              "      <td>0</td>\n",
              "      <td>0</td>\n",
              "    </tr>\n",
              "  </tbody>\n",
              "</table>\n",
              "<p>5 rows × 53 columns</p>\n",
              "</div>\n",
              "      <button class=\"colab-df-convert\" onclick=\"convertToInteractive('df-fbad81e5-da4b-494c-ba60-cbff4bedbd3e')\"\n",
              "              title=\"Convert this dataframe to an interactive table.\"\n",
              "              style=\"display:none;\">\n",
              "        \n",
              "  <svg xmlns=\"http://www.w3.org/2000/svg\" height=\"24px\"viewBox=\"0 0 24 24\"\n",
              "       width=\"24px\">\n",
              "    <path d=\"M0 0h24v24H0V0z\" fill=\"none\"/>\n",
              "    <path d=\"M18.56 5.44l.94 2.06.94-2.06 2.06-.94-2.06-.94-.94-2.06-.94 2.06-2.06.94zm-11 1L8.5 8.5l.94-2.06 2.06-.94-2.06-.94L8.5 2.5l-.94 2.06-2.06.94zm10 10l.94 2.06.94-2.06 2.06-.94-2.06-.94-.94-2.06-.94 2.06-2.06.94z\"/><path d=\"M17.41 7.96l-1.37-1.37c-.4-.4-.92-.59-1.43-.59-.52 0-1.04.2-1.43.59L10.3 9.45l-7.72 7.72c-.78.78-.78 2.05 0 2.83L4 21.41c.39.39.9.59 1.41.59.51 0 1.02-.2 1.41-.59l7.78-7.78 2.81-2.81c.8-.78.8-2.07 0-2.86zM5.41 20L4 18.59l7.72-7.72 1.47 1.35L5.41 20z\"/>\n",
              "  </svg>\n",
              "      </button>\n",
              "      \n",
              "  <style>\n",
              "    .colab-df-container {\n",
              "      display:flex;\n",
              "      flex-wrap:wrap;\n",
              "      gap: 12px;\n",
              "    }\n",
              "\n",
              "    .colab-df-convert {\n",
              "      background-color: #E8F0FE;\n",
              "      border: none;\n",
              "      border-radius: 50%;\n",
              "      cursor: pointer;\n",
              "      display: none;\n",
              "      fill: #1967D2;\n",
              "      height: 32px;\n",
              "      padding: 0 0 0 0;\n",
              "      width: 32px;\n",
              "    }\n",
              "\n",
              "    .colab-df-convert:hover {\n",
              "      background-color: #E2EBFA;\n",
              "      box-shadow: 0px 1px 2px rgba(60, 64, 67, 0.3), 0px 1px 3px 1px rgba(60, 64, 67, 0.15);\n",
              "      fill: #174EA6;\n",
              "    }\n",
              "\n",
              "    [theme=dark] .colab-df-convert {\n",
              "      background-color: #3B4455;\n",
              "      fill: #D2E3FC;\n",
              "    }\n",
              "\n",
              "    [theme=dark] .colab-df-convert:hover {\n",
              "      background-color: #434B5C;\n",
              "      box-shadow: 0px 1px 3px 1px rgba(0, 0, 0, 0.15);\n",
              "      filter: drop-shadow(0px 1px 2px rgba(0, 0, 0, 0.3));\n",
              "      fill: #FFFFFF;\n",
              "    }\n",
              "  </style>\n",
              "\n",
              "      <script>\n",
              "        const buttonEl =\n",
              "          document.querySelector('#df-fbad81e5-da4b-494c-ba60-cbff4bedbd3e button.colab-df-convert');\n",
              "        buttonEl.style.display =\n",
              "          google.colab.kernel.accessAllowed ? 'block' : 'none';\n",
              "\n",
              "        async function convertToInteractive(key) {\n",
              "          const element = document.querySelector('#df-fbad81e5-da4b-494c-ba60-cbff4bedbd3e');\n",
              "          const dataTable =\n",
              "            await google.colab.kernel.invokeFunction('convertToInteractive',\n",
              "                                                     [key], {});\n",
              "          if (!dataTable) return;\n",
              "\n",
              "          const docLinkHtml = 'Like what you see? Visit the ' +\n",
              "            '<a target=\"_blank\" href=https://colab.research.google.com/notebooks/data_table.ipynb>data table notebook</a>'\n",
              "            + ' to learn more about interactive tables.';\n",
              "          element.innerHTML = '';\n",
              "          dataTable['output_type'] = 'display_data';\n",
              "          await google.colab.output.renderOutput(dataTable, element);\n",
              "          const docLink = document.createElement('div');\n",
              "          docLink.innerHTML = docLinkHtml;\n",
              "          element.appendChild(docLink);\n",
              "        }\n",
              "      </script>\n",
              "    </div>\n",
              "  </div>\n",
              "  "
            ]
          },
          "metadata": {},
          "execution_count": 61
        }
      ]
    },
    {
      "cell_type": "code",
      "source": [
        "data_all.shape"
      ],
      "metadata": {
        "execution": {
          "iopub.status.busy": "2022-03-14T19:26:33.38315Z",
          "iopub.execute_input": "2022-03-14T19:26:33.383501Z",
          "iopub.status.idle": "2022-03-14T19:26:33.390083Z",
          "shell.execute_reply.started": "2022-03-14T19:26:33.383457Z",
          "shell.execute_reply": "2022-03-14T19:26:33.38923Z"
        },
        "trusted": true,
        "colab": {
          "base_uri": "https://localhost:8080/"
        },
        "id": "u56EWdTZcec0",
        "outputId": "2944acae-a2f8-4e6f-c5a8-8bf55ef61e00"
      },
      "execution_count": null,
      "outputs": [
        {
          "output_type": "execute_result",
          "data": {
            "text/plain": [
              "(43431, 53)"
            ]
          },
          "metadata": {},
          "execution_count": 62
        }
      ]
    },
    {
      "cell_type": "markdown",
      "source": [
        "## Train Test Split"
      ],
      "metadata": {
        "id": "PWiBqt7rcec0"
      }
    },
    {
      "cell_type": "code",
      "source": [
        "from sklearn.model_selection import train_test_split\n",
        "X_train,X_test,y_train,y_test = train_test_split(data_all,target,test_size=0.3,random_state=1)"
      ],
      "metadata": {
        "execution": {
          "iopub.status.busy": "2022-03-14T19:26:33.391751Z",
          "iopub.execute_input": "2022-03-14T19:26:33.392249Z",
          "iopub.status.idle": "2022-03-14T19:26:33.487126Z",
          "shell.execute_reply.started": "2022-03-14T19:26:33.392202Z",
          "shell.execute_reply": "2022-03-14T19:26:33.486405Z"
        },
        "trusted": true,
        "id": "Ot6h7uwucec1"
      },
      "execution_count": null,
      "outputs": []
    },
    {
      "cell_type": "code",
      "source": [
        "X_train.head()"
      ],
      "metadata": {
        "execution": {
          "iopub.status.busy": "2022-03-14T19:26:33.488901Z",
          "iopub.execute_input": "2022-03-14T19:26:33.489343Z",
          "iopub.status.idle": "2022-03-14T19:26:33.511841Z",
          "shell.execute_reply.started": "2022-03-14T19:26:33.489275Z",
          "shell.execute_reply": "2022-03-14T19:26:33.510852Z"
        },
        "trusted": true,
        "colab": {
          "base_uri": "https://localhost:8080/",
          "height": 317
        },
        "id": "LZVH3Wgycec1",
        "outputId": "0eeb53c4-30e4-4e2c-a840-7ff7464fd83e"
      },
      "execution_count": null,
      "outputs": [
        {
          "output_type": "execute_result",
          "data": {
            "text/plain": [
              "       online_booking  mobile_site_booking  traveltype_pointtopoint  \\\n",
              "21506               0                    0                        1   \n",
              "12367               0                    1                        1   \n",
              "5983                0                    0                        1   \n",
              "18513               0                    0                        0   \n",
              "16033               1                    0                        1   \n",
              "\n",
              "       traveltype_hourly   distance  time_diff  from_area_id_Low Cancellation  \\\n",
              "21506                  0   9.236426     2832.0                              1   \n",
              "12367                  0   1.809583     1504.0                              1   \n",
              "5983                   0  13.558000      214.0                              1   \n",
              "18513                  0  18.456702       37.0                              1   \n",
              "16033                  0  13.405912      128.0                              1   \n",
              "\n",
              "       from_area_id_Medium Cancellation  from_date_day_Monday  \\\n",
              "21506                                 0                     1   \n",
              "12367                                 0                     1   \n",
              "5983                                  0                     0   \n",
              "18513                                 0                     0   \n",
              "16033                                 0                     0   \n",
              "\n",
              "       from_date_day_Saturday  ...  from_date_session_Early Morning  \\\n",
              "21506                       0  ...                                0   \n",
              "12367                       0  ...                                0   \n",
              "5983                        1  ...                                0   \n",
              "18513                       0  ...                                1   \n",
              "16033                       0  ...                                0   \n",
              "\n",
              "       from_date_session_Evening  from_date_session_Late Night  \\\n",
              "21506                          0                             0   \n",
              "12367                          0                             0   \n",
              "5983                           0                             0   \n",
              "18513                          0                             0   \n",
              "16033                          0                             0   \n",
              "\n",
              "       from_date_session_Morning  from_date_session_Night  \\\n",
              "21506                          0                        0   \n",
              "12367                          1                        0   \n",
              "5983                           0                        1   \n",
              "18513                          0                        0   \n",
              "16033                          0                        1   \n",
              "\n",
              "       booking_created_session_Early Morning  booking_created_session_Evening  \\\n",
              "21506                                      0                                0   \n",
              "12367                                      0                                0   \n",
              "5983                                       0                                1   \n",
              "18513                                      1                                0   \n",
              "16033                                      0                                1   \n",
              "\n",
              "       booking_created_session_Late Night  booking_created_session_Morning  \\\n",
              "21506                                   0                                0   \n",
              "12367                                   0                                1   \n",
              "5983                                    0                                0   \n",
              "18513                                   0                                0   \n",
              "16033                                   0                                0   \n",
              "\n",
              "       booking_created_session_Night  \n",
              "21506                              0  \n",
              "12367                              0  \n",
              "5983                               0  \n",
              "18513                              0  \n",
              "16033                              0  \n",
              "\n",
              "[5 rows x 53 columns]"
            ],
            "text/html": [
              "\n",
              "  <div id=\"df-4d9a9b4b-d776-4035-95e8-2cb82640774e\">\n",
              "    <div class=\"colab-df-container\">\n",
              "      <div>\n",
              "<style scoped>\n",
              "    .dataframe tbody tr th:only-of-type {\n",
              "        vertical-align: middle;\n",
              "    }\n",
              "\n",
              "    .dataframe tbody tr th {\n",
              "        vertical-align: top;\n",
              "    }\n",
              "\n",
              "    .dataframe thead th {\n",
              "        text-align: right;\n",
              "    }\n",
              "</style>\n",
              "<table border=\"1\" class=\"dataframe\">\n",
              "  <thead>\n",
              "    <tr style=\"text-align: right;\">\n",
              "      <th></th>\n",
              "      <th>online_booking</th>\n",
              "      <th>mobile_site_booking</th>\n",
              "      <th>traveltype_pointtopoint</th>\n",
              "      <th>traveltype_hourly</th>\n",
              "      <th>distance</th>\n",
              "      <th>time_diff</th>\n",
              "      <th>from_area_id_Low Cancellation</th>\n",
              "      <th>from_area_id_Medium Cancellation</th>\n",
              "      <th>from_date_day_Monday</th>\n",
              "      <th>from_date_day_Saturday</th>\n",
              "      <th>...</th>\n",
              "      <th>from_date_session_Early Morning</th>\n",
              "      <th>from_date_session_Evening</th>\n",
              "      <th>from_date_session_Late Night</th>\n",
              "      <th>from_date_session_Morning</th>\n",
              "      <th>from_date_session_Night</th>\n",
              "      <th>booking_created_session_Early Morning</th>\n",
              "      <th>booking_created_session_Evening</th>\n",
              "      <th>booking_created_session_Late Night</th>\n",
              "      <th>booking_created_session_Morning</th>\n",
              "      <th>booking_created_session_Night</th>\n",
              "    </tr>\n",
              "  </thead>\n",
              "  <tbody>\n",
              "    <tr>\n",
              "      <th>21506</th>\n",
              "      <td>0</td>\n",
              "      <td>0</td>\n",
              "      <td>1</td>\n",
              "      <td>0</td>\n",
              "      <td>9.236426</td>\n",
              "      <td>2832.0</td>\n",
              "      <td>1</td>\n",
              "      <td>0</td>\n",
              "      <td>1</td>\n",
              "      <td>0</td>\n",
              "      <td>...</td>\n",
              "      <td>0</td>\n",
              "      <td>0</td>\n",
              "      <td>0</td>\n",
              "      <td>0</td>\n",
              "      <td>0</td>\n",
              "      <td>0</td>\n",
              "      <td>0</td>\n",
              "      <td>0</td>\n",
              "      <td>0</td>\n",
              "      <td>0</td>\n",
              "    </tr>\n",
              "    <tr>\n",
              "      <th>12367</th>\n",
              "      <td>0</td>\n",
              "      <td>1</td>\n",
              "      <td>1</td>\n",
              "      <td>0</td>\n",
              "      <td>1.809583</td>\n",
              "      <td>1504.0</td>\n",
              "      <td>1</td>\n",
              "      <td>0</td>\n",
              "      <td>1</td>\n",
              "      <td>0</td>\n",
              "      <td>...</td>\n",
              "      <td>0</td>\n",
              "      <td>0</td>\n",
              "      <td>0</td>\n",
              "      <td>1</td>\n",
              "      <td>0</td>\n",
              "      <td>0</td>\n",
              "      <td>0</td>\n",
              "      <td>0</td>\n",
              "      <td>1</td>\n",
              "      <td>0</td>\n",
              "    </tr>\n",
              "    <tr>\n",
              "      <th>5983</th>\n",
              "      <td>0</td>\n",
              "      <td>0</td>\n",
              "      <td>1</td>\n",
              "      <td>0</td>\n",
              "      <td>13.558000</td>\n",
              "      <td>214.0</td>\n",
              "      <td>1</td>\n",
              "      <td>0</td>\n",
              "      <td>0</td>\n",
              "      <td>1</td>\n",
              "      <td>...</td>\n",
              "      <td>0</td>\n",
              "      <td>0</td>\n",
              "      <td>0</td>\n",
              "      <td>0</td>\n",
              "      <td>1</td>\n",
              "      <td>0</td>\n",
              "      <td>1</td>\n",
              "      <td>0</td>\n",
              "      <td>0</td>\n",
              "      <td>0</td>\n",
              "    </tr>\n",
              "    <tr>\n",
              "      <th>18513</th>\n",
              "      <td>0</td>\n",
              "      <td>0</td>\n",
              "      <td>0</td>\n",
              "      <td>0</td>\n",
              "      <td>18.456702</td>\n",
              "      <td>37.0</td>\n",
              "      <td>1</td>\n",
              "      <td>0</td>\n",
              "      <td>0</td>\n",
              "      <td>0</td>\n",
              "      <td>...</td>\n",
              "      <td>1</td>\n",
              "      <td>0</td>\n",
              "      <td>0</td>\n",
              "      <td>0</td>\n",
              "      <td>0</td>\n",
              "      <td>1</td>\n",
              "      <td>0</td>\n",
              "      <td>0</td>\n",
              "      <td>0</td>\n",
              "      <td>0</td>\n",
              "    </tr>\n",
              "    <tr>\n",
              "      <th>16033</th>\n",
              "      <td>1</td>\n",
              "      <td>0</td>\n",
              "      <td>1</td>\n",
              "      <td>0</td>\n",
              "      <td>13.405912</td>\n",
              "      <td>128.0</td>\n",
              "      <td>1</td>\n",
              "      <td>0</td>\n",
              "      <td>0</td>\n",
              "      <td>0</td>\n",
              "      <td>...</td>\n",
              "      <td>0</td>\n",
              "      <td>0</td>\n",
              "      <td>0</td>\n",
              "      <td>0</td>\n",
              "      <td>1</td>\n",
              "      <td>0</td>\n",
              "      <td>1</td>\n",
              "      <td>0</td>\n",
              "      <td>0</td>\n",
              "      <td>0</td>\n",
              "    </tr>\n",
              "  </tbody>\n",
              "</table>\n",
              "<p>5 rows × 53 columns</p>\n",
              "</div>\n",
              "      <button class=\"colab-df-convert\" onclick=\"convertToInteractive('df-4d9a9b4b-d776-4035-95e8-2cb82640774e')\"\n",
              "              title=\"Convert this dataframe to an interactive table.\"\n",
              "              style=\"display:none;\">\n",
              "        \n",
              "  <svg xmlns=\"http://www.w3.org/2000/svg\" height=\"24px\"viewBox=\"0 0 24 24\"\n",
              "       width=\"24px\">\n",
              "    <path d=\"M0 0h24v24H0V0z\" fill=\"none\"/>\n",
              "    <path d=\"M18.56 5.44l.94 2.06.94-2.06 2.06-.94-2.06-.94-.94-2.06-.94 2.06-2.06.94zm-11 1L8.5 8.5l.94-2.06 2.06-.94-2.06-.94L8.5 2.5l-.94 2.06-2.06.94zm10 10l.94 2.06.94-2.06 2.06-.94-2.06-.94-.94-2.06-.94 2.06-2.06.94z\"/><path d=\"M17.41 7.96l-1.37-1.37c-.4-.4-.92-.59-1.43-.59-.52 0-1.04.2-1.43.59L10.3 9.45l-7.72 7.72c-.78.78-.78 2.05 0 2.83L4 21.41c.39.39.9.59 1.41.59.51 0 1.02-.2 1.41-.59l7.78-7.78 2.81-2.81c.8-.78.8-2.07 0-2.86zM5.41 20L4 18.59l7.72-7.72 1.47 1.35L5.41 20z\"/>\n",
              "  </svg>\n",
              "      </button>\n",
              "      \n",
              "  <style>\n",
              "    .colab-df-container {\n",
              "      display:flex;\n",
              "      flex-wrap:wrap;\n",
              "      gap: 12px;\n",
              "    }\n",
              "\n",
              "    .colab-df-convert {\n",
              "      background-color: #E8F0FE;\n",
              "      border: none;\n",
              "      border-radius: 50%;\n",
              "      cursor: pointer;\n",
              "      display: none;\n",
              "      fill: #1967D2;\n",
              "      height: 32px;\n",
              "      padding: 0 0 0 0;\n",
              "      width: 32px;\n",
              "    }\n",
              "\n",
              "    .colab-df-convert:hover {\n",
              "      background-color: #E2EBFA;\n",
              "      box-shadow: 0px 1px 2px rgba(60, 64, 67, 0.3), 0px 1px 3px 1px rgba(60, 64, 67, 0.15);\n",
              "      fill: #174EA6;\n",
              "    }\n",
              "\n",
              "    [theme=dark] .colab-df-convert {\n",
              "      background-color: #3B4455;\n",
              "      fill: #D2E3FC;\n",
              "    }\n",
              "\n",
              "    [theme=dark] .colab-df-convert:hover {\n",
              "      background-color: #434B5C;\n",
              "      box-shadow: 0px 1px 3px 1px rgba(0, 0, 0, 0.15);\n",
              "      filter: drop-shadow(0px 1px 2px rgba(0, 0, 0, 0.3));\n",
              "      fill: #FFFFFF;\n",
              "    }\n",
              "  </style>\n",
              "\n",
              "      <script>\n",
              "        const buttonEl =\n",
              "          document.querySelector('#df-4d9a9b4b-d776-4035-95e8-2cb82640774e button.colab-df-convert');\n",
              "        buttonEl.style.display =\n",
              "          google.colab.kernel.accessAllowed ? 'block' : 'none';\n",
              "\n",
              "        async function convertToInteractive(key) {\n",
              "          const element = document.querySelector('#df-4d9a9b4b-d776-4035-95e8-2cb82640774e');\n",
              "          const dataTable =\n",
              "            await google.colab.kernel.invokeFunction('convertToInteractive',\n",
              "                                                     [key], {});\n",
              "          if (!dataTable) return;\n",
              "\n",
              "          const docLinkHtml = 'Like what you see? Visit the ' +\n",
              "            '<a target=\"_blank\" href=https://colab.research.google.com/notebooks/data_table.ipynb>data table notebook</a>'\n",
              "            + ' to learn more about interactive tables.';\n",
              "          element.innerHTML = '';\n",
              "          dataTable['output_type'] = 'display_data';\n",
              "          await google.colab.output.renderOutput(dataTable, element);\n",
              "          const docLink = document.createElement('div');\n",
              "          docLink.innerHTML = docLinkHtml;\n",
              "          element.appendChild(docLink);\n",
              "        }\n",
              "      </script>\n",
              "    </div>\n",
              "  </div>\n",
              "  "
            ]
          },
          "metadata": {},
          "execution_count": 64
        }
      ]
    },
    {
      "cell_type": "code",
      "source": [
        "X_test.head()"
      ],
      "metadata": {
        "execution": {
          "iopub.status.busy": "2022-03-14T19:26:33.51349Z",
          "iopub.execute_input": "2022-03-14T19:26:33.514147Z",
          "iopub.status.idle": "2022-03-14T19:26:33.539592Z",
          "shell.execute_reply.started": "2022-03-14T19:26:33.514098Z",
          "shell.execute_reply": "2022-03-14T19:26:33.53863Z"
        },
        "trusted": true,
        "colab": {
          "base_uri": "https://localhost:8080/",
          "height": 317
        },
        "id": "ijgK1PLhcec1",
        "outputId": "63175494-b2bb-48ea-ee0a-1b3ea6602eba"
      },
      "execution_count": null,
      "outputs": [
        {
          "output_type": "execute_result",
          "data": {
            "text/plain": [
              "       online_booking  mobile_site_booking  traveltype_pointtopoint  \\\n",
              "26610               0                    0                        0   \n",
              "38515               0                    0                        0   \n",
              "29806               0                    1                        0   \n",
              "28868               0                    0                        0   \n",
              "11163               1                    0                        1   \n",
              "\n",
              "       traveltype_hourly   distance  time_diff  from_area_id_Low Cancellation  \\\n",
              "26610                  1   3.417640      208.0                              1   \n",
              "38515                  1   4.104127       69.0                              1   \n",
              "29806                  1  11.849498      457.0                              1   \n",
              "28868                  1   8.116004     2371.0                              1   \n",
              "11163                  0  27.427907      444.0                              1   \n",
              "\n",
              "       from_area_id_Medium Cancellation  from_date_day_Monday  \\\n",
              "26610                                 0                     0   \n",
              "38515                                 0                     0   \n",
              "29806                                 0                     0   \n",
              "28868                                 0                     0   \n",
              "11163                                 0                     0   \n",
              "\n",
              "       from_date_day_Saturday  ...  from_date_session_Early Morning  \\\n",
              "26610                       0  ...                                0   \n",
              "38515                       1  ...                                0   \n",
              "29806                       0  ...                                0   \n",
              "28868                       0  ...                                0   \n",
              "11163                       0  ...                                0   \n",
              "\n",
              "       from_date_session_Evening  from_date_session_Late Night  \\\n",
              "26610                          0                             0   \n",
              "38515                          0                             0   \n",
              "29806                          1                             0   \n",
              "28868                          0                             0   \n",
              "11163                          1                             0   \n",
              "\n",
              "       from_date_session_Morning  from_date_session_Night  \\\n",
              "26610                          0                        0   \n",
              "38515                          1                        0   \n",
              "29806                          0                        0   \n",
              "28868                          1                        0   \n",
              "11163                          0                        0   \n",
              "\n",
              "       booking_created_session_Early Morning  booking_created_session_Evening  \\\n",
              "26610                                      0                                0   \n",
              "38515                                      0                                0   \n",
              "29806                                      0                                0   \n",
              "28868                                      0                                1   \n",
              "11163                                      0                                0   \n",
              "\n",
              "       booking_created_session_Late Night  booking_created_session_Morning  \\\n",
              "26610                                   0                                1   \n",
              "38515                                   0                                1   \n",
              "29806                                   0                                1   \n",
              "28868                                   0                                0   \n",
              "11163                                   0                                1   \n",
              "\n",
              "       booking_created_session_Night  \n",
              "26610                              0  \n",
              "38515                              0  \n",
              "29806                              0  \n",
              "28868                              0  \n",
              "11163                              0  \n",
              "\n",
              "[5 rows x 53 columns]"
            ],
            "text/html": [
              "\n",
              "  <div id=\"df-a28b2c9a-8ff7-49b2-bea8-12579372f895\">\n",
              "    <div class=\"colab-df-container\">\n",
              "      <div>\n",
              "<style scoped>\n",
              "    .dataframe tbody tr th:only-of-type {\n",
              "        vertical-align: middle;\n",
              "    }\n",
              "\n",
              "    .dataframe tbody tr th {\n",
              "        vertical-align: top;\n",
              "    }\n",
              "\n",
              "    .dataframe thead th {\n",
              "        text-align: right;\n",
              "    }\n",
              "</style>\n",
              "<table border=\"1\" class=\"dataframe\">\n",
              "  <thead>\n",
              "    <tr style=\"text-align: right;\">\n",
              "      <th></th>\n",
              "      <th>online_booking</th>\n",
              "      <th>mobile_site_booking</th>\n",
              "      <th>traveltype_pointtopoint</th>\n",
              "      <th>traveltype_hourly</th>\n",
              "      <th>distance</th>\n",
              "      <th>time_diff</th>\n",
              "      <th>from_area_id_Low Cancellation</th>\n",
              "      <th>from_area_id_Medium Cancellation</th>\n",
              "      <th>from_date_day_Monday</th>\n",
              "      <th>from_date_day_Saturday</th>\n",
              "      <th>...</th>\n",
              "      <th>from_date_session_Early Morning</th>\n",
              "      <th>from_date_session_Evening</th>\n",
              "      <th>from_date_session_Late Night</th>\n",
              "      <th>from_date_session_Morning</th>\n",
              "      <th>from_date_session_Night</th>\n",
              "      <th>booking_created_session_Early Morning</th>\n",
              "      <th>booking_created_session_Evening</th>\n",
              "      <th>booking_created_session_Late Night</th>\n",
              "      <th>booking_created_session_Morning</th>\n",
              "      <th>booking_created_session_Night</th>\n",
              "    </tr>\n",
              "  </thead>\n",
              "  <tbody>\n",
              "    <tr>\n",
              "      <th>26610</th>\n",
              "      <td>0</td>\n",
              "      <td>0</td>\n",
              "      <td>0</td>\n",
              "      <td>1</td>\n",
              "      <td>3.417640</td>\n",
              "      <td>208.0</td>\n",
              "      <td>1</td>\n",
              "      <td>0</td>\n",
              "      <td>0</td>\n",
              "      <td>0</td>\n",
              "      <td>...</td>\n",
              "      <td>0</td>\n",
              "      <td>0</td>\n",
              "      <td>0</td>\n",
              "      <td>0</td>\n",
              "      <td>0</td>\n",
              "      <td>0</td>\n",
              "      <td>0</td>\n",
              "      <td>0</td>\n",
              "      <td>1</td>\n",
              "      <td>0</td>\n",
              "    </tr>\n",
              "    <tr>\n",
              "      <th>38515</th>\n",
              "      <td>0</td>\n",
              "      <td>0</td>\n",
              "      <td>0</td>\n",
              "      <td>1</td>\n",
              "      <td>4.104127</td>\n",
              "      <td>69.0</td>\n",
              "      <td>1</td>\n",
              "      <td>0</td>\n",
              "      <td>0</td>\n",
              "      <td>1</td>\n",
              "      <td>...</td>\n",
              "      <td>0</td>\n",
              "      <td>0</td>\n",
              "      <td>0</td>\n",
              "      <td>1</td>\n",
              "      <td>0</td>\n",
              "      <td>0</td>\n",
              "      <td>0</td>\n",
              "      <td>0</td>\n",
              "      <td>1</td>\n",
              "      <td>0</td>\n",
              "    </tr>\n",
              "    <tr>\n",
              "      <th>29806</th>\n",
              "      <td>0</td>\n",
              "      <td>1</td>\n",
              "      <td>0</td>\n",
              "      <td>1</td>\n",
              "      <td>11.849498</td>\n",
              "      <td>457.0</td>\n",
              "      <td>1</td>\n",
              "      <td>0</td>\n",
              "      <td>0</td>\n",
              "      <td>0</td>\n",
              "      <td>...</td>\n",
              "      <td>0</td>\n",
              "      <td>1</td>\n",
              "      <td>0</td>\n",
              "      <td>0</td>\n",
              "      <td>0</td>\n",
              "      <td>0</td>\n",
              "      <td>0</td>\n",
              "      <td>0</td>\n",
              "      <td>1</td>\n",
              "      <td>0</td>\n",
              "    </tr>\n",
              "    <tr>\n",
              "      <th>28868</th>\n",
              "      <td>0</td>\n",
              "      <td>0</td>\n",
              "      <td>0</td>\n",
              "      <td>1</td>\n",
              "      <td>8.116004</td>\n",
              "      <td>2371.0</td>\n",
              "      <td>1</td>\n",
              "      <td>0</td>\n",
              "      <td>0</td>\n",
              "      <td>0</td>\n",
              "      <td>...</td>\n",
              "      <td>0</td>\n",
              "      <td>0</td>\n",
              "      <td>0</td>\n",
              "      <td>1</td>\n",
              "      <td>0</td>\n",
              "      <td>0</td>\n",
              "      <td>1</td>\n",
              "      <td>0</td>\n",
              "      <td>0</td>\n",
              "      <td>0</td>\n",
              "    </tr>\n",
              "    <tr>\n",
              "      <th>11163</th>\n",
              "      <td>1</td>\n",
              "      <td>0</td>\n",
              "      <td>1</td>\n",
              "      <td>0</td>\n",
              "      <td>27.427907</td>\n",
              "      <td>444.0</td>\n",
              "      <td>1</td>\n",
              "      <td>0</td>\n",
              "      <td>0</td>\n",
              "      <td>0</td>\n",
              "      <td>...</td>\n",
              "      <td>0</td>\n",
              "      <td>1</td>\n",
              "      <td>0</td>\n",
              "      <td>0</td>\n",
              "      <td>0</td>\n",
              "      <td>0</td>\n",
              "      <td>0</td>\n",
              "      <td>0</td>\n",
              "      <td>1</td>\n",
              "      <td>0</td>\n",
              "    </tr>\n",
              "  </tbody>\n",
              "</table>\n",
              "<p>5 rows × 53 columns</p>\n",
              "</div>\n",
              "      <button class=\"colab-df-convert\" onclick=\"convertToInteractive('df-a28b2c9a-8ff7-49b2-bea8-12579372f895')\"\n",
              "              title=\"Convert this dataframe to an interactive table.\"\n",
              "              style=\"display:none;\">\n",
              "        \n",
              "  <svg xmlns=\"http://www.w3.org/2000/svg\" height=\"24px\"viewBox=\"0 0 24 24\"\n",
              "       width=\"24px\">\n",
              "    <path d=\"M0 0h24v24H0V0z\" fill=\"none\"/>\n",
              "    <path d=\"M18.56 5.44l.94 2.06.94-2.06 2.06-.94-2.06-.94-.94-2.06-.94 2.06-2.06.94zm-11 1L8.5 8.5l.94-2.06 2.06-.94-2.06-.94L8.5 2.5l-.94 2.06-2.06.94zm10 10l.94 2.06.94-2.06 2.06-.94-2.06-.94-.94-2.06-.94 2.06-2.06.94z\"/><path d=\"M17.41 7.96l-1.37-1.37c-.4-.4-.92-.59-1.43-.59-.52 0-1.04.2-1.43.59L10.3 9.45l-7.72 7.72c-.78.78-.78 2.05 0 2.83L4 21.41c.39.39.9.59 1.41.59.51 0 1.02-.2 1.41-.59l7.78-7.78 2.81-2.81c.8-.78.8-2.07 0-2.86zM5.41 20L4 18.59l7.72-7.72 1.47 1.35L5.41 20z\"/>\n",
              "  </svg>\n",
              "      </button>\n",
              "      \n",
              "  <style>\n",
              "    .colab-df-container {\n",
              "      display:flex;\n",
              "      flex-wrap:wrap;\n",
              "      gap: 12px;\n",
              "    }\n",
              "\n",
              "    .colab-df-convert {\n",
              "      background-color: #E8F0FE;\n",
              "      border: none;\n",
              "      border-radius: 50%;\n",
              "      cursor: pointer;\n",
              "      display: none;\n",
              "      fill: #1967D2;\n",
              "      height: 32px;\n",
              "      padding: 0 0 0 0;\n",
              "      width: 32px;\n",
              "    }\n",
              "\n",
              "    .colab-df-convert:hover {\n",
              "      background-color: #E2EBFA;\n",
              "      box-shadow: 0px 1px 2px rgba(60, 64, 67, 0.3), 0px 1px 3px 1px rgba(60, 64, 67, 0.15);\n",
              "      fill: #174EA6;\n",
              "    }\n",
              "\n",
              "    [theme=dark] .colab-df-convert {\n",
              "      background-color: #3B4455;\n",
              "      fill: #D2E3FC;\n",
              "    }\n",
              "\n",
              "    [theme=dark] .colab-df-convert:hover {\n",
              "      background-color: #434B5C;\n",
              "      box-shadow: 0px 1px 3px 1px rgba(0, 0, 0, 0.15);\n",
              "      filter: drop-shadow(0px 1px 2px rgba(0, 0, 0, 0.3));\n",
              "      fill: #FFFFFF;\n",
              "    }\n",
              "  </style>\n",
              "\n",
              "      <script>\n",
              "        const buttonEl =\n",
              "          document.querySelector('#df-a28b2c9a-8ff7-49b2-bea8-12579372f895 button.colab-df-convert');\n",
              "        buttonEl.style.display =\n",
              "          google.colab.kernel.accessAllowed ? 'block' : 'none';\n",
              "\n",
              "        async function convertToInteractive(key) {\n",
              "          const element = document.querySelector('#df-a28b2c9a-8ff7-49b2-bea8-12579372f895');\n",
              "          const dataTable =\n",
              "            await google.colab.kernel.invokeFunction('convertToInteractive',\n",
              "                                                     [key], {});\n",
              "          if (!dataTable) return;\n",
              "\n",
              "          const docLinkHtml = 'Like what you see? Visit the ' +\n",
              "            '<a target=\"_blank\" href=https://colab.research.google.com/notebooks/data_table.ipynb>data table notebook</a>'\n",
              "            + ' to learn more about interactive tables.';\n",
              "          element.innerHTML = '';\n",
              "          dataTable['output_type'] = 'display_data';\n",
              "          await google.colab.output.renderOutput(dataTable, element);\n",
              "          const docLink = document.createElement('div');\n",
              "          docLink.innerHTML = docLinkHtml;\n",
              "          element.appendChild(docLink);\n",
              "        }\n",
              "      </script>\n",
              "    </div>\n",
              "  </div>\n",
              "  "
            ]
          },
          "metadata": {},
          "execution_count": 65
        }
      ]
    },
    {
      "cell_type": "code",
      "source": [
        "import warnings\n",
        "warnings.filterwarnings('ignore')"
      ],
      "metadata": {
        "execution": {
          "iopub.status.busy": "2022-03-14T19:26:33.541211Z",
          "iopub.execute_input": "2022-03-14T19:26:33.542214Z",
          "iopub.status.idle": "2022-03-14T19:26:33.551006Z",
          "shell.execute_reply.started": "2022-03-14T19:26:33.542163Z",
          "shell.execute_reply": "2022-03-14T19:26:33.549935Z"
        },
        "trusted": true,
        "id": "1qjC4gtycec1"
      },
      "execution_count": null,
      "outputs": []
    },
    {
      "cell_type": "markdown",
      "source": [
        "## Model Building"
      ],
      "metadata": {
        "id": "mKRGpN5gcec2"
      }
    },
    {
      "cell_type": "code",
      "source": [
        "from sklearn.linear_model import LogisticRegression\n",
        "lr = LogisticRegression(random_state=4)\n",
        "lr.fit(X_train,y_train)"
      ],
      "metadata": {
        "execution": {
          "iopub.status.busy": "2022-03-14T19:26:33.55261Z",
          "iopub.execute_input": "2022-03-14T19:26:33.55306Z",
          "iopub.status.idle": "2022-03-14T19:26:34.290445Z",
          "shell.execute_reply.started": "2022-03-14T19:26:33.553011Z",
          "shell.execute_reply": "2022-03-14T19:26:34.289411Z"
        },
        "trusted": true,
        "colab": {
          "base_uri": "https://localhost:8080/",
          "height": 75
        },
        "id": "hboEKCdHcec2",
        "outputId": "5963492f-b35b-4b4e-9d9a-9834df9a291b"
      },
      "execution_count": null,
      "outputs": [
        {
          "output_type": "execute_result",
          "data": {
            "text/plain": [
              "LogisticRegression(random_state=4)"
            ],
            "text/html": [
              "<style>#sk-container-id-1 {color: black;background-color: white;}#sk-container-id-1 pre{padding: 0;}#sk-container-id-1 div.sk-toggleable {background-color: white;}#sk-container-id-1 label.sk-toggleable__label {cursor: pointer;display: block;width: 100%;margin-bottom: 0;padding: 0.3em;box-sizing: border-box;text-align: center;}#sk-container-id-1 label.sk-toggleable__label-arrow:before {content: \"▸\";float: left;margin-right: 0.25em;color: #696969;}#sk-container-id-1 label.sk-toggleable__label-arrow:hover:before {color: black;}#sk-container-id-1 div.sk-estimator:hover label.sk-toggleable__label-arrow:before {color: black;}#sk-container-id-1 div.sk-toggleable__content {max-height: 0;max-width: 0;overflow: hidden;text-align: left;background-color: #f0f8ff;}#sk-container-id-1 div.sk-toggleable__content pre {margin: 0.2em;color: black;border-radius: 0.25em;background-color: #f0f8ff;}#sk-container-id-1 input.sk-toggleable__control:checked~div.sk-toggleable__content {max-height: 200px;max-width: 100%;overflow: auto;}#sk-container-id-1 input.sk-toggleable__control:checked~label.sk-toggleable__label-arrow:before {content: \"▾\";}#sk-container-id-1 div.sk-estimator input.sk-toggleable__control:checked~label.sk-toggleable__label {background-color: #d4ebff;}#sk-container-id-1 div.sk-label input.sk-toggleable__control:checked~label.sk-toggleable__label {background-color: #d4ebff;}#sk-container-id-1 input.sk-hidden--visually {border: 0;clip: rect(1px 1px 1px 1px);clip: rect(1px, 1px, 1px, 1px);height: 1px;margin: -1px;overflow: hidden;padding: 0;position: absolute;width: 1px;}#sk-container-id-1 div.sk-estimator {font-family: monospace;background-color: #f0f8ff;border: 1px dotted black;border-radius: 0.25em;box-sizing: border-box;margin-bottom: 0.5em;}#sk-container-id-1 div.sk-estimator:hover {background-color: #d4ebff;}#sk-container-id-1 div.sk-parallel-item::after {content: \"\";width: 100%;border-bottom: 1px solid gray;flex-grow: 1;}#sk-container-id-1 div.sk-label:hover label.sk-toggleable__label {background-color: #d4ebff;}#sk-container-id-1 div.sk-serial::before {content: \"\";position: absolute;border-left: 1px solid gray;box-sizing: border-box;top: 0;bottom: 0;left: 50%;z-index: 0;}#sk-container-id-1 div.sk-serial {display: flex;flex-direction: column;align-items: center;background-color: white;padding-right: 0.2em;padding-left: 0.2em;position: relative;}#sk-container-id-1 div.sk-item {position: relative;z-index: 1;}#sk-container-id-1 div.sk-parallel {display: flex;align-items: stretch;justify-content: center;background-color: white;position: relative;}#sk-container-id-1 div.sk-item::before, #sk-container-id-1 div.sk-parallel-item::before {content: \"\";position: absolute;border-left: 1px solid gray;box-sizing: border-box;top: 0;bottom: 0;left: 50%;z-index: -1;}#sk-container-id-1 div.sk-parallel-item {display: flex;flex-direction: column;z-index: 1;position: relative;background-color: white;}#sk-container-id-1 div.sk-parallel-item:first-child::after {align-self: flex-end;width: 50%;}#sk-container-id-1 div.sk-parallel-item:last-child::after {align-self: flex-start;width: 50%;}#sk-container-id-1 div.sk-parallel-item:only-child::after {width: 0;}#sk-container-id-1 div.sk-dashed-wrapped {border: 1px dashed gray;margin: 0 0.4em 0.5em 0.4em;box-sizing: border-box;padding-bottom: 0.4em;background-color: white;}#sk-container-id-1 div.sk-label label {font-family: monospace;font-weight: bold;display: inline-block;line-height: 1.2em;}#sk-container-id-1 div.sk-label-container {text-align: center;}#sk-container-id-1 div.sk-container {/* jupyter's `normalize.less` sets `[hidden] { display: none; }` but bootstrap.min.css set `[hidden] { display: none !important; }` so we also need the `!important` here to be able to override the default hidden behavior on the sphinx rendered scikit-learn.org. See: https://github.com/scikit-learn/scikit-learn/issues/21755 */display: inline-block !important;position: relative;}#sk-container-id-1 div.sk-text-repr-fallback {display: none;}</style><div id=\"sk-container-id-1\" class=\"sk-top-container\"><div class=\"sk-text-repr-fallback\"><pre>LogisticRegression(random_state=4)</pre><b>In a Jupyter environment, please rerun this cell to show the HTML representation or trust the notebook. <br />On GitHub, the HTML representation is unable to render, please try loading this page with nbviewer.org.</b></div><div class=\"sk-container\" hidden><div class=\"sk-item\"><div class=\"sk-estimator sk-toggleable\"><input class=\"sk-toggleable__control sk-hidden--visually\" id=\"sk-estimator-id-1\" type=\"checkbox\" checked><label for=\"sk-estimator-id-1\" class=\"sk-toggleable__label sk-toggleable__label-arrow\">LogisticRegression</label><div class=\"sk-toggleable__content\"><pre>LogisticRegression(random_state=4)</pre></div></div></div></div></div>"
            ]
          },
          "metadata": {},
          "execution_count": 67
        }
      ]
    },
    {
      "cell_type": "code",
      "source": [
        "from sklearn.tree import DecisionTreeClassifier\n",
        "dtc = DecisionTreeClassifier(criterion='gini',random_state=4)"
      ],
      "metadata": {
        "execution": {
          "iopub.status.busy": "2022-03-14T19:26:34.296398Z",
          "iopub.execute_input": "2022-03-14T19:26:34.299274Z",
          "iopub.status.idle": "2022-03-14T19:26:34.342117Z",
          "shell.execute_reply.started": "2022-03-14T19:26:34.299198Z",
          "shell.execute_reply": "2022-03-14T19:26:34.341063Z"
        },
        "trusted": true,
        "id": "PKNpbtircec2"
      },
      "execution_count": null,
      "outputs": []
    },
    {
      "cell_type": "code",
      "source": [
        "from sklearn.model_selection import GridSearchCV\n",
        "param_dist = {'max_depth': [3, 5, 6, 7], 'min_samples_split': [50, 100, 150, 200, 250]}\n",
        "gscv_dtc = GridSearchCV(dtc, cv=10, param_grid=param_dist, n_jobs=-1)\n",
        "gscv_dtc.fit(X_train,y_train)"
      ],
      "metadata": {
        "execution": {
          "iopub.status.busy": "2022-03-14T19:26:34.344105Z",
          "iopub.execute_input": "2022-03-14T19:26:34.344745Z",
          "iopub.status.idle": "2022-03-14T19:26:45.538944Z",
          "shell.execute_reply.started": "2022-03-14T19:26:34.344697Z",
          "shell.execute_reply": "2022-03-14T19:26:45.537812Z"
        },
        "trusted": true,
        "colab": {
          "base_uri": "https://localhost:8080/",
          "height": 221
        },
        "id": "aH3If02Bcec2",
        "outputId": "e4d88360-a93c-4628-e24c-7f1708f3450e"
      },
      "execution_count": null,
      "outputs": [
        {
          "output_type": "execute_result",
          "data": {
            "text/plain": [
              "GridSearchCV(cv=10, estimator=DecisionTreeClassifier(random_state=4), n_jobs=-1,\n",
              "             param_grid={'max_depth': [3, 5, 6, 7],\n",
              "                         'min_samples_split': [50, 100, 150, 200, 250]})"
            ],
            "text/html": [
              "<style>#sk-container-id-2 {color: black;background-color: white;}#sk-container-id-2 pre{padding: 0;}#sk-container-id-2 div.sk-toggleable {background-color: white;}#sk-container-id-2 label.sk-toggleable__label {cursor: pointer;display: block;width: 100%;margin-bottom: 0;padding: 0.3em;box-sizing: border-box;text-align: center;}#sk-container-id-2 label.sk-toggleable__label-arrow:before {content: \"▸\";float: left;margin-right: 0.25em;color: #696969;}#sk-container-id-2 label.sk-toggleable__label-arrow:hover:before {color: black;}#sk-container-id-2 div.sk-estimator:hover label.sk-toggleable__label-arrow:before {color: black;}#sk-container-id-2 div.sk-toggleable__content {max-height: 0;max-width: 0;overflow: hidden;text-align: left;background-color: #f0f8ff;}#sk-container-id-2 div.sk-toggleable__content pre {margin: 0.2em;color: black;border-radius: 0.25em;background-color: #f0f8ff;}#sk-container-id-2 input.sk-toggleable__control:checked~div.sk-toggleable__content {max-height: 200px;max-width: 100%;overflow: auto;}#sk-container-id-2 input.sk-toggleable__control:checked~label.sk-toggleable__label-arrow:before {content: \"▾\";}#sk-container-id-2 div.sk-estimator input.sk-toggleable__control:checked~label.sk-toggleable__label {background-color: #d4ebff;}#sk-container-id-2 div.sk-label input.sk-toggleable__control:checked~label.sk-toggleable__label {background-color: #d4ebff;}#sk-container-id-2 input.sk-hidden--visually {border: 0;clip: rect(1px 1px 1px 1px);clip: rect(1px, 1px, 1px, 1px);height: 1px;margin: -1px;overflow: hidden;padding: 0;position: absolute;width: 1px;}#sk-container-id-2 div.sk-estimator {font-family: monospace;background-color: #f0f8ff;border: 1px dotted black;border-radius: 0.25em;box-sizing: border-box;margin-bottom: 0.5em;}#sk-container-id-2 div.sk-estimator:hover {background-color: #d4ebff;}#sk-container-id-2 div.sk-parallel-item::after {content: \"\";width: 100%;border-bottom: 1px solid gray;flex-grow: 1;}#sk-container-id-2 div.sk-label:hover label.sk-toggleable__label {background-color: #d4ebff;}#sk-container-id-2 div.sk-serial::before {content: \"\";position: absolute;border-left: 1px solid gray;box-sizing: border-box;top: 0;bottom: 0;left: 50%;z-index: 0;}#sk-container-id-2 div.sk-serial {display: flex;flex-direction: column;align-items: center;background-color: white;padding-right: 0.2em;padding-left: 0.2em;position: relative;}#sk-container-id-2 div.sk-item {position: relative;z-index: 1;}#sk-container-id-2 div.sk-parallel {display: flex;align-items: stretch;justify-content: center;background-color: white;position: relative;}#sk-container-id-2 div.sk-item::before, #sk-container-id-2 div.sk-parallel-item::before {content: \"\";position: absolute;border-left: 1px solid gray;box-sizing: border-box;top: 0;bottom: 0;left: 50%;z-index: -1;}#sk-container-id-2 div.sk-parallel-item {display: flex;flex-direction: column;z-index: 1;position: relative;background-color: white;}#sk-container-id-2 div.sk-parallel-item:first-child::after {align-self: flex-end;width: 50%;}#sk-container-id-2 div.sk-parallel-item:last-child::after {align-self: flex-start;width: 50%;}#sk-container-id-2 div.sk-parallel-item:only-child::after {width: 0;}#sk-container-id-2 div.sk-dashed-wrapped {border: 1px dashed gray;margin: 0 0.4em 0.5em 0.4em;box-sizing: border-box;padding-bottom: 0.4em;background-color: white;}#sk-container-id-2 div.sk-label label {font-family: monospace;font-weight: bold;display: inline-block;line-height: 1.2em;}#sk-container-id-2 div.sk-label-container {text-align: center;}#sk-container-id-2 div.sk-container {/* jupyter's `normalize.less` sets `[hidden] { display: none; }` but bootstrap.min.css set `[hidden] { display: none !important; }` so we also need the `!important` here to be able to override the default hidden behavior on the sphinx rendered scikit-learn.org. See: https://github.com/scikit-learn/scikit-learn/issues/21755 */display: inline-block !important;position: relative;}#sk-container-id-2 div.sk-text-repr-fallback {display: none;}</style><div id=\"sk-container-id-2\" class=\"sk-top-container\"><div class=\"sk-text-repr-fallback\"><pre>GridSearchCV(cv=10, estimator=DecisionTreeClassifier(random_state=4), n_jobs=-1,\n",
              "             param_grid={&#x27;max_depth&#x27;: [3, 5, 6, 7],\n",
              "                         &#x27;min_samples_split&#x27;: [50, 100, 150, 200, 250]})</pre><b>In a Jupyter environment, please rerun this cell to show the HTML representation or trust the notebook. <br />On GitHub, the HTML representation is unable to render, please try loading this page with nbviewer.org.</b></div><div class=\"sk-container\" hidden><div class=\"sk-item sk-dashed-wrapped\"><div class=\"sk-label-container\"><div class=\"sk-label sk-toggleable\"><input class=\"sk-toggleable__control sk-hidden--visually\" id=\"sk-estimator-id-2\" type=\"checkbox\" ><label for=\"sk-estimator-id-2\" class=\"sk-toggleable__label sk-toggleable__label-arrow\">GridSearchCV</label><div class=\"sk-toggleable__content\"><pre>GridSearchCV(cv=10, estimator=DecisionTreeClassifier(random_state=4), n_jobs=-1,\n",
              "             param_grid={&#x27;max_depth&#x27;: [3, 5, 6, 7],\n",
              "                         &#x27;min_samples_split&#x27;: [50, 100, 150, 200, 250]})</pre></div></div></div><div class=\"sk-parallel\"><div class=\"sk-parallel-item\"><div class=\"sk-item\"><div class=\"sk-label-container\"><div class=\"sk-label sk-toggleable\"><input class=\"sk-toggleable__control sk-hidden--visually\" id=\"sk-estimator-id-3\" type=\"checkbox\" ><label for=\"sk-estimator-id-3\" class=\"sk-toggleable__label sk-toggleable__label-arrow\">estimator: DecisionTreeClassifier</label><div class=\"sk-toggleable__content\"><pre>DecisionTreeClassifier(random_state=4)</pre></div></div></div><div class=\"sk-serial\"><div class=\"sk-item\"><div class=\"sk-estimator sk-toggleable\"><input class=\"sk-toggleable__control sk-hidden--visually\" id=\"sk-estimator-id-4\" type=\"checkbox\" ><label for=\"sk-estimator-id-4\" class=\"sk-toggleable__label sk-toggleable__label-arrow\">DecisionTreeClassifier</label><div class=\"sk-toggleable__content\"><pre>DecisionTreeClassifier(random_state=4)</pre></div></div></div></div></div></div></div></div></div></div>"
            ]
          },
          "metadata": {},
          "execution_count": 69
        }
      ]
    },
    {
      "cell_type": "code",
      "source": [
        "gscv_dtc.best_params_"
      ],
      "metadata": {
        "execution": {
          "iopub.status.busy": "2022-03-14T19:26:45.540958Z",
          "iopub.execute_input": "2022-03-14T19:26:45.542049Z",
          "iopub.status.idle": "2022-03-14T19:26:45.549653Z",
          "shell.execute_reply.started": "2022-03-14T19:26:45.541999Z",
          "shell.execute_reply": "2022-03-14T19:26:45.548404Z"
        },
        "trusted": true,
        "colab": {
          "base_uri": "https://localhost:8080/"
        },
        "id": "iSFgihzZcec2",
        "outputId": "32b31f8d-c988-43b0-a522-67379395f47f"
      },
      "execution_count": null,
      "outputs": [
        {
          "output_type": "execute_result",
          "data": {
            "text/plain": [
              "{'max_depth': 7, 'min_samples_split': 50}"
            ]
          },
          "metadata": {},
          "execution_count": 70
        }
      ]
    },
    {
      "cell_type": "code",
      "source": [
        "dtc=DecisionTreeClassifier(criterion='gini',random_state=4,max_depth=7,min_samples_split=50)\n",
        "dtc.fit(X_train,y_train)"
      ],
      "metadata": {
        "execution": {
          "iopub.status.busy": "2022-03-14T19:26:45.551405Z",
          "iopub.execute_input": "2022-03-14T19:26:45.552247Z",
          "iopub.status.idle": "2022-03-14T19:26:45.691023Z",
          "shell.execute_reply.started": "2022-03-14T19:26:45.552197Z",
          "shell.execute_reply": "2022-03-14T19:26:45.690384Z"
        },
        "trusted": true,
        "colab": {
          "base_uri": "https://localhost:8080/",
          "height": 75
        },
        "id": "Xud_lb14cec3",
        "outputId": "a2ccbd12-85d3-4530-8084-205bdd75704c"
      },
      "execution_count": null,
      "outputs": [
        {
          "output_type": "execute_result",
          "data": {
            "text/plain": [
              "DecisionTreeClassifier(max_depth=7, min_samples_split=50, random_state=4)"
            ],
            "text/html": [
              "<style>#sk-container-id-3 {color: black;background-color: white;}#sk-container-id-3 pre{padding: 0;}#sk-container-id-3 div.sk-toggleable {background-color: white;}#sk-container-id-3 label.sk-toggleable__label {cursor: pointer;display: block;width: 100%;margin-bottom: 0;padding: 0.3em;box-sizing: border-box;text-align: center;}#sk-container-id-3 label.sk-toggleable__label-arrow:before {content: \"▸\";float: left;margin-right: 0.25em;color: #696969;}#sk-container-id-3 label.sk-toggleable__label-arrow:hover:before {color: black;}#sk-container-id-3 div.sk-estimator:hover label.sk-toggleable__label-arrow:before {color: black;}#sk-container-id-3 div.sk-toggleable__content {max-height: 0;max-width: 0;overflow: hidden;text-align: left;background-color: #f0f8ff;}#sk-container-id-3 div.sk-toggleable__content pre {margin: 0.2em;color: black;border-radius: 0.25em;background-color: #f0f8ff;}#sk-container-id-3 input.sk-toggleable__control:checked~div.sk-toggleable__content {max-height: 200px;max-width: 100%;overflow: auto;}#sk-container-id-3 input.sk-toggleable__control:checked~label.sk-toggleable__label-arrow:before {content: \"▾\";}#sk-container-id-3 div.sk-estimator input.sk-toggleable__control:checked~label.sk-toggleable__label {background-color: #d4ebff;}#sk-container-id-3 div.sk-label input.sk-toggleable__control:checked~label.sk-toggleable__label {background-color: #d4ebff;}#sk-container-id-3 input.sk-hidden--visually {border: 0;clip: rect(1px 1px 1px 1px);clip: rect(1px, 1px, 1px, 1px);height: 1px;margin: -1px;overflow: hidden;padding: 0;position: absolute;width: 1px;}#sk-container-id-3 div.sk-estimator {font-family: monospace;background-color: #f0f8ff;border: 1px dotted black;border-radius: 0.25em;box-sizing: border-box;margin-bottom: 0.5em;}#sk-container-id-3 div.sk-estimator:hover {background-color: #d4ebff;}#sk-container-id-3 div.sk-parallel-item::after {content: \"\";width: 100%;border-bottom: 1px solid gray;flex-grow: 1;}#sk-container-id-3 div.sk-label:hover label.sk-toggleable__label {background-color: #d4ebff;}#sk-container-id-3 div.sk-serial::before {content: \"\";position: absolute;border-left: 1px solid gray;box-sizing: border-box;top: 0;bottom: 0;left: 50%;z-index: 0;}#sk-container-id-3 div.sk-serial {display: flex;flex-direction: column;align-items: center;background-color: white;padding-right: 0.2em;padding-left: 0.2em;position: relative;}#sk-container-id-3 div.sk-item {position: relative;z-index: 1;}#sk-container-id-3 div.sk-parallel {display: flex;align-items: stretch;justify-content: center;background-color: white;position: relative;}#sk-container-id-3 div.sk-item::before, #sk-container-id-3 div.sk-parallel-item::before {content: \"\";position: absolute;border-left: 1px solid gray;box-sizing: border-box;top: 0;bottom: 0;left: 50%;z-index: -1;}#sk-container-id-3 div.sk-parallel-item {display: flex;flex-direction: column;z-index: 1;position: relative;background-color: white;}#sk-container-id-3 div.sk-parallel-item:first-child::after {align-self: flex-end;width: 50%;}#sk-container-id-3 div.sk-parallel-item:last-child::after {align-self: flex-start;width: 50%;}#sk-container-id-3 div.sk-parallel-item:only-child::after {width: 0;}#sk-container-id-3 div.sk-dashed-wrapped {border: 1px dashed gray;margin: 0 0.4em 0.5em 0.4em;box-sizing: border-box;padding-bottom: 0.4em;background-color: white;}#sk-container-id-3 div.sk-label label {font-family: monospace;font-weight: bold;display: inline-block;line-height: 1.2em;}#sk-container-id-3 div.sk-label-container {text-align: center;}#sk-container-id-3 div.sk-container {/* jupyter's `normalize.less` sets `[hidden] { display: none; }` but bootstrap.min.css set `[hidden] { display: none !important; }` so we also need the `!important` here to be able to override the default hidden behavior on the sphinx rendered scikit-learn.org. See: https://github.com/scikit-learn/scikit-learn/issues/21755 */display: inline-block !important;position: relative;}#sk-container-id-3 div.sk-text-repr-fallback {display: none;}</style><div id=\"sk-container-id-3\" class=\"sk-top-container\"><div class=\"sk-text-repr-fallback\"><pre>DecisionTreeClassifier(max_depth=7, min_samples_split=50, random_state=4)</pre><b>In a Jupyter environment, please rerun this cell to show the HTML representation or trust the notebook. <br />On GitHub, the HTML representation is unable to render, please try loading this page with nbviewer.org.</b></div><div class=\"sk-container\" hidden><div class=\"sk-item\"><div class=\"sk-estimator sk-toggleable\"><input class=\"sk-toggleable__control sk-hidden--visually\" id=\"sk-estimator-id-5\" type=\"checkbox\" checked><label for=\"sk-estimator-id-5\" class=\"sk-toggleable__label sk-toggleable__label-arrow\">DecisionTreeClassifier</label><div class=\"sk-toggleable__content\"><pre>DecisionTreeClassifier(max_depth=7, min_samples_split=50, random_state=4)</pre></div></div></div></div></div>"
            ]
          },
          "metadata": {},
          "execution_count": 71
        }
      ]
    },
    {
      "cell_type": "code",
      "source": [
        "from sklearn.ensemble import RandomForestClassifier\n",
        "rfc = RandomForestClassifier(criterion='gini',random_state=4)"
      ],
      "metadata": {
        "execution": {
          "iopub.status.busy": "2022-03-14T19:26:45.692134Z",
          "iopub.execute_input": "2022-03-14T19:26:45.692865Z",
          "iopub.status.idle": "2022-03-14T19:26:45.716085Z",
          "shell.execute_reply.started": "2022-03-14T19:26:45.69283Z",
          "shell.execute_reply": "2022-03-14T19:26:45.715333Z"
        },
        "trusted": true,
        "id": "arPfV_aFcec3"
      },
      "execution_count": null,
      "outputs": []
    },
    {
      "cell_type": "code",
      "source": [
        "param_dist = {'max_depth': [3, 5, 6, 7], 'min_samples_split': [50, 100, 150, 200, 250]}\n",
        "gscv_rfc = GridSearchCV(rfc, cv=10, param_grid=param_dist, n_jobs=-1)\n",
        "gscv_rfc.fit(X_train,y_train)"
      ],
      "metadata": {
        "execution": {
          "iopub.status.busy": "2022-03-14T19:26:45.717268Z",
          "iopub.execute_input": "2022-03-14T19:26:45.717664Z",
          "iopub.status.idle": "2022-03-14T19:28:31.84232Z",
          "shell.execute_reply.started": "2022-03-14T19:26:45.717633Z",
          "shell.execute_reply": "2022-03-14T19:28:31.841404Z"
        },
        "trusted": true,
        "colab": {
          "base_uri": "https://localhost:8080/",
          "height": 118
        },
        "id": "c66lb_Jhcec3",
        "outputId": "8bbce98e-7ded-40df-bc48-35fb2b6bffa1"
      },
      "execution_count": null,
      "outputs": [
        {
          "output_type": "execute_result",
          "data": {
            "text/plain": [
              "GridSearchCV(cv=10, estimator=RandomForestClassifier(random_state=4), n_jobs=-1,\n",
              "             param_grid={'max_depth': [3, 5, 6, 7],\n",
              "                         'min_samples_split': [50, 100, 150, 200, 250]})"
            ],
            "text/html": [
              "<style>#sk-container-id-4 {color: black;background-color: white;}#sk-container-id-4 pre{padding: 0;}#sk-container-id-4 div.sk-toggleable {background-color: white;}#sk-container-id-4 label.sk-toggleable__label {cursor: pointer;display: block;width: 100%;margin-bottom: 0;padding: 0.3em;box-sizing: border-box;text-align: center;}#sk-container-id-4 label.sk-toggleable__label-arrow:before {content: \"▸\";float: left;margin-right: 0.25em;color: #696969;}#sk-container-id-4 label.sk-toggleable__label-arrow:hover:before {color: black;}#sk-container-id-4 div.sk-estimator:hover label.sk-toggleable__label-arrow:before {color: black;}#sk-container-id-4 div.sk-toggleable__content {max-height: 0;max-width: 0;overflow: hidden;text-align: left;background-color: #f0f8ff;}#sk-container-id-4 div.sk-toggleable__content pre {margin: 0.2em;color: black;border-radius: 0.25em;background-color: #f0f8ff;}#sk-container-id-4 input.sk-toggleable__control:checked~div.sk-toggleable__content {max-height: 200px;max-width: 100%;overflow: auto;}#sk-container-id-4 input.sk-toggleable__control:checked~label.sk-toggleable__label-arrow:before {content: \"▾\";}#sk-container-id-4 div.sk-estimator input.sk-toggleable__control:checked~label.sk-toggleable__label {background-color: #d4ebff;}#sk-container-id-4 div.sk-label input.sk-toggleable__control:checked~label.sk-toggleable__label {background-color: #d4ebff;}#sk-container-id-4 input.sk-hidden--visually {border: 0;clip: rect(1px 1px 1px 1px);clip: rect(1px, 1px, 1px, 1px);height: 1px;margin: -1px;overflow: hidden;padding: 0;position: absolute;width: 1px;}#sk-container-id-4 div.sk-estimator {font-family: monospace;background-color: #f0f8ff;border: 1px dotted black;border-radius: 0.25em;box-sizing: border-box;margin-bottom: 0.5em;}#sk-container-id-4 div.sk-estimator:hover {background-color: #d4ebff;}#sk-container-id-4 div.sk-parallel-item::after {content: \"\";width: 100%;border-bottom: 1px solid gray;flex-grow: 1;}#sk-container-id-4 div.sk-label:hover label.sk-toggleable__label {background-color: #d4ebff;}#sk-container-id-4 div.sk-serial::before {content: \"\";position: absolute;border-left: 1px solid gray;box-sizing: border-box;top: 0;bottom: 0;left: 50%;z-index: 0;}#sk-container-id-4 div.sk-serial {display: flex;flex-direction: column;align-items: center;background-color: white;padding-right: 0.2em;padding-left: 0.2em;position: relative;}#sk-container-id-4 div.sk-item {position: relative;z-index: 1;}#sk-container-id-4 div.sk-parallel {display: flex;align-items: stretch;justify-content: center;background-color: white;position: relative;}#sk-container-id-4 div.sk-item::before, #sk-container-id-4 div.sk-parallel-item::before {content: \"\";position: absolute;border-left: 1px solid gray;box-sizing: border-box;top: 0;bottom: 0;left: 50%;z-index: -1;}#sk-container-id-4 div.sk-parallel-item {display: flex;flex-direction: column;z-index: 1;position: relative;background-color: white;}#sk-container-id-4 div.sk-parallel-item:first-child::after {align-self: flex-end;width: 50%;}#sk-container-id-4 div.sk-parallel-item:last-child::after {align-self: flex-start;width: 50%;}#sk-container-id-4 div.sk-parallel-item:only-child::after {width: 0;}#sk-container-id-4 div.sk-dashed-wrapped {border: 1px dashed gray;margin: 0 0.4em 0.5em 0.4em;box-sizing: border-box;padding-bottom: 0.4em;background-color: white;}#sk-container-id-4 div.sk-label label {font-family: monospace;font-weight: bold;display: inline-block;line-height: 1.2em;}#sk-container-id-4 div.sk-label-container {text-align: center;}#sk-container-id-4 div.sk-container {/* jupyter's `normalize.less` sets `[hidden] { display: none; }` but bootstrap.min.css set `[hidden] { display: none !important; }` so we also need the `!important` here to be able to override the default hidden behavior on the sphinx rendered scikit-learn.org. See: https://github.com/scikit-learn/scikit-learn/issues/21755 */display: inline-block !important;position: relative;}#sk-container-id-4 div.sk-text-repr-fallback {display: none;}</style><div id=\"sk-container-id-4\" class=\"sk-top-container\"><div class=\"sk-text-repr-fallback\"><pre>GridSearchCV(cv=10, estimator=RandomForestClassifier(random_state=4), n_jobs=-1,\n",
              "             param_grid={&#x27;max_depth&#x27;: [3, 5, 6, 7],\n",
              "                         &#x27;min_samples_split&#x27;: [50, 100, 150, 200, 250]})</pre><b>In a Jupyter environment, please rerun this cell to show the HTML representation or trust the notebook. <br />On GitHub, the HTML representation is unable to render, please try loading this page with nbviewer.org.</b></div><div class=\"sk-container\" hidden><div class=\"sk-item sk-dashed-wrapped\"><div class=\"sk-label-container\"><div class=\"sk-label sk-toggleable\"><input class=\"sk-toggleable__control sk-hidden--visually\" id=\"sk-estimator-id-6\" type=\"checkbox\" ><label for=\"sk-estimator-id-6\" class=\"sk-toggleable__label sk-toggleable__label-arrow\">GridSearchCV</label><div class=\"sk-toggleable__content\"><pre>GridSearchCV(cv=10, estimator=RandomForestClassifier(random_state=4), n_jobs=-1,\n",
              "             param_grid={&#x27;max_depth&#x27;: [3, 5, 6, 7],\n",
              "                         &#x27;min_samples_split&#x27;: [50, 100, 150, 200, 250]})</pre></div></div></div><div class=\"sk-parallel\"><div class=\"sk-parallel-item\"><div class=\"sk-item\"><div class=\"sk-label-container\"><div class=\"sk-label sk-toggleable\"><input class=\"sk-toggleable__control sk-hidden--visually\" id=\"sk-estimator-id-7\" type=\"checkbox\" ><label for=\"sk-estimator-id-7\" class=\"sk-toggleable__label sk-toggleable__label-arrow\">estimator: RandomForestClassifier</label><div class=\"sk-toggleable__content\"><pre>RandomForestClassifier(random_state=4)</pre></div></div></div><div class=\"sk-serial\"><div class=\"sk-item\"><div class=\"sk-estimator sk-toggleable\"><input class=\"sk-toggleable__control sk-hidden--visually\" id=\"sk-estimator-id-8\" type=\"checkbox\" ><label for=\"sk-estimator-id-8\" class=\"sk-toggleable__label sk-toggleable__label-arrow\">RandomForestClassifier</label><div class=\"sk-toggleable__content\"><pre>RandomForestClassifier(random_state=4)</pre></div></div></div></div></div></div></div></div></div></div>"
            ]
          },
          "metadata": {},
          "execution_count": 73
        }
      ]
    },
    {
      "cell_type": "code",
      "source": [
        "gscv_rfc.best_params_"
      ],
      "metadata": {
        "execution": {
          "iopub.status.busy": "2022-03-14T19:28:31.843664Z",
          "iopub.execute_input": "2022-03-14T19:28:31.843924Z",
          "iopub.status.idle": "2022-03-14T19:28:31.850447Z",
          "shell.execute_reply.started": "2022-03-14T19:28:31.843891Z",
          "shell.execute_reply": "2022-03-14T19:28:31.849622Z"
        },
        "trusted": true,
        "colab": {
          "base_uri": "https://localhost:8080/"
        },
        "id": "_R4ClEmgcec3",
        "outputId": "a2aeb970-2b4b-4a67-d44f-c626ab9e4c5e"
      },
      "execution_count": null,
      "outputs": [
        {
          "output_type": "execute_result",
          "data": {
            "text/plain": [
              "{'max_depth': 7, 'min_samples_split': 50}"
            ]
          },
          "metadata": {},
          "execution_count": 74
        }
      ]
    },
    {
      "cell_type": "code",
      "source": [
        "rfc=RandomForestClassifier(criterion='gini',random_state=4,max_depth=7,min_samples_split=50)\n",
        "rfc.fit(X_train,y_train)"
      ],
      "metadata": {
        "execution": {
          "iopub.status.busy": "2022-03-14T19:28:31.851805Z",
          "iopub.execute_input": "2022-03-14T19:28:31.852256Z",
          "iopub.status.idle": "2022-03-14T19:28:33.545085Z",
          "shell.execute_reply.started": "2022-03-14T19:28:31.852223Z",
          "shell.execute_reply": "2022-03-14T19:28:33.544132Z"
        },
        "trusted": true,
        "colab": {
          "base_uri": "https://localhost:8080/",
          "height": 75
        },
        "id": "zocAqwLucec4",
        "outputId": "aa69143c-61a3-4411-f904-ae0ecedbf0da"
      },
      "execution_count": null,
      "outputs": [
        {
          "output_type": "execute_result",
          "data": {
            "text/plain": [
              "RandomForestClassifier(max_depth=7, min_samples_split=50, random_state=4)"
            ],
            "text/html": [
              "<style>#sk-container-id-5 {color: black;background-color: white;}#sk-container-id-5 pre{padding: 0;}#sk-container-id-5 div.sk-toggleable {background-color: white;}#sk-container-id-5 label.sk-toggleable__label {cursor: pointer;display: block;width: 100%;margin-bottom: 0;padding: 0.3em;box-sizing: border-box;text-align: center;}#sk-container-id-5 label.sk-toggleable__label-arrow:before {content: \"▸\";float: left;margin-right: 0.25em;color: #696969;}#sk-container-id-5 label.sk-toggleable__label-arrow:hover:before {color: black;}#sk-container-id-5 div.sk-estimator:hover label.sk-toggleable__label-arrow:before {color: black;}#sk-container-id-5 div.sk-toggleable__content {max-height: 0;max-width: 0;overflow: hidden;text-align: left;background-color: #f0f8ff;}#sk-container-id-5 div.sk-toggleable__content pre {margin: 0.2em;color: black;border-radius: 0.25em;background-color: #f0f8ff;}#sk-container-id-5 input.sk-toggleable__control:checked~div.sk-toggleable__content {max-height: 200px;max-width: 100%;overflow: auto;}#sk-container-id-5 input.sk-toggleable__control:checked~label.sk-toggleable__label-arrow:before {content: \"▾\";}#sk-container-id-5 div.sk-estimator input.sk-toggleable__control:checked~label.sk-toggleable__label {background-color: #d4ebff;}#sk-container-id-5 div.sk-label input.sk-toggleable__control:checked~label.sk-toggleable__label {background-color: #d4ebff;}#sk-container-id-5 input.sk-hidden--visually {border: 0;clip: rect(1px 1px 1px 1px);clip: rect(1px, 1px, 1px, 1px);height: 1px;margin: -1px;overflow: hidden;padding: 0;position: absolute;width: 1px;}#sk-container-id-5 div.sk-estimator {font-family: monospace;background-color: #f0f8ff;border: 1px dotted black;border-radius: 0.25em;box-sizing: border-box;margin-bottom: 0.5em;}#sk-container-id-5 div.sk-estimator:hover {background-color: #d4ebff;}#sk-container-id-5 div.sk-parallel-item::after {content: \"\";width: 100%;border-bottom: 1px solid gray;flex-grow: 1;}#sk-container-id-5 div.sk-label:hover label.sk-toggleable__label {background-color: #d4ebff;}#sk-container-id-5 div.sk-serial::before {content: \"\";position: absolute;border-left: 1px solid gray;box-sizing: border-box;top: 0;bottom: 0;left: 50%;z-index: 0;}#sk-container-id-5 div.sk-serial {display: flex;flex-direction: column;align-items: center;background-color: white;padding-right: 0.2em;padding-left: 0.2em;position: relative;}#sk-container-id-5 div.sk-item {position: relative;z-index: 1;}#sk-container-id-5 div.sk-parallel {display: flex;align-items: stretch;justify-content: center;background-color: white;position: relative;}#sk-container-id-5 div.sk-item::before, #sk-container-id-5 div.sk-parallel-item::before {content: \"\";position: absolute;border-left: 1px solid gray;box-sizing: border-box;top: 0;bottom: 0;left: 50%;z-index: -1;}#sk-container-id-5 div.sk-parallel-item {display: flex;flex-direction: column;z-index: 1;position: relative;background-color: white;}#sk-container-id-5 div.sk-parallel-item:first-child::after {align-self: flex-end;width: 50%;}#sk-container-id-5 div.sk-parallel-item:last-child::after {align-self: flex-start;width: 50%;}#sk-container-id-5 div.sk-parallel-item:only-child::after {width: 0;}#sk-container-id-5 div.sk-dashed-wrapped {border: 1px dashed gray;margin: 0 0.4em 0.5em 0.4em;box-sizing: border-box;padding-bottom: 0.4em;background-color: white;}#sk-container-id-5 div.sk-label label {font-family: monospace;font-weight: bold;display: inline-block;line-height: 1.2em;}#sk-container-id-5 div.sk-label-container {text-align: center;}#sk-container-id-5 div.sk-container {/* jupyter's `normalize.less` sets `[hidden] { display: none; }` but bootstrap.min.css set `[hidden] { display: none !important; }` so we also need the `!important` here to be able to override the default hidden behavior on the sphinx rendered scikit-learn.org. See: https://github.com/scikit-learn/scikit-learn/issues/21755 */display: inline-block !important;position: relative;}#sk-container-id-5 div.sk-text-repr-fallback {display: none;}</style><div id=\"sk-container-id-5\" class=\"sk-top-container\"><div class=\"sk-text-repr-fallback\"><pre>RandomForestClassifier(max_depth=7, min_samples_split=50, random_state=4)</pre><b>In a Jupyter environment, please rerun this cell to show the HTML representation or trust the notebook. <br />On GitHub, the HTML representation is unable to render, please try loading this page with nbviewer.org.</b></div><div class=\"sk-container\" hidden><div class=\"sk-item\"><div class=\"sk-estimator sk-toggleable\"><input class=\"sk-toggleable__control sk-hidden--visually\" id=\"sk-estimator-id-9\" type=\"checkbox\" checked><label for=\"sk-estimator-id-9\" class=\"sk-toggleable__label sk-toggleable__label-arrow\">RandomForestClassifier</label><div class=\"sk-toggleable__content\"><pre>RandomForestClassifier(max_depth=7, min_samples_split=50, random_state=4)</pre></div></div></div></div></div>"
            ]
          },
          "metadata": {},
          "execution_count": 75
        }
      ]
    },
    {
      "cell_type": "markdown",
      "source": [
        "## Model Evaluation"
      ],
      "metadata": {
        "id": "gRQuBJZocec4"
      }
    },
    {
      "cell_type": "code",
      "source": [
        "y_pred_lr=lr.predict(X_test)\n",
        "y_pred_dtc=dtc.predict(X_test)\n",
        "y_pred_rfc=rfc.predict(X_test)"
      ],
      "metadata": {
        "execution": {
          "iopub.status.busy": "2022-03-14T19:28:33.54647Z",
          "iopub.execute_input": "2022-03-14T19:28:33.546735Z",
          "iopub.status.idle": "2022-03-14T19:28:33.761475Z",
          "shell.execute_reply.started": "2022-03-14T19:28:33.546704Z",
          "shell.execute_reply": "2022-03-14T19:28:33.760541Z"
        },
        "trusted": true,
        "id": "HeBx27-mcec4"
      },
      "execution_count": null,
      "outputs": []
    },
    {
      "cell_type": "code",
      "source": [
        "from sklearn import metrics\n",
        "from sklearn.metrics import confusion_matrix"
      ],
      "metadata": {
        "execution": {
          "iopub.status.busy": "2022-03-14T19:28:33.763189Z",
          "iopub.execute_input": "2022-03-14T19:28:33.763561Z",
          "iopub.status.idle": "2022-03-14T19:28:33.768276Z",
          "shell.execute_reply.started": "2022-03-14T19:28:33.763516Z",
          "shell.execute_reply": "2022-03-14T19:28:33.767282Z"
        },
        "trusted": true,
        "id": "cbhIIPc8cec5"
      },
      "execution_count": null,
      "outputs": []
    },
    {
      "cell_type": "code",
      "source": [
        "print('Logistic Regression Metrics')\n",
        "print('Accuracy:', metrics.accuracy_score(y_test, y_pred_lr))\n",
        "print('Precision:', metrics.precision_score(y_test, y_pred_lr))\n",
        "print('Recall:', metrics.recall_score(y_test, y_pred_lr))\n",
        "print('f1_score:', metrics.f1_score(y_test, y_pred_lr))"
      ],
      "metadata": {
        "execution": {
          "iopub.status.busy": "2022-03-14T19:28:33.769765Z",
          "iopub.execute_input": "2022-03-14T19:28:33.77039Z",
          "iopub.status.idle": "2022-03-14T19:28:33.801927Z",
          "shell.execute_reply.started": "2022-03-14T19:28:33.770351Z",
          "shell.execute_reply": "2022-03-14T19:28:33.800842Z"
        },
        "trusted": true,
        "colab": {
          "base_uri": "https://localhost:8080/"
        },
        "id": "BfTPeH6bcec5",
        "outputId": "40d277e7-1fe8-47d7-b8e8-73701b42bc25"
      },
      "execution_count": null,
      "outputs": [
        {
          "output_type": "stream",
          "name": "stdout",
          "text": [
            "Logistic Regression Metrics\n",
            "Accuracy: 0.929623944742901\n",
            "Precision: 0.5581395348837209\n",
            "Recall: 0.07725321888412018\n",
            "f1_score: 0.1357210179076343\n"
          ]
        }
      ]
    },
    {
      "cell_type": "code",
      "source": [
        "print('Decision Tree Metrics')\n",
        "print('Accuracy:', metrics.accuracy_score(y_test, y_pred_dtc))\n",
        "print('Precision:', metrics.precision_score(y_test, y_pred_dtc))\n",
        "print('Recall:', metrics.recall_score(y_test, y_pred_dtc))\n",
        "print('f1_score:', metrics.f1_score(y_test, y_pred_dtc))"
      ],
      "metadata": {
        "execution": {
          "iopub.status.busy": "2022-03-14T19:28:34.065891Z",
          "iopub.execute_input": "2022-03-14T19:28:34.066261Z",
          "iopub.status.idle": "2022-03-14T19:28:34.087936Z",
          "shell.execute_reply.started": "2022-03-14T19:28:34.06623Z",
          "shell.execute_reply": "2022-03-14T19:28:34.087063Z"
        },
        "trusted": true,
        "colab": {
          "base_uri": "https://localhost:8080/"
        },
        "id": "VCBtehjBcec5",
        "outputId": "342b4bca-b6fa-45c4-bd61-1c45e53c2aea"
      },
      "execution_count": null,
      "outputs": [
        {
          "output_type": "stream",
          "name": "stdout",
          "text": [
            "Decision Tree Metrics\n",
            "Accuracy: 0.9323100537221796\n",
            "Precision: 0.6865671641791045\n",
            "Recall: 0.09871244635193133\n",
            "f1_score: 0.1726078799249531\n"
          ]
        }
      ]
    },
    {
      "cell_type": "code",
      "source": [
        "print('Random Forest Metrics')\n",
        "print('Accuracy:', metrics.accuracy_score(y_test, y_pred_rfc))\n",
        "print('Precision:', metrics.precision_score(y_test, y_pred_rfc))\n",
        "print('Recall:', metrics.recall_score(y_test, y_pred_rfc))\n",
        "print('f1_score:', metrics.f1_score(y_test, y_pred_rfc))"
      ],
      "metadata": {
        "execution": {
          "iopub.status.busy": "2022-03-14T19:28:34.344868Z",
          "iopub.execute_input": "2022-03-14T19:28:34.345198Z",
          "iopub.status.idle": "2022-03-14T19:28:34.36972Z",
          "shell.execute_reply.started": "2022-03-14T19:28:34.345165Z",
          "shell.execute_reply": "2022-03-14T19:28:34.368785Z"
        },
        "trusted": true,
        "colab": {
          "base_uri": "https://localhost:8080/"
        },
        "id": "h-BXRbYOcec6",
        "outputId": "76ca8118-625e-43ac-ec3a-d07b1f9e289b"
      },
      "execution_count": null,
      "outputs": [
        {
          "output_type": "stream",
          "name": "stdout",
          "text": [
            "Random Forest Metrics\n",
            "Accuracy: 0.930775134305449\n",
            "Precision: 1.0\n",
            "Recall: 0.032188841201716736\n",
            "f1_score: 0.06237006237006236\n"
          ]
        }
      ]
    }
  ]
}